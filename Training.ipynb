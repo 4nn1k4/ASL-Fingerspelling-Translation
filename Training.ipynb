{
 "cells": [
  {
   "cell_type": "code",
   "execution_count": 1,
   "metadata": {
    "collapsed": true,
    "ExecuteTime": {
     "end_time": "2023-06-20T21:15:58.931337100Z",
     "start_time": "2023-06-20T21:15:33.881793300Z"
    }
   },
   "outputs": [],
   "source": [
    "import pickle\n",
    "\n",
    "with open('./dataset complete/train_test_data/train_data.pkl', 'rb') as file:\n",
    "    train_data = pickle.load(file)\n",
    "train_inputs, train_contexts = train_data[0]\n",
    "train_tagets = train_data[1]\n",
    "del train_data"
   ]
  },
  {
   "cell_type": "code",
   "execution_count": 8,
   "outputs": [
    {
     "data": {
      "text/plain": "217"
     },
     "execution_count": 8,
     "metadata": {},
     "output_type": "execute_result"
    }
   ],
   "source": [
    "with open('./dataset complete/preprocessed_files/5414471.pkl', 'rb') as file:\n",
    "    train_data = pickle.load(file)\n",
    "train_data.iloc[100]['participant_id']"
   ],
   "metadata": {
    "collapsed": false,
    "ExecuteTime": {
     "end_time": "2023-07-02T15:50:51.235936300Z",
     "start_time": "2023-07-02T15:50:51.187387700Z"
    }
   }
  },
  {
   "cell_type": "code",
   "execution_count": 2,
   "outputs": [],
   "source": [
    "with open('./dataset complete/train_test_data/test_data.pkl', 'rb') as file:\n",
    "    test_data = pickle.load(file)\n",
    "test_inputs, test_contexts = test_data[0]\n",
    "test_tagets = test_data[1]\n",
    "del test_data"
   ],
   "metadata": {
    "collapsed": false,
    "ExecuteTime": {
     "end_time": "2023-06-20T21:16:07.213214Z",
     "start_time": "2023-06-20T21:15:58.948352800Z"
    }
   }
  },
  {
   "cell_type": "code",
   "execution_count": 2,
   "outputs": [],
   "source": [
    "import json\n",
    "\n",
    "with open (\"./dataset complete/character_to_prediction_index.json\", \"r\") as f:\n",
    "    characters = json.load(f)\n",
    "\n",
    "# TODO: tune hyperparameters\n",
    "EPOCHS = 20\n",
    "BATCH_SIZE=64\n",
    "d_model = 128  # hidden layer(s) dimensionality\n",
    "num_layers = 4 # how many encoders and decoders to stack\n",
    "num_heads = 7 # how many attention heads should every mha have\n",
    "ff_dim = 200 # how many neurons shall feed-forward layers have\n",
    "dropout_rate = 0.1\n",
    "\n",
    "output_vocab_size = len(characters) + 2"
   ],
   "metadata": {
    "collapsed": false,
    "ExecuteTime": {
     "end_time": "2023-06-26T09:47:49.760488300Z",
     "start_time": "2023-06-26T09:47:49.732463300Z"
    }
   }
  },
  {
   "cell_type": "code",
   "execution_count": 4,
   "outputs": [],
   "source": [
    "from transformer import get_compiled_transformer\n",
    "\n",
    "transformer = get_compiled_transformer(\n",
    "    d_model=d_model,\n",
    "    num_layers=num_layers,\n",
    "    num_heads=num_heads,\n",
    "    ff_dim=ff_dim,\n",
    "    dropout_rate=dropout_rate,\n",
    "    output_vocab_size=output_vocab_size\n",
    ")"
   ],
   "metadata": {
    "collapsed": false,
    "ExecuteTime": {
     "end_time": "2023-06-26T09:48:13.245099100Z",
     "start_time": "2023-06-26T09:48:13.177533300Z"
    }
   }
  },
  {
   "cell_type": "code",
   "execution_count": 5,
   "outputs": [
    {
     "name": "stdout",
     "output_type": "stream",
     "text": [
      "Num GPUs Available:  1\n"
     ]
    }
   ],
   "source": [
    "import tensorflow as tf\n",
    "\n",
    "print(\"Num GPUs Available: \", len(tf.config.list_physical_devices('GPU')))"
   ],
   "metadata": {
    "collapsed": false,
    "ExecuteTime": {
     "end_time": "2023-06-26T09:48:16.069771600Z",
     "start_time": "2023-06-26T09:48:16.053756300Z"
    }
   }
  },
  {
   "cell_type": "code",
   "execution_count": 6,
   "outputs": [
    {
     "name": "stdout",
     "output_type": "stream",
     "text": [
      "Epoch 1/20\n"
     ]
    },
    {
     "ename": "ResourceExhaustedError",
     "evalue": "Graph execution error:\n\nDetected at node 'transformer/encoder/encoder_layer_2/global_self_attention_2/multi_head_attention_2/einsum/Einsum' defined at (most recent call last):\n    File \"C:\\Users\\WG\\miniconda3\\envs\\PML_Projekt\\lib\\runpy.py\", line 197, in _run_module_as_main\n      return _run_code(code, main_globals, None,\n    File \"C:\\Users\\WG\\miniconda3\\envs\\PML_Projekt\\lib\\runpy.py\", line 87, in _run_code\n      exec(code, run_globals)\n    File \"C:\\Users\\WG\\miniconda3\\envs\\PML_Projekt\\lib\\site-packages\\ipykernel_launcher.py\", line 17, in <module>\n      app.launch_new_instance()\n    File \"C:\\Users\\WG\\miniconda3\\envs\\PML_Projekt\\lib\\site-packages\\traitlets\\config\\application.py\", line 992, in launch_instance\n      app.start()\n    File \"C:\\Users\\WG\\miniconda3\\envs\\PML_Projekt\\lib\\site-packages\\ipykernel\\kernelapp.py\", line 711, in start\n      self.io_loop.start()\n    File \"C:\\Users\\WG\\miniconda3\\envs\\PML_Projekt\\lib\\site-packages\\tornado\\platform\\asyncio.py\", line 215, in start\n      self.asyncio_loop.run_forever()\n    File \"C:\\Users\\WG\\miniconda3\\envs\\PML_Projekt\\lib\\asyncio\\base_events.py\", line 601, in run_forever\n      self._run_once()\n    File \"C:\\Users\\WG\\miniconda3\\envs\\PML_Projekt\\lib\\asyncio\\base_events.py\", line 1905, in _run_once\n      handle._run()\n    File \"C:\\Users\\WG\\miniconda3\\envs\\PML_Projekt\\lib\\asyncio\\events.py\", line 80, in _run\n      self._context.run(self._callback, *self._args)\n    File \"C:\\Users\\WG\\miniconda3\\envs\\PML_Projekt\\lib\\site-packages\\ipykernel\\kernelbase.py\", line 510, in dispatch_queue\n      await self.process_one()\n    File \"C:\\Users\\WG\\miniconda3\\envs\\PML_Projekt\\lib\\site-packages\\ipykernel\\kernelbase.py\", line 499, in process_one\n      await dispatch(*args)\n    File \"C:\\Users\\WG\\miniconda3\\envs\\PML_Projekt\\lib\\site-packages\\ipykernel\\kernelbase.py\", line 406, in dispatch_shell\n      await result\n    File \"C:\\Users\\WG\\miniconda3\\envs\\PML_Projekt\\lib\\site-packages\\ipykernel\\kernelbase.py\", line 729, in execute_request\n      reply_content = await reply_content\n    File \"C:\\Users\\WG\\miniconda3\\envs\\PML_Projekt\\lib\\site-packages\\ipykernel\\ipkernel.py\", line 411, in do_execute\n      res = shell.run_cell(\n    File \"C:\\Users\\WG\\miniconda3\\envs\\PML_Projekt\\lib\\site-packages\\ipykernel\\zmqshell.py\", line 531, in run_cell\n      return super().run_cell(*args, **kwargs)\n    File \"C:\\Users\\WG\\miniconda3\\envs\\PML_Projekt\\lib\\site-packages\\IPython\\core\\interactiveshell.py\", line 2945, in run_cell\n      result = self._run_cell(\n    File \"C:\\Users\\WG\\miniconda3\\envs\\PML_Projekt\\lib\\site-packages\\IPython\\core\\interactiveshell.py\", line 3000, in _run_cell\n      return runner(coro)\n    File \"C:\\Users\\WG\\miniconda3\\envs\\PML_Projekt\\lib\\site-packages\\IPython\\core\\async_helpers.py\", line 129, in _pseudo_sync_runner\n      coro.send(None)\n    File \"C:\\Users\\WG\\miniconda3\\envs\\PML_Projekt\\lib\\site-packages\\IPython\\core\\interactiveshell.py\", line 3203, in run_cell_async\n      has_raised = await self.run_ast_nodes(code_ast.body, cell_name,\n    File \"C:\\Users\\WG\\miniconda3\\envs\\PML_Projekt\\lib\\site-packages\\IPython\\core\\interactiveshell.py\", line 3382, in run_ast_nodes\n      if await self.run_code(code, result, async_=asy):\n    File \"C:\\Users\\WG\\miniconda3\\envs\\PML_Projekt\\lib\\site-packages\\IPython\\core\\interactiveshell.py\", line 3442, in run_code\n      exec(code_obj, self.user_global_ns, self.user_ns)\n    File \"C:\\Users\\WG\\AppData\\Local\\Temp\\ipykernel_9852\\1805447703.py\", line 10, in <module>\n      history = transformer.fit([train_inputs[:100], train_contexts[:100]], train_tagets[:100], epochs=EPOCHS, batch_size=BATCH_SIZE, validation_split=0.1, callbacks=[cp_callback, es_callback])\n    File \"C:\\Users\\WG\\miniconda3\\envs\\PML_Projekt\\lib\\site-packages\\keras\\utils\\traceback_utils.py\", line 65, in error_handler\n      return fn(*args, **kwargs)\n    File \"C:\\Users\\WG\\miniconda3\\envs\\PML_Projekt\\lib\\site-packages\\keras\\engine\\training.py\", line 1564, in fit\n      tmp_logs = self.train_function(iterator)\n    File \"C:\\Users\\WG\\miniconda3\\envs\\PML_Projekt\\lib\\site-packages\\keras\\engine\\training.py\", line 1160, in train_function\n      return step_function(self, iterator)\n    File \"C:\\Users\\WG\\miniconda3\\envs\\PML_Projekt\\lib\\site-packages\\keras\\engine\\training.py\", line 1146, in step_function\n      outputs = model.distribute_strategy.run(run_step, args=(data,))\n    File \"C:\\Users\\WG\\miniconda3\\envs\\PML_Projekt\\lib\\site-packages\\keras\\engine\\training.py\", line 1135, in run_step\n      outputs = model.train_step(data)\n    File \"C:\\Users\\WG\\miniconda3\\envs\\PML_Projekt\\lib\\site-packages\\keras\\engine\\training.py\", line 993, in train_step\n      y_pred = self(x, training=True)\n    File \"C:\\Users\\WG\\miniconda3\\envs\\PML_Projekt\\lib\\site-packages\\keras\\utils\\traceback_utils.py\", line 65, in error_handler\n      return fn(*args, **kwargs)\n    File \"C:\\Users\\WG\\miniconda3\\envs\\PML_Projekt\\lib\\site-packages\\keras\\engine\\training.py\", line 557, in __call__\n      return super().__call__(*args, **kwargs)\n    File \"C:\\Users\\WG\\miniconda3\\envs\\PML_Projekt\\lib\\site-packages\\keras\\utils\\traceback_utils.py\", line 65, in error_handler\n      return fn(*args, **kwargs)\n    File \"C:\\Users\\WG\\miniconda3\\envs\\PML_Projekt\\lib\\site-packages\\keras\\engine\\base_layer.py\", line 1097, in __call__\n      outputs = call_fn(inputs, *args, **kwargs)\n    File \"C:\\Users\\WG\\miniconda3\\envs\\PML_Projekt\\lib\\site-packages\\keras\\utils\\traceback_utils.py\", line 96, in error_handler\n      return fn(*args, **kwargs)\n    File \"C:\\Users\\WG\\Documents\\PML Projekt\\transformer.py\", line 231, in call\n      x_enc = self.encoder(mp_data)\n    File \"C:\\Users\\WG\\miniconda3\\envs\\PML_Projekt\\lib\\site-packages\\keras\\utils\\traceback_utils.py\", line 65, in error_handler\n      return fn(*args, **kwargs)\n    File \"C:\\Users\\WG\\miniconda3\\envs\\PML_Projekt\\lib\\site-packages\\keras\\engine\\base_layer.py\", line 1097, in __call__\n      outputs = call_fn(inputs, *args, **kwargs)\n    File \"C:\\Users\\WG\\miniconda3\\envs\\PML_Projekt\\lib\\site-packages\\keras\\utils\\traceback_utils.py\", line 96, in error_handler\n      return fn(*args, **kwargs)\n    File \"C:\\Users\\WG\\Documents\\PML Projekt\\transformer.py\", line 160, in call\n      for i in range(self.num_layers):\n    File \"C:\\Users\\WG\\Documents\\PML Projekt\\transformer.py\", line 161, in call\n      x = self.enc_layers[i](x)\n    File \"C:\\Users\\WG\\miniconda3\\envs\\PML_Projekt\\lib\\site-packages\\keras\\utils\\traceback_utils.py\", line 65, in error_handler\n      return fn(*args, **kwargs)\n    File \"C:\\Users\\WG\\miniconda3\\envs\\PML_Projekt\\lib\\site-packages\\keras\\engine\\base_layer.py\", line 1097, in __call__\n      outputs = call_fn(inputs, *args, **kwargs)\n    File \"C:\\Users\\WG\\miniconda3\\envs\\PML_Projekt\\lib\\site-packages\\keras\\utils\\traceback_utils.py\", line 96, in error_handler\n      return fn(*args, **kwargs)\n    File \"C:\\Users\\WG\\Documents\\PML Projekt\\transformer.py\", line 130, in call\n      x = self.self_attention(x)\n    File \"C:\\Users\\WG\\miniconda3\\envs\\PML_Projekt\\lib\\site-packages\\keras\\utils\\traceback_utils.py\", line 65, in error_handler\n      return fn(*args, **kwargs)\n    File \"C:\\Users\\WG\\miniconda3\\envs\\PML_Projekt\\lib\\site-packages\\keras\\engine\\base_layer.py\", line 1097, in __call__\n      outputs = call_fn(inputs, *args, **kwargs)\n    File \"C:\\Users\\WG\\miniconda3\\envs\\PML_Projekt\\lib\\site-packages\\keras\\utils\\traceback_utils.py\", line 96, in error_handler\n      return fn(*args, **kwargs)\n    File \"C:\\Users\\WG\\Documents\\PML Projekt\\transformer.py\", line 78, in call\n      attn_output = self.mha(\n    File \"C:\\Users\\WG\\miniconda3\\envs\\PML_Projekt\\lib\\site-packages\\keras\\utils\\traceback_utils.py\", line 65, in error_handler\n      return fn(*args, **kwargs)\n    File \"C:\\Users\\WG\\miniconda3\\envs\\PML_Projekt\\lib\\site-packages\\keras\\engine\\base_layer.py\", line 1097, in __call__\n      outputs = call_fn(inputs, *args, **kwargs)\n    File \"C:\\Users\\WG\\miniconda3\\envs\\PML_Projekt\\lib\\site-packages\\keras\\utils\\traceback_utils.py\", line 96, in error_handler\n      return fn(*args, **kwargs)\n    File \"C:\\Users\\WG\\miniconda3\\envs\\PML_Projekt\\lib\\site-packages\\keras\\layers\\attention\\multi_head_attention.py\", line 596, in call\n      attention_output, attention_scores = self._compute_attention(\n    File \"C:\\Users\\WG\\miniconda3\\envs\\PML_Projekt\\lib\\site-packages\\keras\\layers\\attention\\multi_head_attention.py\", line 525, in _compute_attention\n      attention_scores = tf.einsum(self._dot_product_equation, key, query)\nNode: 'transformer/encoder/encoder_layer_2/global_self_attention_2/multi_head_attention_2/einsum/Einsum'\nOOM when allocating tensor with shape[64,7,900,900] and type float on /job:localhost/replica:0/task:0/device:GPU:0 by allocator GPU_0_bfc\n\t [[{{node transformer/encoder/encoder_layer_2/global_self_attention_2/multi_head_attention_2/einsum/Einsum}}]]\nHint: If you want to see a list of allocated tensors when OOM happens, add report_tensor_allocations_upon_oom to RunOptions for current allocation info. This isn't available when running in Eager mode.\n [Op:__inference_train_function_13427]",
     "output_type": "error",
     "traceback": [
      "\u001B[1;31m---------------------------------------------------------------------------\u001B[0m",
      "\u001B[1;31mResourceExhaustedError\u001B[0m                    Traceback (most recent call last)",
      "Cell \u001B[1;32mIn[6], line 10\u001B[0m\n\u001B[0;32m      1\u001B[0m cp_callback \u001B[38;5;241m=\u001B[39m tf\u001B[38;5;241m.\u001B[39mkeras\u001B[38;5;241m.\u001B[39mcallbacks\u001B[38;5;241m.\u001B[39mModelCheckpoint(\n\u001B[0;32m      2\u001B[0m     filepath\u001B[38;5;241m=\u001B[39m\u001B[38;5;124m\"\u001B[39m\u001B[38;5;124mmodel_checkpoints/cp-\u001B[39m\u001B[38;5;132;01m{epoch:04d}\u001B[39;00m\u001B[38;5;124m.ckpt\u001B[39m\u001B[38;5;124m\"\u001B[39m, save_weights_only\u001B[38;5;241m=\u001B[39m\u001B[38;5;28;01mTrue\u001B[39;00m, verbose\u001B[38;5;241m=\u001B[39m\u001B[38;5;241m1\u001B[39m\n\u001B[0;32m      3\u001B[0m )\n\u001B[0;32m      4\u001B[0m es_callback \u001B[38;5;241m=\u001B[39m tf\u001B[38;5;241m.\u001B[39mkeras\u001B[38;5;241m.\u001B[39mcallbacks\u001B[38;5;241m.\u001B[39mEarlyStopping(\n\u001B[0;32m      5\u001B[0m     monitor\u001B[38;5;241m=\u001B[39m\u001B[38;5;124m'\u001B[39m\u001B[38;5;124mval_loss\u001B[39m\u001B[38;5;124m'\u001B[39m,\n\u001B[0;32m      6\u001B[0m     patience\u001B[38;5;241m=\u001B[39m\u001B[38;5;241m2\u001B[39m,\n\u001B[0;32m      7\u001B[0m     restore_best_weights\u001B[38;5;241m=\u001B[39m\u001B[38;5;28;01mTrue\u001B[39;00m\n\u001B[0;32m      8\u001B[0m )\n\u001B[1;32m---> 10\u001B[0m history \u001B[38;5;241m=\u001B[39m \u001B[43mtransformer\u001B[49m\u001B[38;5;241;43m.\u001B[39;49m\u001B[43mfit\u001B[49m\u001B[43m(\u001B[49m\u001B[43m[\u001B[49m\u001B[43mtrain_inputs\u001B[49m\u001B[43m[\u001B[49m\u001B[43m:\u001B[49m\u001B[38;5;241;43m100\u001B[39;49m\u001B[43m]\u001B[49m\u001B[43m,\u001B[49m\u001B[43m \u001B[49m\u001B[43mtrain_contexts\u001B[49m\u001B[43m[\u001B[49m\u001B[43m:\u001B[49m\u001B[38;5;241;43m100\u001B[39;49m\u001B[43m]\u001B[49m\u001B[43m]\u001B[49m\u001B[43m,\u001B[49m\u001B[43m \u001B[49m\u001B[43mtrain_tagets\u001B[49m\u001B[43m[\u001B[49m\u001B[43m:\u001B[49m\u001B[38;5;241;43m100\u001B[39;49m\u001B[43m]\u001B[49m\u001B[43m,\u001B[49m\u001B[43m \u001B[49m\u001B[43mepochs\u001B[49m\u001B[38;5;241;43m=\u001B[39;49m\u001B[43mEPOCHS\u001B[49m\u001B[43m,\u001B[49m\u001B[43m \u001B[49m\u001B[43mbatch_size\u001B[49m\u001B[38;5;241;43m=\u001B[39;49m\u001B[43mBATCH_SIZE\u001B[49m\u001B[43m,\u001B[49m\u001B[43m \u001B[49m\u001B[43mvalidation_split\u001B[49m\u001B[38;5;241;43m=\u001B[39;49m\u001B[38;5;241;43m0.1\u001B[39;49m\u001B[43m,\u001B[49m\u001B[43m \u001B[49m\u001B[43mcallbacks\u001B[49m\u001B[38;5;241;43m=\u001B[39;49m\u001B[43m[\u001B[49m\u001B[43mcp_callback\u001B[49m\u001B[43m,\u001B[49m\u001B[43m \u001B[49m\u001B[43mes_callback\u001B[49m\u001B[43m]\u001B[49m\u001B[43m)\u001B[49m\n\u001B[0;32m     12\u001B[0m transformer\u001B[38;5;241m.\u001B[39mevaluate([test_inputs[:\u001B[38;5;241m100\u001B[39m], test_contexts[:\u001B[38;5;241m100\u001B[39m]], test_tagets[:\u001B[38;5;241m100\u001B[39m], batch_size\u001B[38;5;241m=\u001B[39mBATCH_SIZE)\n",
      "File \u001B[1;32m~\\miniconda3\\envs\\PML_Projekt\\lib\\site-packages\\keras\\utils\\traceback_utils.py:70\u001B[0m, in \u001B[0;36mfilter_traceback.<locals>.error_handler\u001B[1;34m(*args, **kwargs)\u001B[0m\n\u001B[0;32m     67\u001B[0m     filtered_tb \u001B[38;5;241m=\u001B[39m _process_traceback_frames(e\u001B[38;5;241m.\u001B[39m__traceback__)\n\u001B[0;32m     68\u001B[0m     \u001B[38;5;66;03m# To get the full stack trace, call:\u001B[39;00m\n\u001B[0;32m     69\u001B[0m     \u001B[38;5;66;03m# `tf.debugging.disable_traceback_filtering()`\u001B[39;00m\n\u001B[1;32m---> 70\u001B[0m     \u001B[38;5;28;01mraise\u001B[39;00m e\u001B[38;5;241m.\u001B[39mwith_traceback(filtered_tb) \u001B[38;5;28;01mfrom\u001B[39;00m \u001B[38;5;28mNone\u001B[39m\n\u001B[0;32m     71\u001B[0m \u001B[38;5;28;01mfinally\u001B[39;00m:\n\u001B[0;32m     72\u001B[0m     \u001B[38;5;28;01mdel\u001B[39;00m filtered_tb\n",
      "File \u001B[1;32m~\\miniconda3\\envs\\PML_Projekt\\lib\\site-packages\\tensorflow\\python\\eager\\execute.py:54\u001B[0m, in \u001B[0;36mquick_execute\u001B[1;34m(op_name, num_outputs, inputs, attrs, ctx, name)\u001B[0m\n\u001B[0;32m     52\u001B[0m \u001B[38;5;28;01mtry\u001B[39;00m:\n\u001B[0;32m     53\u001B[0m   ctx\u001B[38;5;241m.\u001B[39mensure_initialized()\n\u001B[1;32m---> 54\u001B[0m   tensors \u001B[38;5;241m=\u001B[39m pywrap_tfe\u001B[38;5;241m.\u001B[39mTFE_Py_Execute(ctx\u001B[38;5;241m.\u001B[39m_handle, device_name, op_name,\n\u001B[0;32m     55\u001B[0m                                       inputs, attrs, num_outputs)\n\u001B[0;32m     56\u001B[0m \u001B[38;5;28;01mexcept\u001B[39;00m core\u001B[38;5;241m.\u001B[39m_NotOkStatusException \u001B[38;5;28;01mas\u001B[39;00m e:\n\u001B[0;32m     57\u001B[0m   \u001B[38;5;28;01mif\u001B[39;00m name \u001B[38;5;129;01mis\u001B[39;00m \u001B[38;5;129;01mnot\u001B[39;00m \u001B[38;5;28;01mNone\u001B[39;00m:\n",
      "\u001B[1;31mResourceExhaustedError\u001B[0m: Graph execution error:\n\nDetected at node 'transformer/encoder/encoder_layer_2/global_self_attention_2/multi_head_attention_2/einsum/Einsum' defined at (most recent call last):\n    File \"C:\\Users\\WG\\miniconda3\\envs\\PML_Projekt\\lib\\runpy.py\", line 197, in _run_module_as_main\n      return _run_code(code, main_globals, None,\n    File \"C:\\Users\\WG\\miniconda3\\envs\\PML_Projekt\\lib\\runpy.py\", line 87, in _run_code\n      exec(code, run_globals)\n    File \"C:\\Users\\WG\\miniconda3\\envs\\PML_Projekt\\lib\\site-packages\\ipykernel_launcher.py\", line 17, in <module>\n      app.launch_new_instance()\n    File \"C:\\Users\\WG\\miniconda3\\envs\\PML_Projekt\\lib\\site-packages\\traitlets\\config\\application.py\", line 992, in launch_instance\n      app.start()\n    File \"C:\\Users\\WG\\miniconda3\\envs\\PML_Projekt\\lib\\site-packages\\ipykernel\\kernelapp.py\", line 711, in start\n      self.io_loop.start()\n    File \"C:\\Users\\WG\\miniconda3\\envs\\PML_Projekt\\lib\\site-packages\\tornado\\platform\\asyncio.py\", line 215, in start\n      self.asyncio_loop.run_forever()\n    File \"C:\\Users\\WG\\miniconda3\\envs\\PML_Projekt\\lib\\asyncio\\base_events.py\", line 601, in run_forever\n      self._run_once()\n    File \"C:\\Users\\WG\\miniconda3\\envs\\PML_Projekt\\lib\\asyncio\\base_events.py\", line 1905, in _run_once\n      handle._run()\n    File \"C:\\Users\\WG\\miniconda3\\envs\\PML_Projekt\\lib\\asyncio\\events.py\", line 80, in _run\n      self._context.run(self._callback, *self._args)\n    File \"C:\\Users\\WG\\miniconda3\\envs\\PML_Projekt\\lib\\site-packages\\ipykernel\\kernelbase.py\", line 510, in dispatch_queue\n      await self.process_one()\n    File \"C:\\Users\\WG\\miniconda3\\envs\\PML_Projekt\\lib\\site-packages\\ipykernel\\kernelbase.py\", line 499, in process_one\n      await dispatch(*args)\n    File \"C:\\Users\\WG\\miniconda3\\envs\\PML_Projekt\\lib\\site-packages\\ipykernel\\kernelbase.py\", line 406, in dispatch_shell\n      await result\n    File \"C:\\Users\\WG\\miniconda3\\envs\\PML_Projekt\\lib\\site-packages\\ipykernel\\kernelbase.py\", line 729, in execute_request\n      reply_content = await reply_content\n    File \"C:\\Users\\WG\\miniconda3\\envs\\PML_Projekt\\lib\\site-packages\\ipykernel\\ipkernel.py\", line 411, in do_execute\n      res = shell.run_cell(\n    File \"C:\\Users\\WG\\miniconda3\\envs\\PML_Projekt\\lib\\site-packages\\ipykernel\\zmqshell.py\", line 531, in run_cell\n      return super().run_cell(*args, **kwargs)\n    File \"C:\\Users\\WG\\miniconda3\\envs\\PML_Projekt\\lib\\site-packages\\IPython\\core\\interactiveshell.py\", line 2945, in run_cell\n      result = self._run_cell(\n    File \"C:\\Users\\WG\\miniconda3\\envs\\PML_Projekt\\lib\\site-packages\\IPython\\core\\interactiveshell.py\", line 3000, in _run_cell\n      return runner(coro)\n    File \"C:\\Users\\WG\\miniconda3\\envs\\PML_Projekt\\lib\\site-packages\\IPython\\core\\async_helpers.py\", line 129, in _pseudo_sync_runner\n      coro.send(None)\n    File \"C:\\Users\\WG\\miniconda3\\envs\\PML_Projekt\\lib\\site-packages\\IPython\\core\\interactiveshell.py\", line 3203, in run_cell_async\n      has_raised = await self.run_ast_nodes(code_ast.body, cell_name,\n    File \"C:\\Users\\WG\\miniconda3\\envs\\PML_Projekt\\lib\\site-packages\\IPython\\core\\interactiveshell.py\", line 3382, in run_ast_nodes\n      if await self.run_code(code, result, async_=asy):\n    File \"C:\\Users\\WG\\miniconda3\\envs\\PML_Projekt\\lib\\site-packages\\IPython\\core\\interactiveshell.py\", line 3442, in run_code\n      exec(code_obj, self.user_global_ns, self.user_ns)\n    File \"C:\\Users\\WG\\AppData\\Local\\Temp\\ipykernel_9852\\1805447703.py\", line 10, in <module>\n      history = transformer.fit([train_inputs[:100], train_contexts[:100]], train_tagets[:100], epochs=EPOCHS, batch_size=BATCH_SIZE, validation_split=0.1, callbacks=[cp_callback, es_callback])\n    File \"C:\\Users\\WG\\miniconda3\\envs\\PML_Projekt\\lib\\site-packages\\keras\\utils\\traceback_utils.py\", line 65, in error_handler\n      return fn(*args, **kwargs)\n    File \"C:\\Users\\WG\\miniconda3\\envs\\PML_Projekt\\lib\\site-packages\\keras\\engine\\training.py\", line 1564, in fit\n      tmp_logs = self.train_function(iterator)\n    File \"C:\\Users\\WG\\miniconda3\\envs\\PML_Projekt\\lib\\site-packages\\keras\\engine\\training.py\", line 1160, in train_function\n      return step_function(self, iterator)\n    File \"C:\\Users\\WG\\miniconda3\\envs\\PML_Projekt\\lib\\site-packages\\keras\\engine\\training.py\", line 1146, in step_function\n      outputs = model.distribute_strategy.run(run_step, args=(data,))\n    File \"C:\\Users\\WG\\miniconda3\\envs\\PML_Projekt\\lib\\site-packages\\keras\\engine\\training.py\", line 1135, in run_step\n      outputs = model.train_step(data)\n    File \"C:\\Users\\WG\\miniconda3\\envs\\PML_Projekt\\lib\\site-packages\\keras\\engine\\training.py\", line 993, in train_step\n      y_pred = self(x, training=True)\n    File \"C:\\Users\\WG\\miniconda3\\envs\\PML_Projekt\\lib\\site-packages\\keras\\utils\\traceback_utils.py\", line 65, in error_handler\n      return fn(*args, **kwargs)\n    File \"C:\\Users\\WG\\miniconda3\\envs\\PML_Projekt\\lib\\site-packages\\keras\\engine\\training.py\", line 557, in __call__\n      return super().__call__(*args, **kwargs)\n    File \"C:\\Users\\WG\\miniconda3\\envs\\PML_Projekt\\lib\\site-packages\\keras\\utils\\traceback_utils.py\", line 65, in error_handler\n      return fn(*args, **kwargs)\n    File \"C:\\Users\\WG\\miniconda3\\envs\\PML_Projekt\\lib\\site-packages\\keras\\engine\\base_layer.py\", line 1097, in __call__\n      outputs = call_fn(inputs, *args, **kwargs)\n    File \"C:\\Users\\WG\\miniconda3\\envs\\PML_Projekt\\lib\\site-packages\\keras\\utils\\traceback_utils.py\", line 96, in error_handler\n      return fn(*args, **kwargs)\n    File \"C:\\Users\\WG\\Documents\\PML Projekt\\transformer.py\", line 231, in call\n      x_enc = self.encoder(mp_data)\n    File \"C:\\Users\\WG\\miniconda3\\envs\\PML_Projekt\\lib\\site-packages\\keras\\utils\\traceback_utils.py\", line 65, in error_handler\n      return fn(*args, **kwargs)\n    File \"C:\\Users\\WG\\miniconda3\\envs\\PML_Projekt\\lib\\site-packages\\keras\\engine\\base_layer.py\", line 1097, in __call__\n      outputs = call_fn(inputs, *args, **kwargs)\n    File \"C:\\Users\\WG\\miniconda3\\envs\\PML_Projekt\\lib\\site-packages\\keras\\utils\\traceback_utils.py\", line 96, in error_handler\n      return fn(*args, **kwargs)\n    File \"C:\\Users\\WG\\Documents\\PML Projekt\\transformer.py\", line 160, in call\n      for i in range(self.num_layers):\n    File \"C:\\Users\\WG\\Documents\\PML Projekt\\transformer.py\", line 161, in call\n      x = self.enc_layers[i](x)\n    File \"C:\\Users\\WG\\miniconda3\\envs\\PML_Projekt\\lib\\site-packages\\keras\\utils\\traceback_utils.py\", line 65, in error_handler\n      return fn(*args, **kwargs)\n    File \"C:\\Users\\WG\\miniconda3\\envs\\PML_Projekt\\lib\\site-packages\\keras\\engine\\base_layer.py\", line 1097, in __call__\n      outputs = call_fn(inputs, *args, **kwargs)\n    File \"C:\\Users\\WG\\miniconda3\\envs\\PML_Projekt\\lib\\site-packages\\keras\\utils\\traceback_utils.py\", line 96, in error_handler\n      return fn(*args, **kwargs)\n    File \"C:\\Users\\WG\\Documents\\PML Projekt\\transformer.py\", line 130, in call\n      x = self.self_attention(x)\n    File \"C:\\Users\\WG\\miniconda3\\envs\\PML_Projekt\\lib\\site-packages\\keras\\utils\\traceback_utils.py\", line 65, in error_handler\n      return fn(*args, **kwargs)\n    File \"C:\\Users\\WG\\miniconda3\\envs\\PML_Projekt\\lib\\site-packages\\keras\\engine\\base_layer.py\", line 1097, in __call__\n      outputs = call_fn(inputs, *args, **kwargs)\n    File \"C:\\Users\\WG\\miniconda3\\envs\\PML_Projekt\\lib\\site-packages\\keras\\utils\\traceback_utils.py\", line 96, in error_handler\n      return fn(*args, **kwargs)\n    File \"C:\\Users\\WG\\Documents\\PML Projekt\\transformer.py\", line 78, in call\n      attn_output = self.mha(\n    File \"C:\\Users\\WG\\miniconda3\\envs\\PML_Projekt\\lib\\site-packages\\keras\\utils\\traceback_utils.py\", line 65, in error_handler\n      return fn(*args, **kwargs)\n    File \"C:\\Users\\WG\\miniconda3\\envs\\PML_Projekt\\lib\\site-packages\\keras\\engine\\base_layer.py\", line 1097, in __call__\n      outputs = call_fn(inputs, *args, **kwargs)\n    File \"C:\\Users\\WG\\miniconda3\\envs\\PML_Projekt\\lib\\site-packages\\keras\\utils\\traceback_utils.py\", line 96, in error_handler\n      return fn(*args, **kwargs)\n    File \"C:\\Users\\WG\\miniconda3\\envs\\PML_Projekt\\lib\\site-packages\\keras\\layers\\attention\\multi_head_attention.py\", line 596, in call\n      attention_output, attention_scores = self._compute_attention(\n    File \"C:\\Users\\WG\\miniconda3\\envs\\PML_Projekt\\lib\\site-packages\\keras\\layers\\attention\\multi_head_attention.py\", line 525, in _compute_attention\n      attention_scores = tf.einsum(self._dot_product_equation, key, query)\nNode: 'transformer/encoder/encoder_layer_2/global_self_attention_2/multi_head_attention_2/einsum/Einsum'\nOOM when allocating tensor with shape[64,7,900,900] and type float on /job:localhost/replica:0/task:0/device:GPU:0 by allocator GPU_0_bfc\n\t [[{{node transformer/encoder/encoder_layer_2/global_self_attention_2/multi_head_attention_2/einsum/Einsum}}]]\nHint: If you want to see a list of allocated tensors when OOM happens, add report_tensor_allocations_upon_oom to RunOptions for current allocation info. This isn't available when running in Eager mode.\n [Op:__inference_train_function_13427]"
     ]
    }
   ],
   "source": [
    "cp_callback = tf.keras.callbacks.ModelCheckpoint(\n",
    "    filepath=\"model_checkpoints/cp-{epoch:04d}.ckpt\", save_weights_only=True, verbose=1\n",
    ")\n",
    "es_callback = tf.keras.callbacks.EarlyStopping(\n",
    "    monitor='val_loss',\n",
    "    patience=2,\n",
    "    restore_best_weights=True\n",
    ")\n",
    "\n",
    "history = transformer.fit([train_inputs[:100], train_contexts[:100]], train_tagets[:100], epochs=EPOCHS, batch_size=BATCH_SIZE, validation_split=0.1, callbacks=[cp_callback, es_callback])\n",
    "\n",
    "transformer.evaluate([test_inputs[:100], test_contexts[:100]], test_tagets[:100], batch_size=BATCH_SIZE)"
   ],
   "metadata": {
    "collapsed": false,
    "ExecuteTime": {
     "end_time": "2023-06-20T21:16:36.855021700Z",
     "start_time": "2023-06-20T21:16:16.148233800Z"
    }
   }
  },
  {
   "cell_type": "code",
   "execution_count": null,
   "outputs": [],
   "source": [
    "print(history.history.keys())"
   ],
   "metadata": {
    "collapsed": false
   }
  },
  {
   "cell_type": "code",
   "execution_count": 1,
   "outputs": [
    {
     "ename": "ImportError",
     "evalue": "DLL load failed while importing _imaging: Das angegebene Modul wurde nicht gefunden.",
     "output_type": "error",
     "traceback": [
      "\u001B[1;31m---------------------------------------------------------------------------\u001B[0m",
      "\u001B[1;31mImportError\u001B[0m                               Traceback (most recent call last)",
      "Cell \u001B[1;32mIn[1], line 1\u001B[0m\n\u001B[1;32m----> 1\u001B[0m \u001B[38;5;28;01mimport\u001B[39;00m \u001B[38;5;21;01mmatplotlib\u001B[39;00m\u001B[38;5;21;01m.\u001B[39;00m\u001B[38;5;21;01mpyplot\u001B[39;00m \u001B[38;5;28;01mas\u001B[39;00m \u001B[38;5;21;01mplt\u001B[39;00m\n\u001B[0;32m      3\u001B[0m plt\u001B[38;5;241m.\u001B[39mplot(history\u001B[38;5;241m.\u001B[39mhistory[\u001B[38;5;124m'\u001B[39m\u001B[38;5;124mmasked_accuracy\u001B[39m\u001B[38;5;124m'\u001B[39m])\n\u001B[0;32m      4\u001B[0m plt\u001B[38;5;241m.\u001B[39mplot(history\u001B[38;5;241m.\u001B[39mhistory[\u001B[38;5;124m'\u001B[39m\u001B[38;5;124mval_masked_accuracy\u001B[39m\u001B[38;5;124m'\u001B[39m])\n",
      "File \u001B[1;32m~\\miniconda3\\envs\\PML_Projekt\\lib\\site-packages\\matplotlib\\__init__.py:131\u001B[0m\n\u001B[0;32m    127\u001B[0m \u001B[38;5;28;01mfrom\u001B[39;00m \u001B[38;5;21;01mpackaging\u001B[39;00m\u001B[38;5;21;01m.\u001B[39;00m\u001B[38;5;21;01mversion\u001B[39;00m \u001B[38;5;28;01mimport\u001B[39;00m parse \u001B[38;5;28;01mas\u001B[39;00m parse_version\n\u001B[0;32m    129\u001B[0m \u001B[38;5;66;03m# cbook must import matplotlib only within function\u001B[39;00m\n\u001B[0;32m    130\u001B[0m \u001B[38;5;66;03m# definitions, so it is safe to import from it here.\u001B[39;00m\n\u001B[1;32m--> 131\u001B[0m \u001B[38;5;28;01mfrom\u001B[39;00m \u001B[38;5;21;01m.\u001B[39;00m \u001B[38;5;28;01mimport\u001B[39;00m _api, _version, cbook, _docstring, rcsetup\n\u001B[0;32m    132\u001B[0m \u001B[38;5;28;01mfrom\u001B[39;00m \u001B[38;5;21;01mmatplotlib\u001B[39;00m\u001B[38;5;21;01m.\u001B[39;00m\u001B[38;5;21;01mcbook\u001B[39;00m \u001B[38;5;28;01mimport\u001B[39;00m sanitize_sequence\n\u001B[0;32m    133\u001B[0m \u001B[38;5;28;01mfrom\u001B[39;00m \u001B[38;5;21;01mmatplotlib\u001B[39;00m\u001B[38;5;21;01m.\u001B[39;00m\u001B[38;5;21;01m_api\u001B[39;00m \u001B[38;5;28;01mimport\u001B[39;00m MatplotlibDeprecationWarning\n",
      "File \u001B[1;32m~\\miniconda3\\envs\\PML_Projekt\\lib\\site-packages\\matplotlib\\rcsetup.py:27\u001B[0m\n\u001B[0;32m     25\u001B[0m \u001B[38;5;28;01mfrom\u001B[39;00m \u001B[38;5;21;01mmatplotlib\u001B[39;00m \u001B[38;5;28;01mimport\u001B[39;00m _api, cbook\n\u001B[0;32m     26\u001B[0m \u001B[38;5;28;01mfrom\u001B[39;00m \u001B[38;5;21;01mmatplotlib\u001B[39;00m\u001B[38;5;21;01m.\u001B[39;00m\u001B[38;5;21;01mcbook\u001B[39;00m \u001B[38;5;28;01mimport\u001B[39;00m ls_mapper\n\u001B[1;32m---> 27\u001B[0m \u001B[38;5;28;01mfrom\u001B[39;00m \u001B[38;5;21;01mmatplotlib\u001B[39;00m\u001B[38;5;21;01m.\u001B[39;00m\u001B[38;5;21;01mcolors\u001B[39;00m \u001B[38;5;28;01mimport\u001B[39;00m Colormap, is_color_like\n\u001B[0;32m     28\u001B[0m \u001B[38;5;28;01mfrom\u001B[39;00m \u001B[38;5;21;01mmatplotlib\u001B[39;00m\u001B[38;5;21;01m.\u001B[39;00m\u001B[38;5;21;01m_fontconfig_pattern\u001B[39;00m \u001B[38;5;28;01mimport\u001B[39;00m parse_fontconfig_pattern\n\u001B[0;32m     29\u001B[0m \u001B[38;5;28;01mfrom\u001B[39;00m \u001B[38;5;21;01mmatplotlib\u001B[39;00m\u001B[38;5;21;01m.\u001B[39;00m\u001B[38;5;21;01m_enums\u001B[39;00m \u001B[38;5;28;01mimport\u001B[39;00m JoinStyle, CapStyle\n",
      "File \u001B[1;32m~\\miniconda3\\envs\\PML_Projekt\\lib\\site-packages\\matplotlib\\colors.py:51\u001B[0m\n\u001B[0;32m     49\u001B[0m \u001B[38;5;28;01mfrom\u001B[39;00m \u001B[38;5;21;01mnumbers\u001B[39;00m \u001B[38;5;28;01mimport\u001B[39;00m Number\n\u001B[0;32m     50\u001B[0m \u001B[38;5;28;01mimport\u001B[39;00m \u001B[38;5;21;01mre\u001B[39;00m\n\u001B[1;32m---> 51\u001B[0m \u001B[38;5;28;01mfrom\u001B[39;00m \u001B[38;5;21;01mPIL\u001B[39;00m \u001B[38;5;28;01mimport\u001B[39;00m Image\n\u001B[0;32m     52\u001B[0m \u001B[38;5;28;01mfrom\u001B[39;00m \u001B[38;5;21;01mPIL\u001B[39;00m\u001B[38;5;21;01m.\u001B[39;00m\u001B[38;5;21;01mPngImagePlugin\u001B[39;00m \u001B[38;5;28;01mimport\u001B[39;00m PngInfo\n\u001B[0;32m     54\u001B[0m \u001B[38;5;28;01mimport\u001B[39;00m \u001B[38;5;21;01mmatplotlib\u001B[39;00m \u001B[38;5;28;01mas\u001B[39;00m \u001B[38;5;21;01mmpl\u001B[39;00m\n",
      "File \u001B[1;32m~\\miniconda3\\envs\\PML_Projekt\\lib\\site-packages\\PIL\\Image.py:103\u001B[0m\n\u001B[0;32m     94\u001B[0m MAX_IMAGE_PIXELS \u001B[38;5;241m=\u001B[39m \u001B[38;5;28mint\u001B[39m(\u001B[38;5;241m1024\u001B[39m \u001B[38;5;241m*\u001B[39m \u001B[38;5;241m1024\u001B[39m \u001B[38;5;241m*\u001B[39m \u001B[38;5;241m1024\u001B[39m \u001B[38;5;241m/\u001B[39m\u001B[38;5;241m/\u001B[39m \u001B[38;5;241m4\u001B[39m \u001B[38;5;241m/\u001B[39m\u001B[38;5;241m/\u001B[39m \u001B[38;5;241m3\u001B[39m)\n\u001B[0;32m     97\u001B[0m \u001B[38;5;28;01mtry\u001B[39;00m:\n\u001B[0;32m     98\u001B[0m     \u001B[38;5;66;03m# If the _imaging C module is not present, Pillow will not load.\u001B[39;00m\n\u001B[0;32m     99\u001B[0m     \u001B[38;5;66;03m# Note that other modules should not refer to _imaging directly;\u001B[39;00m\n\u001B[0;32m    100\u001B[0m     \u001B[38;5;66;03m# import Image and use the Image.core variable instead.\u001B[39;00m\n\u001B[0;32m    101\u001B[0m     \u001B[38;5;66;03m# Also note that Image.core is not a publicly documented interface,\u001B[39;00m\n\u001B[0;32m    102\u001B[0m     \u001B[38;5;66;03m# and should be considered private and subject to change.\u001B[39;00m\n\u001B[1;32m--> 103\u001B[0m     \u001B[38;5;28;01mfrom\u001B[39;00m \u001B[38;5;21;01m.\u001B[39;00m \u001B[38;5;28;01mimport\u001B[39;00m _imaging \u001B[38;5;28;01mas\u001B[39;00m core\n\u001B[0;32m    105\u001B[0m     \u001B[38;5;28;01mif\u001B[39;00m __version__ \u001B[38;5;241m!=\u001B[39m \u001B[38;5;28mgetattr\u001B[39m(core, \u001B[38;5;124m\"\u001B[39m\u001B[38;5;124mPILLOW_VERSION\u001B[39m\u001B[38;5;124m\"\u001B[39m, \u001B[38;5;28;01mNone\u001B[39;00m):\n\u001B[0;32m    106\u001B[0m         msg \u001B[38;5;241m=\u001B[39m (\n\u001B[0;32m    107\u001B[0m             \u001B[38;5;124m\"\u001B[39m\u001B[38;5;124mThe _imaging extension was built for another version of Pillow or PIL:\u001B[39m\u001B[38;5;130;01m\\n\u001B[39;00m\u001B[38;5;124m\"\u001B[39m\n\u001B[0;32m    108\u001B[0m             \u001B[38;5;124mf\u001B[39m\u001B[38;5;124m\"\u001B[39m\u001B[38;5;124mCore version: \u001B[39m\u001B[38;5;132;01m{\u001B[39;00m\u001B[38;5;28mgetattr\u001B[39m(core, \u001B[38;5;124m'\u001B[39m\u001B[38;5;124mPILLOW_VERSION\u001B[39m\u001B[38;5;124m'\u001B[39m, \u001B[38;5;28;01mNone\u001B[39;00m)\u001B[38;5;132;01m}\u001B[39;00m\u001B[38;5;130;01m\\n\u001B[39;00m\u001B[38;5;124m\"\u001B[39m\n\u001B[0;32m    109\u001B[0m             \u001B[38;5;124mf\u001B[39m\u001B[38;5;124m\"\u001B[39m\u001B[38;5;124mPillow version: \u001B[39m\u001B[38;5;132;01m{\u001B[39;00m__version__\u001B[38;5;132;01m}\u001B[39;00m\u001B[38;5;124m\"\u001B[39m\n\u001B[0;32m    110\u001B[0m         )\n",
      "\u001B[1;31mImportError\u001B[0m: DLL load failed while importing _imaging: Das angegebene Modul wurde nicht gefunden."
     ]
    }
   ],
   "source": [
    "import matplotlib.pyplot as plt\n",
    "\n",
    "plt.plot(history.history['masked_accuracy'])\n",
    "plt.plot(history.history['val_masked_accuracy'])\n",
    "plt.title('Accuracy over Epochs')\n",
    "plt.ylabel('accuracy')\n",
    "plt.xlabel('epoch')\n",
    "plt.legend(['train', 'test'], loc='upper left')\n",
    "plt.show()"
   ],
   "metadata": {
    "collapsed": false,
    "ExecuteTime": {
     "end_time": "2023-06-20T21:14:07.025031200Z",
     "start_time": "2023-06-20T21:14:05.478703700Z"
    }
   }
  },
  {
   "cell_type": "code",
   "execution_count": 2,
   "outputs": [
    {
     "ename": "NameError",
     "evalue": "name 'plt' is not defined",
     "output_type": "error",
     "traceback": [
      "\u001B[1;31m---------------------------------------------------------------------------\u001B[0m",
      "\u001B[1;31mNameError\u001B[0m                                 Traceback (most recent call last)",
      "Cell \u001B[1;32mIn[2], line 1\u001B[0m\n\u001B[1;32m----> 1\u001B[0m \u001B[43mplt\u001B[49m\u001B[38;5;241m.\u001B[39mplot(history\u001B[38;5;241m.\u001B[39mhistory[\u001B[38;5;124m'\u001B[39m\u001B[38;5;124mloss\u001B[39m\u001B[38;5;124m'\u001B[39m])\n\u001B[0;32m      2\u001B[0m plt\u001B[38;5;241m.\u001B[39mplot(history\u001B[38;5;241m.\u001B[39mhistory[\u001B[38;5;124m'\u001B[39m\u001B[38;5;124mval_loss\u001B[39m\u001B[38;5;124m'\u001B[39m])\n\u001B[0;32m      3\u001B[0m plt\u001B[38;5;241m.\u001B[39mtitle(\u001B[38;5;124m'\u001B[39m\u001B[38;5;124mLoss over Epochs\u001B[39m\u001B[38;5;124m'\u001B[39m)\n",
      "\u001B[1;31mNameError\u001B[0m: name 'plt' is not defined"
     ]
    }
   ],
   "source": [
    "plt.plot(history.history['loss'])\n",
    "plt.plot(history.history['val_loss'])\n",
    "plt.title('Loss over Epochs')\n",
    "plt.ylabel('loss')\n",
    "plt.xlabel('epoch')\n",
    "plt.legend(['train', 'test'], loc='upper left')\n",
    "plt.show()"
   ],
   "metadata": {
    "collapsed": false,
    "ExecuteTime": {
     "end_time": "2023-06-20T21:14:08.094459200Z",
     "start_time": "2023-06-20T21:14:08.045589Z"
    }
   }
  },
  {
   "cell_type": "markdown",
   "source": [
    "# Data Generator"
   ],
   "metadata": {
    "collapsed": false
   }
  },
  {
   "cell_type": "code",
   "execution_count": 1,
   "outputs": [],
   "source": [
    "import os\n",
    "import pandas as pd\n",
    "from copy import deepcopy\n",
    "import numpy as np\n",
    "import random\n",
    "from tensorflow import keras\n",
    "\n",
    "class ASLDataGenerator(keras.utils.Sequence):\n",
    "\n",
    "    def __init__(self, dataset_path: str, max_phrase_length: int, max_sign_length: int, batch_size: int, train: bool = True):\n",
    "        super().__init__()\n",
    "        self.ds_path = dataset_path\n",
    "        self.files = os.listdir(dataset_path)\n",
    "        self.max_phrase_length = max_phrase_length\n",
    "        self.max_sign_length = max_sign_length\n",
    "        self.unwanted_columns = ['sequence_id', 'frame', 'participant_id', 'phrase']\n",
    "        self.train = train\n",
    "        self.batch_size = batch_size\n",
    "\n",
    "    def __len__(self):\n",
    "        return len(self.files)//self.batch_size\n",
    "\n",
    "    def shuffle(self):\n",
    "        random.shuffle(self.files)\n",
    "\n",
    "    def on_epoch_end(self):\n",
    "        if self.train:\n",
    "            self.shuffle()\n",
    "\n",
    "    def __getitem__(self, idx: int):\n",
    "        # TODO: integrate batch_size --> take all examples from idx to idx + batch_size\n",
    "        batch_signs = []\n",
    "        batch_contexts = []\n",
    "        batch_phrases = []\n",
    "        for i in range(idx, idx+self.batch_size):\n",
    "            df_phrase = pd.read_pickle(self.ds_path + '/' + self.files[idx])\n",
    "            phrase = df_phrase.iloc[0].phrase\n",
    "            if len(phrase) > self.max_phrase_length:\n",
    "                print('Houston we have a problem!')\n",
    "\n",
    "            while len(phrase) < self.max_phrase_length:\n",
    "                phrase.append(59)\n",
    "            context = deepcopy(phrase)\n",
    "            context.insert(0, 60)\n",
    "            context = context[:-1]\n",
    "\n",
    "            df_phrase = df_phrase.drop(self.unwanted_columns, axis=1)\n",
    "            signs = df_phrase.to_numpy(copy=True)\n",
    "\n",
    "            if signs.shape[0] > self.max_sign_length:\n",
    "                print('Hooooouuuuusteeeeeen!')\n",
    "            signs = np.pad(signs, [(0, self.max_sign_length-signs.shape[0]), (0,0)], 'edge')\n",
    "            batch_signs.append(signs)\n",
    "            batch_contexts.append(context)\n",
    "            batch_phrases.append(phrase)\n",
    "\n",
    "        batch_signs = np.array(batch_signs)\n",
    "        batch_contexts = np.array(batch_contexts)\n",
    "        batch_phrases = np.array(batch_phrases)\n",
    "\n",
    "        return [batch_signs, batch_contexts], batch_phrases"
   ],
   "metadata": {
    "collapsed": false,
    "ExecuteTime": {
     "end_time": "2023-07-03T13:51:10.147719300Z",
     "start_time": "2023-07-03T13:51:06.527549600Z"
    }
   }
  },
  {
   "cell_type": "code",
   "execution_count": 2,
   "outputs": [],
   "source": [
    "from tensorflow import keras\n",
    "\n",
    "class ShuffleCallback(keras.callbacks.Callback):\n",
    "\n",
    "    def on_epoch_end(self, epoch, logs=None):\n",
    "        data_gen_train.shuffle()"
   ],
   "metadata": {
    "collapsed": false,
    "ExecuteTime": {
     "end_time": "2023-07-03T13:51:11.774180300Z",
     "start_time": "2023-07-03T13:51:11.754661100Z"
    }
   }
  },
  {
   "cell_type": "code",
   "execution_count": 24,
   "outputs": [],
   "source": [
    "import tensorflow as tf\n",
    "MAX_PHRASE_LENGTH = 100\n",
    "MAX_SIGN_LENGTH = 900\n",
    "BATCH_SIZE= 32\n",
    "\n",
    "data_gen_train = ASLDataGenerator('./dataset complete/preprocessed_files_data_generator/train_ones', MAX_PHRASE_LENGTH, MAX_SIGN_LENGTH, batch_size=BATCH_SIZE)\n",
    "data_gen_train.shuffle()\n",
    "\n",
    "\n",
    "data_gen_test = ASLDataGenerator('./dataset complete/preprocessed_files_data_generator/test_ones', MAX_PHRASE_LENGTH, MAX_SIGN_LENGTH, train=False, batch_size=BATCH_SIZE)\n",
    "\n",
    "data_gen_val = ASLDataGenerator('./dataset complete/preprocessed_files_data_generator/val_ones', MAX_PHRASE_LENGTH, MAX_SIGN_LENGTH, train=False, batch_size=BATCH_SIZE)"
   ],
   "metadata": {
    "collapsed": false,
    "ExecuteTime": {
     "end_time": "2023-07-04T09:40:03.986836Z",
     "start_time": "2023-07-04T09:40:03.872756100Z"
    }
   }
  },
  {
   "cell_type": "code",
   "execution_count": 3,
   "outputs": [],
   "source": [
    "import tensorflow as tf\n",
    "MAX_PHRASE_LENGTH = 100\n",
    "MAX_SIGN_LENGTH = 900\n",
    "BATCH_SIZE=32\n",
    "\n",
    "data_gen_train = ASLDataGenerator('./dataset complete/preprocessed_files_data_generator/train', MAX_PHRASE_LENGTH, MAX_SIGN_LENGTH, batch_size=BATCH_SIZE)\n",
    "data_gen_train.shuffle()\n",
    "\n",
    "\n",
    "data_gen_test = ASLDataGenerator('./dataset complete/preprocessed_files_data_generator/test', MAX_PHRASE_LENGTH, MAX_SIGN_LENGTH, train=False, batch_size=BATCH_SIZE)\n",
    "\n",
    "data_gen_val = ASLDataGenerator('./dataset complete/preprocessed_files_data_generator/validation_files', MAX_PHRASE_LENGTH, MAX_SIGN_LENGTH, train=False, batch_size=BATCH_SIZE)"
   ],
   "metadata": {
    "collapsed": false,
    "ExecuteTime": {
     "end_time": "2023-07-03T13:51:21.122978800Z",
     "start_time": "2023-07-03T13:51:21.048409200Z"
    }
   }
  },
  {
   "cell_type": "code",
   "execution_count": 4,
   "outputs": [],
   "source": [
    "input, phrase = data_gen_train[0]"
   ],
   "metadata": {
    "collapsed": false,
    "ExecuteTime": {
     "end_time": "2023-06-26T16:39:23.586493800Z",
     "start_time": "2023-06-26T16:39:23.438352900Z"
    }
   }
  },
  {
   "cell_type": "markdown",
   "source": [
    "# Train Transformer using Generator"
   ],
   "metadata": {
    "collapsed": false
   }
  },
  {
   "cell_type": "code",
   "execution_count": 25,
   "outputs": [],
   "source": [
    "import json\n",
    "\n",
    "with open (\"./dataset complete/character_to_prediction_index.json\", \"r\") as f:\n",
    "    characters = json.load(f)\n",
    "\n",
    "# TODO: tune hyperparameters\n",
    "EPOCHS = 20\n",
    "d_model = 256  # hidden layer(s) dimensionality # TODO: test 256  - alt: 128\n",
    "num_layers = 2 # how many encoders and decoders to stack # TODO: test 2  - 3\n",
    "num_heads = 8 # how many attention heads should every mha have  # TODO: test 8  - 5\n",
    "ff_dim = 512 # how many neurons shall feed-forward layers have # TODO: test 1024  - 256\n",
    "dropout_rate = 0.4  # TODO: test 0.3\n",
    "\n",
    "output_vocab_size = len(characters) + 1"
   ],
   "metadata": {
    "collapsed": false,
    "ExecuteTime": {
     "end_time": "2023-07-04T09:40:08.090372500Z",
     "start_time": "2023-07-04T09:40:08.063843700Z"
    }
   }
  },
  {
   "cell_type": "code",
   "execution_count": 26,
   "outputs": [],
   "source": [
    "from transformer import get_compiled_transformer\n",
    "\n",
    "transformer = get_compiled_transformer(\n",
    "    d_model=d_model,\n",
    "    num_layers=num_layers,\n",
    "    num_heads=num_heads,\n",
    "    ff_dim=ff_dim,\n",
    "    dropout_rate=dropout_rate,\n",
    "    output_vocab_size=output_vocab_size\n",
    ")"
   ],
   "metadata": {
    "collapsed": false,
    "ExecuteTime": {
     "end_time": "2023-07-04T09:40:09.876886300Z",
     "start_time": "2023-07-04T09:40:09.819630Z"
    }
   }
  },
  {
   "cell_type": "code",
   "execution_count": 27,
   "outputs": [
    {
     "name": "stdout",
     "output_type": "stream",
     "text": [
      "Num GPUs Available:  1\n"
     ]
    }
   ],
   "source": [
    "print(\"Num GPUs Available: \", len(tf.config.list_physical_devices('GPU')))"
   ],
   "metadata": {
    "collapsed": false,
    "ExecuteTime": {
     "end_time": "2023-07-04T09:40:11.700654500Z",
     "start_time": "2023-07-04T09:40:11.686646900Z"
    }
   }
  },
  {
   "cell_type": "code",
   "execution_count": 28,
   "outputs": [
    {
     "name": "stdout",
     "output_type": "stream",
     "text": [
      "Epoch 1/20\n",
      "2359/2359 [==============================] - ETA: 0s - loss: 3.0226 - masked_accuracy: 0.1565\n",
      "Epoch 1: saving model to model_checkpoints\\cp-0001.ckpt\n",
      "2359/2359 [==============================] - 1333s 564ms/step - loss: 3.0226 - masked_accuracy: 0.1565 - val_loss: 2.7072 - val_masked_accuracy: 0.2025\n",
      "Epoch 2/20\n",
      "2359/2359 [==============================] - ETA: 0s - loss: 2.8037 - masked_accuracy: 0.1787\n",
      "Epoch 2: saving model to model_checkpoints\\cp-0002.ckpt\n",
      "2359/2359 [==============================] - 1331s 564ms/step - loss: 2.8037 - masked_accuracy: 0.1787 - val_loss: 2.6614 - val_masked_accuracy: 0.2138\n",
      "Epoch 3/20\n",
      "2359/2359 [==============================] - ETA: 0s - loss: 2.6972 - masked_accuracy: 0.1961\n",
      "Epoch 3: saving model to model_checkpoints\\cp-0003.ckpt\n",
      "2359/2359 [==============================] - 1330s 564ms/step - loss: 2.6972 - masked_accuracy: 0.1961 - val_loss: 2.6227 - val_masked_accuracy: 0.2238\n",
      "Epoch 4/20\n",
      "2359/2359 [==============================] - ETA: 0s - loss: 2.6320 - masked_accuracy: 0.2087\n",
      "Epoch 4: saving model to model_checkpoints\\cp-0004.ckpt\n",
      "2359/2359 [==============================] - 1330s 564ms/step - loss: 2.6320 - masked_accuracy: 0.2087 - val_loss: 2.5487 - val_masked_accuracy: 0.2276\n",
      "Epoch 5/20\n",
      "2359/2359 [==============================] - ETA: 0s - loss: 2.5996 - masked_accuracy: 0.2166\n",
      "Epoch 5: saving model to model_checkpoints\\cp-0005.ckpt\n",
      "2359/2359 [==============================] - 1330s 564ms/step - loss: 2.5996 - masked_accuracy: 0.2166 - val_loss: 2.5200 - val_masked_accuracy: 0.2345\n",
      "Epoch 6/20\n",
      "2359/2359 [==============================] - ETA: 0s - loss: 2.5710 - masked_accuracy: 0.2201\n",
      "Epoch 6: saving model to model_checkpoints\\cp-0006.ckpt\n",
      "2359/2359 [==============================] - 1330s 564ms/step - loss: 2.5710 - masked_accuracy: 0.2201 - val_loss: 2.4736 - val_masked_accuracy: 0.2605\n",
      "Epoch 7/20\n",
      "2359/2359 [==============================] - ETA: 0s - loss: 2.5617 - masked_accuracy: 0.2233\n",
      "Epoch 7: saving model to model_checkpoints\\cp-0007.ckpt\n",
      "2359/2359 [==============================] - 1330s 564ms/step - loss: 2.5617 - masked_accuracy: 0.2233 - val_loss: 2.4560 - val_masked_accuracy: 0.2587\n",
      "Epoch 8/20\n",
      "2359/2359 [==============================] - ETA: 0s - loss: 2.5428 - masked_accuracy: 0.2251\n",
      "Epoch 8: saving model to model_checkpoints\\cp-0008.ckpt\n",
      "2359/2359 [==============================] - 1330s 564ms/step - loss: 2.5428 - masked_accuracy: 0.2251 - val_loss: 2.4448 - val_masked_accuracy: 0.2714\n",
      "Epoch 9/20\n",
      "2359/2359 [==============================] - ETA: 0s - loss: 2.5153 - masked_accuracy: 0.2330\n",
      "Epoch 9: saving model to model_checkpoints\\cp-0009.ckpt\n",
      "2359/2359 [==============================] - 1321s 560ms/step - loss: 2.5153 - masked_accuracy: 0.2330 - val_loss: 2.4351 - val_masked_accuracy: 0.2754\n",
      "Epoch 10/20\n",
      "2359/2359 [==============================] - ETA: 0s - loss: 2.5045 - masked_accuracy: 0.2337\n",
      "Epoch 10: saving model to model_checkpoints\\cp-0010.ckpt\n",
      "2359/2359 [==============================] - 1320s 559ms/step - loss: 2.5045 - masked_accuracy: 0.2337 - val_loss: 2.4282 - val_masked_accuracy: 0.2642\n",
      "Epoch 11/20\n",
      "2359/2359 [==============================] - ETA: 0s - loss: 2.4935 - masked_accuracy: 0.2343\n",
      "Epoch 11: saving model to model_checkpoints\\cp-0011.ckpt\n",
      "2359/2359 [==============================] - 1320s 559ms/step - loss: 2.4935 - masked_accuracy: 0.2343 - val_loss: 2.4091 - val_masked_accuracy: 0.2593\n",
      "Epoch 12/20\n",
      "2359/2359 [==============================] - ETA: 0s - loss: 2.4776 - masked_accuracy: 0.2408\n",
      "Epoch 12: saving model to model_checkpoints\\cp-0012.ckpt\n",
      "2359/2359 [==============================] - 1320s 560ms/step - loss: 2.4776 - masked_accuracy: 0.2408 - val_loss: 2.3847 - val_masked_accuracy: 0.2677\n",
      "Epoch 13/20\n",
      "2359/2359 [==============================] - ETA: 0s - loss: 2.4834 - masked_accuracy: 0.2402\n",
      "Epoch 13: saving model to model_checkpoints\\cp-0013.ckpt\n",
      "2359/2359 [==============================] - 1320s 560ms/step - loss: 2.4834 - masked_accuracy: 0.2402 - val_loss: 2.3988 - val_masked_accuracy: 0.2664\n",
      "Epoch 14/20\n",
      "2359/2359 [==============================] - ETA: 0s - loss: 2.4616 - masked_accuracy: 0.2435\n",
      "Epoch 14: saving model to model_checkpoints\\cp-0014.ckpt\n",
      "2359/2359 [==============================] - 1320s 560ms/step - loss: 2.4616 - masked_accuracy: 0.2435 - val_loss: 2.3635 - val_masked_accuracy: 0.2683\n",
      "Epoch 15/20\n",
      "2359/2359 [==============================] - ETA: 0s - loss: 2.4578 - masked_accuracy: 0.2458\n",
      "Epoch 15: saving model to model_checkpoints\\cp-0015.ckpt\n",
      "2359/2359 [==============================] - 1320s 560ms/step - loss: 2.4578 - masked_accuracy: 0.2458 - val_loss: 2.3607 - val_masked_accuracy: 0.2725\n",
      "Epoch 16/20\n",
      "2359/2359 [==============================] - ETA: 0s - loss: 2.4517 - masked_accuracy: 0.2438\n",
      "Epoch 16: saving model to model_checkpoints\\cp-0016.ckpt\n",
      "2359/2359 [==============================] - 1320s 560ms/step - loss: 2.4517 - masked_accuracy: 0.2438 - val_loss: 2.3470 - val_masked_accuracy: 0.2772\n",
      "Epoch 17/20\n",
      "2359/2359 [==============================] - ETA: 0s - loss: 2.4455 - masked_accuracy: 0.2481\n",
      "Epoch 17: saving model to model_checkpoints\\cp-0017.ckpt\n",
      "2359/2359 [==============================] - 1332s 564ms/step - loss: 2.4455 - masked_accuracy: 0.2481 - val_loss: 2.3452 - val_masked_accuracy: 0.2787\n",
      "Epoch 18/20\n",
      "2359/2359 [==============================] - ETA: 0s - loss: 2.4231 - masked_accuracy: 0.2512\n",
      "Epoch 18: saving model to model_checkpoints\\cp-0018.ckpt\n",
      "2359/2359 [==============================] - 1331s 564ms/step - loss: 2.4231 - masked_accuracy: 0.2512 - val_loss: 2.3513 - val_masked_accuracy: 0.2706\n",
      "Epoch 19/20\n",
      "2359/2359 [==============================] - ETA: 0s - loss: 2.4306 - masked_accuracy: 0.2487\n",
      "Epoch 19: saving model to model_checkpoints\\cp-0019.ckpt\n",
      "2359/2359 [==============================] - 1331s 564ms/step - loss: 2.4306 - masked_accuracy: 0.2487 - val_loss: 2.3241 - val_masked_accuracy: 0.2749\n",
      "Epoch 20/20\n",
      "2359/2359 [==============================] - ETA: 0s - loss: 2.4214 - masked_accuracy: 0.2519\n",
      "Epoch 20: saving model to model_checkpoints\\cp-0020.ckpt\n",
      "2359/2359 [==============================] - 1331s 564ms/step - loss: 2.4214 - masked_accuracy: 0.2519 - val_loss: 2.3282 - val_masked_accuracy: 0.2695\n",
      "482/482 [==============================] - 99s 206ms/step - loss: 2.2896 - masked_accuracy: 0.2800\n"
     ]
    },
    {
     "data": {
      "text/plain": "[2.289569854736328, 0.28003743290901184]"
     },
     "execution_count": 28,
     "metadata": {},
     "output_type": "execute_result"
    }
   ],
   "source": [
    "cp_callback = tf.keras.callbacks.ModelCheckpoint(\n",
    "    filepath=\"model_checkpoints/cp-{epoch:04d}.ckpt\", save_weights_only=True, verbose=1\n",
    ")\n",
    "es_callback = tf.keras.callbacks.EarlyStopping(\n",
    "    monitor='val_loss',\n",
    "    patience=2,\n",
    "    restore_best_weights=True\n",
    ")\n",
    "shuffle_callback = ShuffleCallback()\n",
    "\n",
    "history = transformer.fit(data_gen_train, epochs=EPOCHS, batch_size=BATCH_SIZE, validation_data=data_gen_val, callbacks=[cp_callback, es_callback])\n",
    "\n",
    "transformer.evaluate(data_gen_test, batch_size=BATCH_SIZE)"
   ],
   "metadata": {
    "collapsed": false,
    "ExecuteTime": {
     "end_time": "2023-07-04T17:04:10.235172300Z",
     "start_time": "2023-07-04T09:40:15.129203800Z"
    }
   }
  },
  {
   "cell_type": "markdown",
   "source": [
    "bisher höchste accuracy bei\n",
    "mit -1: 25%     ff_dim= 512 dropout= 0.4 -> 28% bei val accuracy sogar 31% \\cp-0014.cpkt\n",
    "gespiegelt: 23%"
   ],
   "metadata": {
    "collapsed": false
   }
  },
  {
   "cell_type": "code",
   "execution_count": 19,
   "outputs": [
    {
     "name": "stdout",
     "output_type": "stream",
     "text": [
      "dict_keys(['loss', 'masked_accuracy', 'val_loss', 'val_masked_accuracy'])\n"
     ]
    }
   ],
   "source": [
    "print(history.history.keys())"
   ],
   "metadata": {
    "collapsed": false,
    "ExecuteTime": {
     "end_time": "2023-06-25T17:30:37.660901100Z",
     "start_time": "2023-06-25T17:30:37.618544900Z"
    }
   }
  },
  {
   "cell_type": "code",
   "execution_count": 9,
   "outputs": [
    {
     "data": {
      "text/plain": "<Figure size 640x480 with 1 Axes>",
      "image/png": "[encoded data removed]"
     },
     "metadata": {},
     "output_type": "display_data"
    }
   ],
   "source": [
    "import matplotlib.pyplot as plt\n",
    "\n",
    "plt.plot(history.history['masked_accuracy'])\n",
    "plt.plot(history.history['val_masked_accuracy'])\n",
    "plt.title('Accuracy over Epochs')\n",
    "plt.ylabel('accuracy')\n",
    "plt.xlabel('epoch')\n",
    "plt.legend(['train', 'test'], loc='upper left')\n",
    "plt.show()"
   ],
   "metadata": {
    "collapsed": false,
    "ExecuteTime": {
     "end_time": "2023-06-26T19:19:39.341520300Z",
     "start_time": "2023-06-26T19:19:38.733966300Z"
    }
   }
  },
  {
   "cell_type": "code",
   "execution_count": 10,
   "outputs": [
    {
     "data": {
      "text/plain": "<Figure size 640x480 with 1 Axes>",
      "image/png": "[encoded data removed]"
     },
     "metadata": {},
     "output_type": "display_data"
    }
   ],
   "source": [
    "plt.plot(history.history['loss'])\n",
    "plt.plot(history.history['val_loss'])\n",
    "plt.title('Loss over Epochs')\n",
    "plt.ylabel('loss')\n",
    "plt.xlabel('epoch')\n",
    "plt.legend(['train', 'test'], loc='upper left')\n",
    "plt.show()"
   ],
   "metadata": {
    "collapsed": false,
    "ExecuteTime": {
     "end_time": "2023-06-26T19:19:43.668132200Z",
     "start_time": "2023-06-26T19:19:43.561539900Z"
    }
   }
  }
 ],
 "metadata": {
  "kernelspec": {
   "display_name": "Python 3",
   "language": "python",
   "name": "python3"
  },
  "language_info": {
   "codemirror_mode": {
    "name": "ipython",
    "version": 2
   },
   "file_extension": ".py",
   "mimetype": "text/x-python",
   "name": "python",
   "nbconvert_exporter": "python",
   "pygments_lexer": "ipython2",
   "version": "2.7.6"
  }
 },
 "nbformat": 4,
 "nbformat_minor": 0
}
