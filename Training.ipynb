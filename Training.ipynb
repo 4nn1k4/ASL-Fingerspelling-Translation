{
 "cells": [
  {
   "cell_type": "code",
   "execution_count": 1,
   "metadata": {
    "collapsed": true,
    "ExecuteTime": {
     "end_time": "2023-06-20T20:46:29.156672100Z",
     "start_time": "2023-06-20T20:46:01.387051200Z"
    }
   },
   "outputs": [],
   "source": [
    "import pickle\n",
    "\n",
    "with open('./dataset complete/train_test_data/train_data.pkl', 'rb') as file:\n",
    "    train_data = pickle.load(file)\n",
    "train_inputs, train_contexts = train_data[0]\n",
    "train_tagets = train_data[1]\n",
    "del train_data"
   ]
  },
  {
   "cell_type": "code",
   "execution_count": 2,
   "outputs": [],
   "source": [
    "with open('./dataset complete/train_test_data/test_data.pkl', 'rb') as file:\n",
    "    test_data = pickle.load(file)\n",
    "test_inputs, test_contexts = test_data[0]\n",
    "test_tagets = test_data[1]\n",
    "del test_data"
   ],
   "metadata": {
    "collapsed": false,
    "ExecuteTime": {
     "end_time": "2023-06-20T20:46:45.052871800Z",
     "start_time": "2023-06-20T20:46:39.659621900Z"
    }
   }
  },
  {
   "cell_type": "code",
   "execution_count": 4,
   "outputs": [],
   "source": [
    "import json\n",
    "\n",
    "with open (\"./dataset complete/character_to_prediction_index.json\", \"r\") as f:\n",
    "    characters = json.load(f)\n",
    "len(characters)\n",
    "\n",
    "# TODO: tune hyperparameters\n",
    "EPOCHS = 5\n",
    "BATCH_SIZE=64\n",
    "d_model = 128  # hidden layer(s) dimensionality\n",
    "num_layers = 5 # how many encoders and decoders to stack\n",
    "num_heads = 8 # how many attention heads should every mha have\n",
    "ff_dim = 256 # how many neurons shall feed-forward layers have\n",
    "dropout_rate = 0.1\n",
    "\n",
    "output_vocab_size = len(characters) + 2"
   ],
   "metadata": {
    "collapsed": false,
    "ExecuteTime": {
     "end_time": "2023-06-20T20:47:54.119901700Z",
     "start_time": "2023-06-20T20:47:54.090371200Z"
    }
   }
  },
  {
   "cell_type": "code",
   "execution_count": 6,
   "outputs": [],
   "source": [
    "from transformer import get_compiled_transformer\n",
    "\n",
    "transformer = get_compiled_transformer(\n",
    "    d_model=d_model,\n",
    "    num_layers=num_layers,\n",
    "    num_heads=num_heads,\n",
    "    ff_dim=ff_dim,\n",
    "    dropout_rate=dropout_rate,\n",
    "    output_vocab_size=output_vocab_size\n",
    ")"
   ],
   "metadata": {
    "collapsed": false,
    "ExecuteTime": {
     "end_time": "2023-06-20T20:48:12.856786200Z",
     "start_time": "2023-06-20T20:48:07.733060200Z"
    }
   }
  },
  {
   "cell_type": "code",
   "execution_count": 7,
   "outputs": [
    {
     "name": "stdout",
     "output_type": "stream",
     "text": [
      "Num GPUs Available:  1\n"
     ]
    }
   ],
   "source": [
    "import tensorflow as tf\n",
    "\n",
    "print(\"Num GPUs Available: \", len(tf.config.list_physical_devices('GPU')))"
   ],
   "metadata": {
    "collapsed": false,
    "ExecuteTime": {
     "end_time": "2023-06-20T20:48:36.333727100Z",
     "start_time": "2023-06-20T20:48:36.323213900Z"
    }
   }
  },
  {
   "cell_type": "code",
   "execution_count": null,
   "outputs": [],
   "source": [
    "history = transformer.fit([train_inputs, train_contexts], train_tagets, epochs=EPOCHS, batch_size=BATCH_SIZE, validation_split=0.1)\n",
    "\n",
    "transformer.evaluate([test_inputs, test_contexts], test_tagets, batch_size=BATCH_SIZE)"
   ],
   "metadata": {
    "collapsed": false,
    "is_executing": true,
    "ExecuteTime": {
     "start_time": "2023-06-20T20:50:07.807421900Z"
    }
   }
  },
  {
   "cell_type": "code",
   "execution_count": null,
   "outputs": [],
   "source": [
    "print(history.history.keys())"
   ],
   "metadata": {
    "collapsed": false
   }
  },
  {
   "cell_type": "code",
   "execution_count": null,
   "outputs": [],
   "source": [
    "import matplotlib.pyplot as plt\n",
    "\n",
    "plt.plot(history.history['print(history.history.keys())'])\n",
    "plt.plot(history.history['val_accuracy'])\n",
    "plt.title('model accuracy')\n",
    "plt.ylabel('accuracy')\n",
    "plt.xlabel('epoch')\n",
    "plt.legend(['train', 'test'], loc='upper left')\n",
    "plt.show()"
   ],
   "metadata": {
    "collapsed": false
   }
  },
  {
   "cell_type": "code",
   "execution_count": null,
   "outputs": [],
   "source": [
    "plt.plot(history.history['loss'])\n",
    "plt.plot(history.history['val_loss'])\n",
    "plt.title('model loss')\n",
    "plt.ylabel('loss')\n",
    "plt.xlabel('epoch')\n",
    "plt.legend(['train', 'test'], loc='upper left')\n",
    "plt.show()"
   ],
   "metadata": {
    "collapsed": false
   }
  }
 ],
 "metadata": {
  "kernelspec": {
   "display_name": "Python 3",
   "language": "python",
   "name": "python3"
  },
  "language_info": {
   "codemirror_mode": {
    "name": "ipython",
    "version": 2
   },
   "file_extension": ".py",
   "mimetype": "text/x-python",
   "name": "python",
   "nbconvert_exporter": "python",
   "pygments_lexer": "ipython2",
   "version": "2.7.6"
  }
 },
 "nbformat": 4,
 "nbformat_minor": 0
}
