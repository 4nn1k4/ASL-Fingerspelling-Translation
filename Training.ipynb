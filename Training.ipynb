{
 "cells": [
  {
   "cell_type": "markdown",
   "source": [
    "# Data Generator\n",
    "Data Generator -> only load batches into GPU, not total dataset"
   ],
   "metadata": {
    "collapsed": false
   }
  },
  {
   "cell_type": "code",
   "execution_count": 1,
   "outputs": [],
   "source": [
    "import os\n",
    "import pandas as pd\n",
    "from copy import deepcopy\n",
    "import numpy as np\n",
    "import random\n",
    "from tensorflow import keras\n",
    "import tensorflow as tf\n",
    "\n",
    "class ASLDataGenerator(keras.utils.Sequence):\n",
    "\n",
    "    def __init__(self, dataset_path: str, max_phrase_length: int, max_sign_length: int, batch_size: int, train: bool = True):\n",
    "        super().__init__()\n",
    "        self.ds_path = dataset_path\n",
    "        self.files = os.listdir(dataset_path)\n",
    "        self.max_phrase_length = max_phrase_length\n",
    "        self.max_sign_length = max_sign_length\n",
    "        self.unwanted_columns = ['sequence_id', 'frame', 'participant_id', 'phrase']\n",
    "        self.train = train\n",
    "        self.batch_size = batch_size\n",
    "\n",
    "    def __len__(self):\n",
    "        return len(self.files)//self.batch_size\n",
    "\n",
    "    def shuffle(self):\n",
    "        random.shuffle(self.files)\n",
    "\n",
    "    def on_epoch_end(self):\n",
    "        if self.train:\n",
    "            self.shuffle()\n",
    "\n",
    "    def __getitem__(self, idx: int):\n",
    "        batch_signs = []\n",
    "        batch_contexts = []\n",
    "        batch_phrases = []\n",
    "        for i in range(idx, idx+self.batch_size):\n",
    "            df_phrase = pd.read_pickle(self.ds_path + '/' + self.files[idx])\n",
    "            phrase = df_phrase.iloc[0].phrase\n",
    "            if len(phrase) > self.max_phrase_length-1:\n",
    "                # check if phrase length longer than max_phrase_length\n",
    "                print('Houston we have a problem!')\n",
    "\n",
    "            # stop symbol is 61\n",
    "            phrase.append(61)\n",
    "\n",
    "            while len(phrase) < self.max_phrase_length:\n",
    "                #padding value for remaining phrase is 59, to fill up missing phrase values until max_phrase_length\n",
    "                phrase.append(59)\n",
    "\n",
    "            context = deepcopy(phrase)\n",
    "            # start symbol is 60\n",
    "            context.insert(0, 60)\n",
    "            context = context[:-1]\n",
    "\n",
    "            df_phrase = df_phrase.drop(self.unwanted_columns, axis=1)\n",
    "            signs = df_phrase.to_numpy(copy=True)\n",
    "\n",
    "            if signs.shape[0] > self.max_sign_length:\n",
    "                # check if length of sign data over max_sign_length\n",
    "                print('Hooooouuuuusteeeeeen!')\n",
    "\n",
    "            # fill up missing values of mediapipe data until max_sign_length with padding value 0\n",
    "            signs = np.pad(signs, [(0, self.max_sign_length-signs.shape[0]), (0,0)], 'edge')\n",
    "            batch_signs.append(signs)\n",
    "            batch_contexts.append(context)\n",
    "            batch_phrases.append(phrase)\n",
    "\n",
    "        batch_signs = np.array(batch_signs)\n",
    "        batch_contexts = np.array(batch_contexts)\n",
    "        batch_phrases = np.array(batch_phrases)\n",
    "\n",
    "        return [batch_signs, batch_contexts], batch_phrases"
   ],
   "metadata": {
    "collapsed": false
   }
  },
  {
   "cell_type": "markdown",
   "source": [
    "## Execute this cell for version with simple preprocessing (-1):"
   ],
   "metadata": {
    "collapsed": false
   }
  },
  {
   "cell_type": "code",
   "execution_count": 2,
   "outputs": [],
   "source": [
    "# Data with -1 as preprocessing\n",
    "# get output from Data Generator\n",
    "# for validation and test data we did a participant Wise Split!\n",
    "\n",
    "MAX_PHRASE_LENGTH = 100  # experimentally determined untill no errors occured\n",
    "MAX_SIGN_LENGTH = 900  # experimentally determined untill no errors occured\n",
    "BATCH_SIZE= 32\n",
    "\n",
    "data_gen_train = ASLDataGenerator('./dataset complete/preprocessed_files_data_generator/train_ones', MAX_PHRASE_LENGTH, MAX_SIGN_LENGTH, batch_size=BATCH_SIZE)\n",
    "data_gen_train.shuffle()\n",
    "\n",
    "data_gen_test = ASLDataGenerator('./dataset complete/preprocessed_files_data_generator/test_ones', MAX_PHRASE_LENGTH, MAX_SIGN_LENGTH, train=False, batch_size=BATCH_SIZE)\n",
    "\n",
    "data_gen_val = ASLDataGenerator('./dataset complete/preprocessed_files_data_generator/val_ones', MAX_PHRASE_LENGTH, MAX_SIGN_LENGTH, train=False, batch_size=BATCH_SIZE)"
   ],
   "metadata": {
    "collapsed": false,
    "ExecuteTime": {
     "end_time": "2023-07-17T17:47:07.026061800Z",
     "start_time": "2023-07-17T17:47:06.906712500Z"
    }
   }
  },
  {
   "cell_type": "code",
   "execution_count": 3,
   "outputs": [],
   "source": [
    "# get input and phrase from one example of the output of the Data Generator, to later get shape\n",
    "input, phrase = data_gen_train[0]"
   ],
   "metadata": {
    "collapsed": false,
    "ExecuteTime": {
     "end_time": "2023-07-17T17:47:09.638393200Z",
     "start_time": "2023-07-17T17:47:09.583612400Z"
    }
   }
  },
  {
   "cell_type": "markdown",
   "source": [
    "## Execute this cell for version with more complex preprocessing (mirroring):"
   ],
   "metadata": {
    "collapsed": false
   }
  },
  {
   "cell_type": "code",
   "execution_count": 4,
   "outputs": [],
   "source": [
    "# mirrored complex preprocessing data\n",
    "# get output from Data generator\n",
    "\n",
    "import tensorflow as tf\n",
    "MAX_PHRASE_LENGTH = 100\n",
    "MAX_SIGN_LENGTH = 900\n",
    "BATCH_SIZE=32\n",
    "\n",
    "data_gen_train = ASLDataGenerator('./dataset complete/preprocessed_files_data_generator/train', MAX_PHRASE_LENGTH, MAX_SIGN_LENGTH, batch_size=BATCH_SIZE)\n",
    "data_gen_train.shuffle()\n",
    "\n",
    "data_gen_test = ASLDataGenerator('./dataset complete/preprocessed_files_data_generator/test', MAX_PHRASE_LENGTH, MAX_SIGN_LENGTH, train=False, batch_size=BATCH_SIZE)\n",
    "\n",
    "data_gen_val = ASLDataGenerator('./dataset complete/preprocessed_files_data_generator/validation_files', MAX_PHRASE_LENGTH, MAX_SIGN_LENGTH, train=False, batch_size=BATCH_SIZE)"
   ],
   "metadata": {
    "collapsed": false,
    "ExecuteTime": {
     "end_time": "2023-07-14T20:55:02.889516200Z",
     "start_time": "2023-07-14T20:55:02.817453400Z"
    }
   }
  },
  {
   "cell_type": "code",
   "execution_count": null,
   "outputs": [],
   "source": [
    "# get input and phrase from one example of the output of the Data Generator, to later get shape\n",
    "input, phrase = data_gen_train[0]"
   ],
   "metadata": {
    "collapsed": false
   }
  },
  {
   "cell_type": "markdown",
   "source": [
    "# Train Transformer using Generator"
   ],
   "metadata": {
    "collapsed": false
   }
  },
  {
   "cell_type": "code",
   "execution_count": 4,
   "outputs": [],
   "source": [
    "# We used the Parameter values returned from the Hyperparameter tuning\n",
    "\n",
    "import json\n",
    "\n",
    "with open (\"./dataset complete/character_to_prediction_index.json\", \"r\") as f:\n",
    "    characters = json.load(f)\n",
    "\n",
    "# Tuned Hyperparameters\n",
    "EPOCHS = 40\n",
    "d_model = 141  # hidden layer(s) dimensionality\n",
    "num_layers = 1 # how many encoders and decoders to stack\n",
    "num_heads = 3 # how many attention heads should every mha have\n",
    "ff_dim = 389 # how many neurons shall feed-forward layers have\n",
    "dropout_rate = 0.2867\n",
    "\n",
    "output_vocab_size = len(characters) + 3"
   ],
   "metadata": {
    "collapsed": false,
    "ExecuteTime": {
     "end_time": "2023-07-17T17:47:15.128397100Z",
     "start_time": "2023-07-17T17:47:15.119388500Z"
    }
   }
  },
  {
   "cell_type": "code",
   "execution_count": 5,
   "outputs": [
    {
     "data": {
      "text/plain": "62"
     },
     "execution_count": 5,
     "metadata": {},
     "output_type": "execute_result"
    }
   ],
   "source": [
    "output_vocab_size"
   ],
   "metadata": {
    "collapsed": false,
    "ExecuteTime": {
     "end_time": "2023-07-17T15:46:36.935443Z",
     "start_time": "2023-07-17T15:46:36.923427700Z"
    }
   }
  },
  {
   "cell_type": "code",
   "execution_count": 5,
   "outputs": [],
   "source": [
    "from transformer_update import get_compiled_transformer\n",
    "\n",
    "transformer = get_compiled_transformer(\n",
    "    sign_shape=(MAX_SIGN_LENGTH, input[0].shape[-1]),\n",
    "    context_shape=(input[1].shape[-1]),\n",
    "    d_model=d_model,\n",
    "    num_layers=num_layers,\n",
    "    num_heads=num_heads,\n",
    "    ff_dim=ff_dim,\n",
    "    dropout_rate=dropout_rate,\n",
    "    output_vocab_size=output_vocab_size\n",
    ")"
   ],
   "metadata": {
    "collapsed": false,
    "ExecuteTime": {
     "end_time": "2023-07-17T17:47:19.266639200Z",
     "start_time": "2023-07-17T17:47:17.864291900Z"
    }
   }
  },
  {
   "cell_type": "code",
   "execution_count": 7,
   "outputs": [
    {
     "name": "stdout",
     "output_type": "stream",
     "text": [
      "Model: \"model\"\n",
      "__________________________________________________________________________________________________\n",
      " Layer (type)                   Output Shape         Param #     Connected to                     \n",
      "==================================================================================================\n",
      " input_1 (InputLayer)           [(None, 900, 144)]   0           []                               \n",
      "                                                                                                  \n",
      " input_2 (InputLayer)           [(None, 100)]        0           []                               \n",
      "                                                                                                  \n",
      " transformer (Transformer)      (None, 100, 62)      979803      ['input_1[0][0]',                \n",
      "                                                                  'input_2[0][0]']                \n",
      "                                                                                                  \n",
      "==================================================================================================\n",
      "Total params: 979,803\n",
      "Trainable params: 979,803\n",
      "Non-trainable params: 0\n",
      "__________________________________________________________________________________________________\n"
     ]
    }
   ],
   "source": [
    "transformer.summary()"
   ],
   "metadata": {
    "collapsed": false,
    "ExecuteTime": {
     "end_time": "2023-07-17T15:46:43.426922800Z",
     "start_time": "2023-07-17T15:46:43.400836300Z"
    }
   }
  },
  {
   "cell_type": "code",
   "execution_count": 8,
   "outputs": [
    {
     "name": "stdout",
     "output_type": "stream",
     "text": [
      "Num GPUs Available:  1\n"
     ]
    }
   ],
   "source": [
    "print(\"Num GPUs Available: \", len(tf.config.list_physical_devices('GPU')))"
   ],
   "metadata": {
    "collapsed": false,
    "ExecuteTime": {
     "end_time": "2023-07-16T09:16:21.641810800Z",
     "start_time": "2023-07-16T09:16:21.631801200Z"
    }
   }
  },
  {
   "cell_type": "code",
   "execution_count": 6,
   "outputs": [
    {
     "name": "stdout",
     "output_type": "stream",
     "text": [
      "Epoch 1/40\n",
      "2394/2394 [==============================] - ETA: 0s - loss: 3.0283 - masked_accuracy: 0.1593\n",
      "Epoch 1: saving model to model_checkpoints\\cp-0001.ckpt\n",
      "2394/2394 [==============================] - 240s 99ms/step - loss: 3.0283 - masked_accuracy: 0.1593 - val_loss: 2.5257 - val_masked_accuracy: 0.2330\n",
      "Epoch 2/40\n",
      "2394/2394 [==============================] - ETA: 0s - loss: 2.6653 - masked_accuracy: 0.2088\n",
      "Epoch 2: saving model to model_checkpoints\\cp-0002.ckpt\n",
      "2394/2394 [==============================] - 236s 99ms/step - loss: 2.6653 - masked_accuracy: 0.2088 - val_loss: 2.4890 - val_masked_accuracy: 0.2696\n",
      "Epoch 3/40\n",
      "2394/2394 [==============================] - ETA: 0s - loss: 2.5596 - masked_accuracy: 0.2384\n",
      "Epoch 3: saving model to model_checkpoints\\cp-0003.ckpt\n",
      "2394/2394 [==============================] - 237s 99ms/step - loss: 2.5596 - masked_accuracy: 0.2384 - val_loss: 2.3701 - val_masked_accuracy: 0.2870\n",
      "Epoch 4/40\n",
      "2394/2394 [==============================] - ETA: 0s - loss: 2.4795 - masked_accuracy: 0.2538\n",
      "Epoch 4: saving model to model_checkpoints\\cp-0004.ckpt\n",
      "2394/2394 [==============================] - 236s 99ms/step - loss: 2.4795 - masked_accuracy: 0.2538 - val_loss: 2.2713 - val_masked_accuracy: 0.3128\n",
      "Epoch 5/40\n",
      "2394/2394 [==============================] - ETA: 0s - loss: 2.4291 - masked_accuracy: 0.2723\n",
      "Epoch 5: saving model to model_checkpoints\\cp-0005.ckpt\n",
      "2394/2394 [==============================] - 235s 98ms/step - loss: 2.4291 - masked_accuracy: 0.2723 - val_loss: 2.1898 - val_masked_accuracy: 0.3362\n",
      "Epoch 6/40\n",
      "2394/2394 [==============================] - ETA: 0s - loss: 2.4002 - masked_accuracy: 0.2766\n",
      "Epoch 6: saving model to model_checkpoints\\cp-0006.ckpt\n",
      "2394/2394 [==============================] - 236s 98ms/step - loss: 2.4002 - masked_accuracy: 0.2766 - val_loss: 2.1750 - val_masked_accuracy: 0.3430\n",
      "Epoch 7/40\n",
      "2394/2394 [==============================] - ETA: 0s - loss: 2.3680 - masked_accuracy: 0.2884\n",
      "Epoch 7: saving model to model_checkpoints\\cp-0007.ckpt\n",
      "2394/2394 [==============================] - 236s 99ms/step - loss: 2.3680 - masked_accuracy: 0.2884 - val_loss: 2.1397 - val_masked_accuracy: 0.3486\n",
      "Epoch 8/40\n",
      "2394/2394 [==============================] - ETA: 0s - loss: 2.3411 - masked_accuracy: 0.2947\n",
      "Epoch 8: saving model to model_checkpoints\\cp-0008.ckpt\n",
      "2394/2394 [==============================] - 236s 99ms/step - loss: 2.3411 - masked_accuracy: 0.2947 - val_loss: 2.1188 - val_masked_accuracy: 0.3640\n",
      "Epoch 9/40\n",
      "2394/2394 [==============================] - ETA: 0s - loss: 2.2986 - masked_accuracy: 0.3057\n",
      "Epoch 9: saving model to model_checkpoints\\cp-0009.ckpt\n",
      "2394/2394 [==============================] - 236s 99ms/step - loss: 2.2986 - masked_accuracy: 0.3057 - val_loss: 2.0944 - val_masked_accuracy: 0.3586\n",
      "Epoch 10/40\n",
      "2394/2394 [==============================] - ETA: 0s - loss: 2.2907 - masked_accuracy: 0.3071\n",
      "Epoch 10: saving model to model_checkpoints\\cp-0010.ckpt\n",
      "2394/2394 [==============================] - 236s 98ms/step - loss: 2.2907 - masked_accuracy: 0.3071 - val_loss: 2.0453 - val_masked_accuracy: 0.3751\n",
      "Epoch 11/40\n",
      "2394/2394 [==============================] - ETA: 0s - loss: 2.2984 - masked_accuracy: 0.3095\n",
      "Epoch 11: saving model to model_checkpoints\\cp-0011.ckpt\n",
      "2394/2394 [==============================] - 236s 99ms/step - loss: 2.2984 - masked_accuracy: 0.3095 - val_loss: 2.0165 - val_masked_accuracy: 0.3862\n",
      "Epoch 12/40\n",
      "2394/2394 [==============================] - ETA: 0s - loss: 2.2657 - masked_accuracy: 0.3155\n",
      "Epoch 12: saving model to model_checkpoints\\cp-0012.ckpt\n",
      "2394/2394 [==============================] - 236s 98ms/step - loss: 2.2657 - masked_accuracy: 0.3155 - val_loss: 2.0115 - val_masked_accuracy: 0.3810\n",
      "Epoch 13/40\n",
      "2394/2394 [==============================] - ETA: 0s - loss: 2.2525 - masked_accuracy: 0.3187\n",
      "Epoch 13: saving model to model_checkpoints\\cp-0013.ckpt\n",
      "2394/2394 [==============================] - 236s 98ms/step - loss: 2.2525 - masked_accuracy: 0.3187 - val_loss: 2.0451 - val_masked_accuracy: 0.3794\n",
      "Epoch 14/40\n",
      "2394/2394 [==============================] - ETA: 0s - loss: 2.2381 - masked_accuracy: 0.3241\n",
      "Epoch 14: saving model to model_checkpoints\\cp-0014.ckpt\n",
      "2394/2394 [==============================] - 237s 99ms/step - loss: 2.2381 - masked_accuracy: 0.3241 - val_loss: 1.9784 - val_masked_accuracy: 0.4057\n",
      "Epoch 15/40\n",
      "2394/2394 [==============================] - ETA: 0s - loss: 2.2129 - masked_accuracy: 0.3317\n",
      "Epoch 15: saving model to model_checkpoints\\cp-0015.ckpt\n",
      "2394/2394 [==============================] - 236s 99ms/step - loss: 2.2129 - masked_accuracy: 0.3317 - val_loss: 1.8998 - val_masked_accuracy: 0.4320\n",
      "Epoch 16/40\n",
      "2394/2394 [==============================] - ETA: 0s - loss: 2.1561 - masked_accuracy: 0.3496\n",
      "Epoch 16: saving model to model_checkpoints\\cp-0016.ckpt\n",
      "2394/2394 [==============================] - 236s 99ms/step - loss: 2.1561 - masked_accuracy: 0.3496 - val_loss: 1.8092 - val_masked_accuracy: 0.4549\n",
      "Epoch 17/40\n",
      "2394/2394 [==============================] - ETA: 0s - loss: 2.1211 - masked_accuracy: 0.3614\n",
      "Epoch 17: saving model to model_checkpoints\\cp-0017.ckpt\n",
      "2394/2394 [==============================] - 235s 98ms/step - loss: 2.1211 - masked_accuracy: 0.3614 - val_loss: 1.7762 - val_masked_accuracy: 0.4567\n",
      "Epoch 18/40\n",
      "2394/2394 [==============================] - ETA: 0s - loss: 2.0968 - masked_accuracy: 0.3654\n",
      "Epoch 18: saving model to model_checkpoints\\cp-0018.ckpt\n",
      "2394/2394 [==============================] - 235s 98ms/step - loss: 2.0968 - masked_accuracy: 0.3654 - val_loss: 1.7711 - val_masked_accuracy: 0.4585\n",
      "Epoch 19/40\n",
      "2394/2394 [==============================] - ETA: 0s - loss: 2.0925 - masked_accuracy: 0.3714\n",
      "Epoch 19: saving model to model_checkpoints\\cp-0019.ckpt\n",
      "2394/2394 [==============================] - 235s 98ms/step - loss: 2.0925 - masked_accuracy: 0.3714 - val_loss: 1.7208 - val_masked_accuracy: 0.4746\n",
      "Epoch 20/40\n",
      "2394/2394 [==============================] - ETA: 0s - loss: 2.0857 - masked_accuracy: 0.3712\n",
      "Epoch 20: saving model to model_checkpoints\\cp-0020.ckpt\n",
      "2394/2394 [==============================] - 236s 98ms/step - loss: 2.0857 - masked_accuracy: 0.3712 - val_loss: 1.7347 - val_masked_accuracy: 0.4724\n",
      "Epoch 21/40\n",
      "2394/2394 [==============================] - ETA: 0s - loss: 2.0540 - masked_accuracy: 0.3800\n",
      "Epoch 21: saving model to model_checkpoints\\cp-0021.ckpt\n",
      "2394/2394 [==============================] - 236s 99ms/step - loss: 2.0540 - masked_accuracy: 0.3800 - val_loss: 1.7116 - val_masked_accuracy: 0.4775\n",
      "Epoch 22/40\n",
      "2394/2394 [==============================] - ETA: 0s - loss: 2.0621 - masked_accuracy: 0.3779\n",
      "Epoch 22: saving model to model_checkpoints\\cp-0022.ckpt\n",
      "2394/2394 [==============================] - 236s 98ms/step - loss: 2.0621 - masked_accuracy: 0.3779 - val_loss: 1.6963 - val_masked_accuracy: 0.4916\n",
      "Epoch 23/40\n",
      "2394/2394 [==============================] - ETA: 0s - loss: 2.0436 - masked_accuracy: 0.3818\n",
      "Epoch 23: saving model to model_checkpoints\\cp-0023.ckpt\n",
      "2394/2394 [==============================] - 235s 98ms/step - loss: 2.0436 - masked_accuracy: 0.3818 - val_loss: 1.6881 - val_masked_accuracy: 0.4849\n",
      "Epoch 24/40\n",
      "2394/2394 [==============================] - ETA: 0s - loss: 2.0335 - masked_accuracy: 0.3857\n",
      "Epoch 24: saving model to model_checkpoints\\cp-0024.ckpt\n",
      "2394/2394 [==============================] - 235s 98ms/step - loss: 2.0335 - masked_accuracy: 0.3857 - val_loss: 1.6888 - val_masked_accuracy: 0.4894\n",
      "Epoch 25/40\n",
      "2394/2394 [==============================] - ETA: 0s - loss: 2.0138 - masked_accuracy: 0.3910\n",
      "Epoch 25: saving model to model_checkpoints\\cp-0025.ckpt\n",
      "2394/2394 [==============================] - 235s 98ms/step - loss: 2.0138 - masked_accuracy: 0.3910 - val_loss: 1.6730 - val_masked_accuracy: 0.4951\n",
      "Epoch 26/40\n",
      "2394/2394 [==============================] - ETA: 0s - loss: 2.0127 - masked_accuracy: 0.3918\n",
      "Epoch 26: saving model to model_checkpoints\\cp-0026.ckpt\n",
      "2394/2394 [==============================] - 235s 98ms/step - loss: 2.0127 - masked_accuracy: 0.3918 - val_loss: 1.6236 - val_masked_accuracy: 0.5047\n",
      "Epoch 27/40\n",
      "2394/2394 [==============================] - ETA: 0s - loss: 2.0208 - masked_accuracy: 0.3890\n",
      "Epoch 27: saving model to model_checkpoints\\cp-0027.ckpt\n",
      "2394/2394 [==============================] - 235s 98ms/step - loss: 2.0208 - masked_accuracy: 0.3890 - val_loss: 1.6518 - val_masked_accuracy: 0.4896\n",
      "Epoch 28/40\n",
      "2394/2394 [==============================] - ETA: 0s - loss: 2.0192 - masked_accuracy: 0.3888\n",
      "Epoch 28: saving model to model_checkpoints\\cp-0028.ckpt\n",
      "2394/2394 [==============================] - 236s 99ms/step - loss: 2.0192 - masked_accuracy: 0.3888 - val_loss: 1.6772 - val_masked_accuracy: 0.4900\n",
      "Epoch 29/40\n",
      "2394/2394 [==============================] - ETA: 0s - loss: 1.9907 - masked_accuracy: 0.4004\n",
      "Epoch 29: saving model to model_checkpoints\\cp-0029.ckpt\n",
      "2394/2394 [==============================] - 236s 99ms/step - loss: 1.9907 - masked_accuracy: 0.4004 - val_loss: 1.6351 - val_masked_accuracy: 0.5028\n",
      "482/482 [==============================] - 22s 45ms/step - loss: 1.6007 - masked_accuracy: 0.5128\n"
     ]
    },
    {
     "data": {
      "text/plain": "[1.600693702697754, 0.5128329992294312]"
     },
     "execution_count": 6,
     "metadata": {},
     "output_type": "execute_result"
    }
   ],
   "source": [
    "cp_callback = tf.keras.callbacks.ModelCheckpoint(\n",
    "    filepath=\"model_checkpoints/cp-{epoch:04d}.ckpt\", save_weights_only=True, verbose=1\n",
    ")\n",
    "es_callback = tf.keras.callbacks.EarlyStopping(\n",
    "    monitor='val_loss',\n",
    "    patience=3,\n",
    "    restore_best_weights=True\n",
    ")\n",
    "#shuffle_callback = ShuffleCallback()\n",
    "\n",
    "history = transformer.fit(data_gen_train, epochs=EPOCHS, batch_size=BATCH_SIZE, validation_data=data_gen_val, callbacks=[cp_callback, es_callback])\n",
    "\n",
    "transformer.evaluate(data_gen_test, batch_size=BATCH_SIZE)"
   ],
   "metadata": {
    "collapsed": false,
    "ExecuteTime": {
     "end_time": "2023-07-17T19:41:51.051248Z",
     "start_time": "2023-07-17T17:47:26.219986600Z"
    }
   }
  },
  {
   "cell_type": "code",
   "execution_count": 7,
   "outputs": [],
   "source": [
    "# saving weights to file, so we can integrate these in the python server of our application\n",
    "transformer.save_weights('./savedModelWeights/savedModelWeights')"
   ],
   "metadata": {
    "collapsed": false,
    "ExecuteTime": {
     "end_time": "2023-07-17T19:41:51.159428600Z",
     "start_time": "2023-07-17T19:41:51.050247400Z"
    }
   }
  },
  {
   "cell_type": "code",
   "execution_count": 11,
   "outputs": [
    {
     "data": {
      "text/plain": "<tensorflow.python.checkpoint.checkpoint.CheckpointLoadStatus at 0x237a0c13c40>"
     },
     "execution_count": 11,
     "metadata": {},
     "output_type": "execute_result"
    }
   ],
   "source": [
    "restored = get_compiled_transformer(\n",
    "    sign_shape=(MAX_SIGN_LENGTH, input[0].shape[-1]),\n",
    "    context_shape=(input[1].shape[-1]),\n",
    "    d_model=d_model,\n",
    "    num_layers=num_layers,\n",
    "    num_heads=num_heads,\n",
    "    ff_dim=ff_dim,\n",
    "    dropout_rate=dropout_rate,\n",
    "    output_vocab_size=output_vocab_size\n",
    ")\n",
    "\n",
    "restored.load_weights('./savedModelWeights')"
   ],
   "metadata": {
    "collapsed": false,
    "ExecuteTime": {
     "end_time": "2023-07-16T09:21:34.382750800Z",
     "start_time": "2023-07-16T09:21:33.853244100Z"
    }
   }
  },
  {
   "cell_type": "markdown",
   "source": [
    "## Show Plots for Training history\n",
    "Saved history to file to be able to display plots with upgraded matplotlib version"
   ],
   "metadata": {
    "collapsed": false
   }
  },
  {
   "cell_type": "code",
   "execution_count": 16,
   "outputs": [
    {
     "name": "stdout",
     "output_type": "stream",
     "text": [
      "dict_keys(['loss', 'masked_accuracy', 'val_loss', 'val_masked_accuracy'])\n"
     ]
    }
   ],
   "source": [
    "print(history.history.keys())"
   ],
   "metadata": {
    "collapsed": false,
    "ExecuteTime": {
     "end_time": "2023-07-11T17:18:55.254085300Z",
     "start_time": "2023-07-11T17:18:55.250080200Z"
    }
   }
  },
  {
   "cell_type": "code",
   "execution_count": 27,
   "outputs": [],
   "source": [
    "import pickle\n",
    "\n",
    "# Saved the history to a file using pickle\n",
    "with open(\"training_history.pkl\", \"wb\") as f:\n",
    "    pickle.dump(history.history, f)"
   ],
   "metadata": {
    "collapsed": false,
    "ExecuteTime": {
     "end_time": "2023-07-17T20:58:37.146962200Z",
     "start_time": "2023-07-17T20:58:37.132965200Z"
    }
   }
  },
  {
   "cell_type": "code",
   "execution_count": null,
   "outputs": [],
   "source": [
    "import pickle\n",
    "\n",
    "# Load the history from the file\n",
    "with open(\"training_history.pkl\", \"rb\") as f:\n",
    "    loaded_history = pickle.load(f)\n",
    "loaded_history"
   ],
   "metadata": {
    "collapsed": false
   }
  },
  {
   "cell_type": "code",
   "execution_count": 3,
   "outputs": [
    {
     "data": {
      "text/plain": "<Figure size 640x480 with 1 Axes>",
      "image/png": "[encoded data removed]"
     },
     "metadata": {},
     "output_type": "display_data"
    }
   ],
   "source": [
    "import matplotlib.pyplot as plt\n",
    "\n",
    "plt.plot(loaded_history['masked_accuracy'])\n",
    "plt.plot(loaded_history['val_masked_accuracy'])\n",
    "plt.title('Accuracy over Epochs')\n",
    "plt.ylabel('accuracy')\n",
    "plt.xlabel('epoch')\n",
    "plt.legend(['train', 'test'], loc='upper left')\n",
    "plt.show()"
   ],
   "metadata": {
    "collapsed": false,
    "ExecuteTime": {
     "end_time": "2023-07-17T21:03:05.038912700Z",
     "start_time": "2023-07-17T21:03:04.392783600Z"
    }
   }
  },
  {
   "cell_type": "code",
   "execution_count": 4,
   "outputs": [
    {
     "data": {
      "text/plain": "<Figure size 640x480 with 1 Axes>",
      "image/png": "[encoded data removed]"
     },
     "metadata": {},
     "output_type": "display_data"
    }
   ],
   "source": [
    "plt.plot(loaded_history['loss'])\n",
    "plt.plot(loaded_history['val_loss'])\n",
    "plt.title('Loss over Epochs')\n",
    "plt.ylabel('loss')\n",
    "plt.xlabel('epoch')\n",
    "plt.legend(['train', 'test'], loc='upper left')\n",
    "plt.show()"
   ],
   "metadata": {
    "collapsed": false,
    "ExecuteTime": {
     "end_time": "2023-07-17T21:03:43.672586300Z",
     "start_time": "2023-07-17T21:03:43.560979900Z"
    }
   }
  },
  {
   "cell_type": "markdown",
   "source": [
    "# Translate\n",
    "Test prediction and translation in Python, however only test data from Google available"
   ],
   "metadata": {
    "collapsed": false
   }
  },
  {
   "cell_type": "code",
   "execution_count": 8,
   "outputs": [],
   "source": [
    "#test Translation within Python, however again based on test dataset\n",
    "\n",
    "import tensorflow as tf\n",
    "import numpy as np\n",
    "from copy import deepcopy\n",
    "\n",
    "MAX_PHRASE_LENGTH = 100\n",
    "\n",
    "class Translator:\n",
    "    def __init__(self, transformer):\n",
    "        self.transformer = transformer\n",
    "\n",
    "    def translate(self, signs, max_length=MAX_PHRASE_LENGTH):\n",
    "        print(signs.shape)\n",
    "        signs = tf.convert_to_tensor(signs, dtype=tf.float32, name='input_1')\n",
    "        signs = signs[tf.newaxis]\n",
    "\n",
    "        start = np.array([60])\n",
    "        end = np.array([59])\n",
    "\n",
    "        output = tf.TensorArray(dtype=tf.int64, size=0, dynamic_size=True)\n",
    "        output = output.write(0, start)\n",
    "\n",
    "        for i in tf.range(max_length):\n",
    "            context = deepcopy(output)\n",
    "            while context.size() < 100:\n",
    "                context = context.write(context.size(), end)\n",
    "            context = tf.transpose(context.stack())\n",
    "            context = tf.identity(context, name='input_2')\n",
    "            predictions = self.transformer([signs, context], training=False)\n",
    "\n",
    "            predictions = predictions[:, -1:, :]\n",
    "            predicted = tf.argmax(predictions, axis=-1)\n",
    "            output = output.write(i+1, predicted[0])\n",
    "\n",
    "            if predicted == end:\n",
    "                break\n",
    "\n",
    "        output_tensor = output.stack()  # Convert TensorArray to tensor\n",
    "        output_array = output_tensor.numpy()  # Convert tensor to NumPy array\n",
    "\n",
    "        return output_array"
   ],
   "metadata": {
    "collapsed": false,
    "ExecuteTime": {
     "end_time": "2023-07-14T23:47:33.739614600Z",
     "start_time": "2023-07-14T23:47:33.731602600Z"
    }
   }
  },
  {
   "cell_type": "code",
   "execution_count": 2,
   "outputs": [],
   "source": [
    "transformer = tf.saved_model.load('./savedModel')"
   ],
   "metadata": {
    "collapsed": false,
    "ExecuteTime": {
     "end_time": "2023-07-11T21:29:52.769954500Z",
     "start_time": "2023-07-11T21:29:50.303822600Z"
    }
   }
  },
  {
   "cell_type": "code",
   "execution_count": 9,
   "outputs": [],
   "source": [
    "translator = Translator(transformer)"
   ],
   "metadata": {
    "collapsed": false,
    "ExecuteTime": {
     "end_time": "2023-07-14T23:47:36.186060200Z",
     "start_time": "2023-07-14T23:47:36.180054700Z"
    }
   }
  },
  {
   "cell_type": "code",
   "execution_count": 23,
   "outputs": [
    {
     "name": "stdout",
     "output_type": "stream",
     "text": [
      "(900, 144)\n",
      "[[60]\n",
      " [51]\n",
      " [51]\n",
      " [51]\n",
      " [51]\n",
      " [51]\n",
      " [51]\n",
      " [51]\n",
      " [51]\n",
      " [51]\n",
      " [51]\n",
      " [51]\n",
      " [51]\n",
      " [51]\n",
      " [51]\n",
      " [51]\n",
      " [51]\n",
      " [51]\n",
      " [51]\n",
      " [51]\n",
      " [51]\n",
      " [51]\n",
      " [51]\n",
      " [51]\n",
      " [51]\n",
      " [51]\n",
      " [51]\n",
      " [51]\n",
      " [51]\n",
      " [51]\n",
      " [51]\n",
      " [51]\n",
      " [51]\n",
      " [51]\n",
      " [51]\n",
      " [51]\n",
      " [51]\n",
      " [51]\n",
      " [51]\n",
      " [51]\n",
      " [51]\n",
      " [51]\n",
      " [46]\n",
      " [46]\n",
      " [46]\n",
      " [46]\n",
      " [46]\n",
      " [46]\n",
      " [46]\n",
      " [39]\n",
      " [51]\n",
      " [51]\n",
      " [51]\n",
      " [51]\n",
      " [51]\n",
      " [36]\n",
      " [36]\n",
      " [36]\n",
      " [36]\n",
      " [36]\n",
      " [36]\n",
      " [36]\n",
      " [36]\n",
      " [36]\n",
      " [36]\n",
      " [36]\n",
      " [36]\n",
      " [36]\n",
      " [36]\n",
      " [36]\n",
      " [36]\n",
      " [36]\n",
      " [36]\n",
      " [36]\n",
      " [36]\n",
      " [36]\n",
      " [36]\n",
      " [36]\n",
      " [36]\n",
      " [36]\n",
      " [36]\n",
      " [36]\n",
      " [36]\n",
      " [36]\n",
      " [36]\n",
      " [36]\n",
      " [36]\n",
      " [36]\n",
      " [36]\n",
      " [36]\n",
      " [36]\n",
      " [36]\n",
      " [36]\n",
      " [36]\n",
      " [36]\n",
      " [36]\n",
      " [36]\n",
      " [36]\n",
      " [36]\n",
      " [36]\n",
      " [ 0]]\n"
     ]
    }
   ],
   "source": [
    "output = translator.translate(input[0][0], MAX_PHRASE_LENGTH)\n",
    "print(output)"
   ],
   "metadata": {
    "collapsed": false,
    "ExecuteTime": {
     "end_time": "2023-07-14T23:53:21.388385300Z",
     "start_time": "2023-07-14T23:53:18.353192200Z"
    }
   }
  },
  {
   "cell_type": "code",
   "execution_count": 20,
   "outputs": [
    {
     "data": {
      "text/plain": "array([[33, 49, 32, ..., 59, 59, 59],\n       [33, 49, 32, ..., 59, 59, 59],\n       [33, 49, 32, ..., 59, 59, 59],\n       ...,\n       [33, 49, 32, ..., 59, 59, 59],\n       [33, 49, 32, ..., 59, 59, 59],\n       [33, 49, 32, ..., 59, 59, 59]])"
     },
     "execution_count": 20,
     "metadata": {},
     "output_type": "execute_result"
    }
   ],
   "source": [
    "phrase"
   ],
   "metadata": {
    "collapsed": false,
    "ExecuteTime": {
     "end_time": "2023-07-14T23:51:44.713819700Z",
     "start_time": "2023-07-14T23:51:44.705810900Z"
    }
   }
  }
 ],
 "metadata": {
  "kernelspec": {
   "display_name": "Python 3",
   "language": "python",
   "name": "python3"
  },
  "language_info": {
   "codemirror_mode": {
    "name": "ipython",
    "version": 2
   },
   "file_extension": ".py",
   "mimetype": "text/x-python",
   "name": "python",
   "nbconvert_exporter": "python",
   "pygments_lexer": "ipython2",
   "version": "2.7.6"
  }
 },
 "nbformat": 4,
 "nbformat_minor": 0
}
