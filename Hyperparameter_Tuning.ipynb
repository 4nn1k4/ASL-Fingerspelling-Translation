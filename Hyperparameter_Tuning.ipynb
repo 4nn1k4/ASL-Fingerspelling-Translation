{
 "cells": [
  {
   "cell_type": "code",
   "execution_count": 31,
   "outputs": [],
   "source": [
    "from transformer_hyperparam import get_compiled_transformer\n",
    "import os\n",
    "import pandas as pd\n",
    "from copy import deepcopy\n",
    "import numpy as np\n",
    "import random\n",
    "from tensorflow import keras\n",
    "\n",
    "class ASLDataGenerator(keras.utils.Sequence):\n",
    "\n",
    "    def __init__(self, dataset_path: str, max_phrase_length: int, max_sign_length: int, batch_size: int, train: bool = True):\n",
    "        super().__init__()\n",
    "        self.ds_path = dataset_path\n",
    "        self.files = os.listdir(dataset_path)\n",
    "        self.max_phrase_length = max_phrase_length\n",
    "        self.max_sign_length = max_sign_length\n",
    "        self.unwanted_columns = ['sequence_id', 'frame', 'participant_id', 'phrase']\n",
    "        self.train = train\n",
    "        self.batch_size = batch_size\n",
    "\n",
    "    def __len__(self):\n",
    "        return len(self.files)//self.batch_size\n",
    "\n",
    "    def shuffle(self):\n",
    "        random.shuffle(self.files)\n",
    "\n",
    "    def on_epoch_end(self):\n",
    "        if self.train:\n",
    "            self.shuffle()\n",
    "\n",
    "    def __getitem__(self, idx: int):\n",
    "        batch_signs = []\n",
    "        batch_contexts = []\n",
    "        batch_phrases = []\n",
    "        for i in range(idx, idx+self.batch_size):\n",
    "            df_phrase = pd.read_pickle(self.ds_path + '/' + self.files[idx])\n",
    "            phrase = df_phrase.iloc[0].phrase\n",
    "            if len(phrase) > self.max_phrase_length:\n",
    "                print('Houston we have a problem!')\n",
    "\n",
    "            while len(phrase) < self.max_phrase_length:\n",
    "                phrase.append(59)\n",
    "            context = deepcopy(phrase)\n",
    "            context.insert(0, 60)\n",
    "            context = context[:-1]\n",
    "\n",
    "            df_phrase = df_phrase.drop(self.unwanted_columns, axis=1)\n",
    "            signs = df_phrase.to_numpy(copy=True)\n",
    "\n",
    "            if signs.shape[0] > self.max_sign_length:\n",
    "                print('Hooooouuuuusteeeeeen!')\n",
    "            signs = np.pad(signs, [(0, self.max_sign_length-signs.shape[0]), (0,0)], 'edge')\n",
    "            batch_signs.append(signs)\n",
    "            batch_contexts.append(context)\n",
    "            batch_phrases.append(phrase)\n",
    "\n",
    "        batch_signs = np.array(batch_signs)\n",
    "        batch_contexts = np.array(batch_contexts)\n",
    "        batch_phrases = np.array(batch_phrases)\n",
    "\n",
    "        return [batch_signs, batch_contexts], batch_phrases"
   ],
   "metadata": {
    "collapsed": false,
    "ExecuteTime": {
     "end_time": "2023-07-11T07:09:31.987325700Z",
     "start_time": "2023-07-11T07:09:31.962302800Z"
    }
   }
  },
  {
   "cell_type": "code",
   "execution_count": 32,
   "outputs": [],
   "source": [
    "MAX_PHRASE_LENGTH = 100\n",
    "MAX_SIGN_LENGTH = 900\n",
    "BATCH_SIZE=32\n",
    "\n",
    "data_gen_train = ASLDataGenerator('./dataset complete/preprocessed_files_data_generator/train_ones', MAX_PHRASE_LENGTH, MAX_SIGN_LENGTH, batch_size=BATCH_SIZE)\n",
    "data_gen_train.shuffle()\n",
    "\n",
    "data_gen_test = ASLDataGenerator('./dataset complete/preprocessed_files_data_generator/test_ones', MAX_PHRASE_LENGTH, MAX_SIGN_LENGTH, train=False, batch_size=BATCH_SIZE)\n",
    "\n",
    "data_gen_val = ASLDataGenerator('./dataset complete/preprocessed_files_data_generator/val_ones', MAX_PHRASE_LENGTH, MAX_SIGN_LENGTH, train=False, batch_size=BATCH_SIZE)"
   ],
   "metadata": {
    "collapsed": false,
    "ExecuteTime": {
     "end_time": "2023-07-11T07:09:32.076194200Z",
     "start_time": "2023-07-11T07:09:31.968308800Z"
    }
   }
  },
  {
   "cell_type": "code",
   "execution_count": 33,
   "outputs": [],
   "source": [
    "import optuna\n",
    "import json\n",
    "\n",
    "epochs = 5\n",
    "\n",
    "def objective(trial):\n",
    "    #starting from:\n",
    "    # d_model = trial.suggest_int('d_model', 20, 256)\n",
    "    #num_layers = trial.suggest_int('num_layers', 1, 10)\n",
    "    #num_heads = trial.suggest_int('num_heads', 2, 10)\n",
    "    #ff_dim = trial.suggest_int('ff_dim', 32, 1024)\n",
    "    #dropout_rate = trial.suggest_float('droupout_rate', 0., 0.6)\n",
    "\n",
    "    d_model = trial.suggest_int('d_model', 20, 145) #\n",
    "    num_layers = trial.suggest_int('num_layers', 1, 2)\n",
    "    num_heads = trial.suggest_int('num_heads', 2, 4)\n",
    "    ff_dim = trial.suggest_int('ff_dim', 32, 400)\n",
    "    dropout_rate = trial.suggest_float('droupout_rate', 0., 0.28)\n",
    "\n",
    "    with open (\"./dataset complete/character_to_prediction_index.json\", \"r\") as f:\n",
    "        characters = json.load(f)\n",
    "\n",
    "    output_vocab_size = len(characters) + 2\n",
    "\n",
    "    #print('Got Values')\n",
    "\n",
    "    transformer = get_compiled_transformer(\n",
    "        d_model=d_model,\n",
    "        num_layers=num_layers,\n",
    "        num_heads=num_heads,\n",
    "        ff_dim=ff_dim,\n",
    "        dropout_rate=dropout_rate,\n",
    "        output_vocab_size=output_vocab_size)\n",
    "\n",
    "    #print('Got Transformer')\n",
    "\n",
    "    callbacks = [\n",
    "        optuna.integration.TFKerasPruningCallback(trial, 'val_loss'),\n",
    "    ]\n",
    "    # print('Training....')\n",
    "    history = transformer.fit(data_gen_train, epochs=epochs, batch_size=BATCH_SIZE, validation_data=data_gen_val, callbacks=callbacks)\n",
    "    #print('Training complete!')\n",
    "\n",
    "    eval_results = transformer.evaluate(data_gen_test, batch_size = BATCH_SIZE)\n",
    "    print(f'Result:{float(eval_results[0]) }')\n",
    "\n",
    "    return float(eval_results[0])"
   ],
   "metadata": {
    "collapsed": false,
    "ExecuteTime": {
     "end_time": "2023-07-11T07:09:32.091233900Z",
     "start_time": "2023-07-11T07:09:32.078195800Z"
    }
   }
  },
  {
   "cell_type": "code",
   "execution_count": 34,
   "outputs": [
    {
     "name": "stderr",
     "output_type": "stream",
     "text": [
      "[I 2023-07-11 09:09:32,096] A new study created in memory with name: no-name-337031c5-7846-4e01-bbef-47da830462be\n"
     ]
    },
    {
     "name": "stdout",
     "output_type": "stream",
     "text": [
      "Epoch 1/5\n",
      "   6/2394 [..............................] - ETA: 2:52 - loss: 4.6836 - masked_accuracy: 0.0086WARNING:tensorflow:Callback method `on_train_batch_end` is slow compared to the batch time (batch time: 0.0368s vs `on_train_batch_end` time: 0.0456s). Check your callbacks.\n",
      "2394/2394 [==============================] - 178s 73ms/step - loss: 2.9731 - masked_accuracy: 0.1660 - val_loss: 2.5226 - val_masked_accuracy: 0.2307\n",
      "Epoch 2/5\n",
      "2394/2394 [==============================] - 175s 73ms/step - loss: 2.6098 - masked_accuracy: 0.2204 - val_loss: 2.4216 - val_masked_accuracy: 0.2671\n",
      "Epoch 3/5\n",
      "2394/2394 [==============================] - 176s 73ms/step - loss: 2.4862 - masked_accuracy: 0.2513 - val_loss: 2.2678 - val_masked_accuracy: 0.3094\n",
      "Epoch 4/5\n",
      "2394/2394 [==============================] - 174s 73ms/step - loss: 2.3822 - masked_accuracy: 0.2803 - val_loss: 2.1621 - val_masked_accuracy: 0.3374\n",
      "Epoch 5/5\n",
      "2394/2394 [==============================] - 174s 73ms/step - loss: 2.2683 - masked_accuracy: 0.3134 - val_loss: 2.0252 - val_masked_accuracy: 0.3665\n",
      "482/482 [==============================] - 27s 57ms/step - loss: 2.0122 - masked_accuracy: 0.3842\n"
     ]
    },
    {
     "name": "stderr",
     "output_type": "stream",
     "text": [
      "[I 2023-07-11 09:24:37,266] Trial 0 finished with value: 2.0121541023254395 and parameters: {'d_model': 130, 'num_layers': 1, 'num_heads': 2, 'ff_dim': 381, 'droupout_rate': 0.11111424528918497}. Best is trial 0 with value: 2.0121541023254395.\n"
     ]
    },
    {
     "name": "stdout",
     "output_type": "stream",
     "text": [
      "Result:2.0121541023254395\n",
      "Epoch 1/5\n",
      "   6/2394 [..............................] - ETA: 4:39 - loss: 4.5150 - masked_accuracy: 0.0095WARNING:tensorflow:Callback method `on_train_batch_end` is slow compared to the batch time (batch time: 0.0595s vs `on_train_batch_end` time: 0.0693s). Check your callbacks.\n",
      "2394/2394 [==============================] - 281s 116ms/step - loss: 3.0722 - masked_accuracy: 0.1509 - val_loss: 2.6053 - val_masked_accuracy: 0.2171\n",
      "Epoch 2/5\n",
      "2394/2394 [==============================] - 278s 116ms/step - loss: 2.6722 - masked_accuracy: 0.2012 - val_loss: 2.5083 - val_masked_accuracy: 0.2517\n",
      "Epoch 3/5\n",
      "2394/2394 [==============================] - 278s 116ms/step - loss: 2.5811 - masked_accuracy: 0.2210 - val_loss: 2.3950 - val_masked_accuracy: 0.2749\n",
      "Epoch 4/5\n",
      "2394/2394 [==============================] - 278s 116ms/step - loss: 2.5417 - masked_accuracy: 0.2295 - val_loss: 2.3823 - val_masked_accuracy: 0.2869\n",
      "Epoch 5/5\n",
      "2394/2394 [==============================] - 278s 116ms/step - loss: 2.4994 - masked_accuracy: 0.2408 - val_loss: 2.3236 - val_masked_accuracy: 0.2823\n",
      "482/482 [==============================] - 25s 51ms/step - loss: 2.3174 - masked_accuracy: 0.2874\n"
     ]
    },
    {
     "name": "stderr",
     "output_type": "stream",
     "text": [
      "[I 2023-07-11 09:48:16,457] Trial 1 finished with value: 2.3174233436584473 and parameters: {'d_model': 40, 'num_layers': 2, 'num_heads': 4, 'ff_dim': 73, 'droupout_rate': 0.21955007933431644}. Best is trial 0 with value: 2.0121541023254395.\n"
     ]
    },
    {
     "name": "stdout",
     "output_type": "stream",
     "text": [
      "Result:2.3174233436584473\n",
      "Epoch 1/5\n",
      "2394/2394 [==============================] - 140s 58ms/step - loss: 3.0115 - masked_accuracy: 0.1634 - val_loss: 2.5176 - val_masked_accuracy: 0.2343\n",
      "Epoch 2/5\n",
      "2394/2394 [==============================] - 140s 58ms/step - loss: 2.6212 - masked_accuracy: 0.2120 - val_loss: 2.4473 - val_masked_accuracy: 0.2427\n",
      "Epoch 3/5\n",
      "2394/2394 [==============================] - 139s 58ms/step - loss: 2.5100 - masked_accuracy: 0.2418 - val_loss: 2.3354 - val_masked_accuracy: 0.2810\n",
      "Epoch 4/5\n",
      "2394/2394 [==============================] - 139s 58ms/step - loss: 2.4495 - masked_accuracy: 0.2599 - val_loss: 2.2387 - val_masked_accuracy: 0.3098\n",
      "Epoch 5/5\n",
      "2394/2394 [==============================] - 138s 58ms/step - loss: 2.4013 - masked_accuracy: 0.2731 - val_loss: 2.1644 - val_masked_accuracy: 0.3374\n",
      "482/482 [==============================] - 24s 49ms/step - loss: 2.1362 - masked_accuracy: 0.3558\n"
     ]
    },
    {
     "name": "stderr",
     "output_type": "stream",
     "text": [
      "[I 2023-07-11 10:00:17,242] Trial 2 finished with value: 2.1362009048461914 and parameters: {'d_model': 58, 'num_layers': 1, 'num_heads': 3, 'ff_dim': 351, 'droupout_rate': 0.13513821255214498}. Best is trial 0 with value: 2.0121541023254395.\n"
     ]
    },
    {
     "name": "stdout",
     "output_type": "stream",
     "text": [
      "Result:2.1362009048461914\n",
      "Epoch 1/5\n",
      "   6/2394 [..............................] - ETA: 3:20 - loss: 4.7775 - masked_accuracy: 0.0030WARNING:tensorflow:Callback method `on_train_batch_end` is slow compared to the batch time (batch time: 0.0408s vs `on_train_batch_end` time: 0.0466s). Check your callbacks.\n",
      "2394/2394 [==============================] - 164s 67ms/step - loss: 2.9358 - masked_accuracy: 0.1727 - val_loss: 2.5861 - val_masked_accuracy: 0.2345\n",
      "Epoch 2/5\n",
      "2394/2394 [==============================] - ETA: 0s - loss: 2.6141 - masked_accuracy: 0.2198"
     ]
    },
    {
     "name": "stderr",
     "output_type": "stream",
     "text": [
      "[I 2023-07-11 10:05:42,929] Trial 3 pruned. Trial was pruned at epoch 1.\n"
     ]
    },
    {
     "name": "stdout",
     "output_type": "stream",
     "text": [
      "Epoch 1/5\n",
      "2394/2394 [==============================] - 125s 51ms/step - loss: 3.0066 - masked_accuracy: 0.1652 - val_loss: 2.5525 - val_masked_accuracy: 0.2328\n",
      "Epoch 2/5\n",
      "2394/2394 [==============================] - ETA: 0s - loss: 2.6561 - masked_accuracy: 0.2080"
     ]
    },
    {
     "name": "stderr",
     "output_type": "stream",
     "text": [
      "[I 2023-07-11 10:09:59,184] Trial 4 pruned. Trial was pruned at epoch 1.\n"
     ]
    },
    {
     "name": "stdout",
     "output_type": "stream",
     "text": [
      "Epoch 1/5\n",
      "   6/2394 [..............................] - ETA: 3:12 - loss: 4.5702 - masked_accuracy: 0.0172WARNING:tensorflow:Callback method `on_train_batch_end` is slow compared to the batch time (batch time: 0.0415s vs `on_train_batch_end` time: 0.0418s). Check your callbacks.\n",
      "2394/2394 [==============================] - 165s 68ms/step - loss: 3.0193 - masked_accuracy: 0.1575 - val_loss: 2.5002 - val_masked_accuracy: 0.2301\n",
      "Epoch 2/5\n",
      "2394/2394 [==============================] - 164s 69ms/step - loss: 2.6239 - masked_accuracy: 0.2164 - val_loss: 2.4299 - val_masked_accuracy: 0.2426\n",
      "Epoch 3/5\n",
      "2394/2394 [==============================] - 164s 68ms/step - loss: 2.5095 - masked_accuracy: 0.2423 - val_loss: 2.3607 - val_masked_accuracy: 0.2738\n",
      "Epoch 4/5\n",
      "2394/2394 [==============================] - 164s 69ms/step - loss: 2.4343 - masked_accuracy: 0.2612 - val_loss: 2.2471 - val_masked_accuracy: 0.3173\n",
      "Epoch 5/5\n",
      "2394/2394 [==============================] - ETA: 0s - loss: 2.3730 - masked_accuracy: 0.2771"
     ]
    },
    {
     "name": "stderr",
     "output_type": "stream",
     "text": [
      "[I 2023-07-11 10:23:40,909] Trial 5 pruned. Trial was pruned at epoch 4.\n"
     ]
    },
    {
     "name": "stdout",
     "output_type": "stream",
     "text": [
      "Epoch 1/5\n",
      "   6/2394 [..............................] - ETA: 2:47 - loss: 4.6262 - masked_accuracy: 0.0148WARNING:tensorflow:Callback method `on_train_batch_end` is slow compared to the batch time (batch time: 0.0363s vs `on_train_batch_end` time: 0.0378s). Check your callbacks.\n",
      "2394/2394 [==============================] - 164s 68ms/step - loss: 3.0120 - masked_accuracy: 0.1620 - val_loss: 2.5184 - val_masked_accuracy: 0.2581\n",
      "Epoch 2/5\n",
      "2394/2394 [==============================] - ETA: 0s - loss: 2.6301 - masked_accuracy: 0.2145"
     ]
    },
    {
     "name": "stderr",
     "output_type": "stream",
     "text": [
      "[I 2023-07-11 10:29:09,050] Trial 6 pruned. Trial was pruned at epoch 1.\n"
     ]
    },
    {
     "name": "stdout",
     "output_type": "stream",
     "text": [
      "Epoch 1/5\n",
      "2394/2394 [==============================] - 133s 55ms/step - loss: 2.9823 - masked_accuracy: 0.1657 - val_loss: 2.5143 - val_masked_accuracy: 0.2406\n",
      "Epoch 2/5\n",
      "2394/2394 [==============================] - ETA: 0s - loss: 2.6236 - masked_accuracy: 0.2173"
     ]
    },
    {
     "name": "stderr",
     "output_type": "stream",
     "text": [
      "[I 2023-07-11 10:33:32,988] Trial 7 pruned. Trial was pruned at epoch 1.\n"
     ]
    },
    {
     "name": "stdout",
     "output_type": "stream",
     "text": [
      "Epoch 1/5\n",
      "   6/2394 [..............................] - ETA: 7:09 - loss: 4.9889 - masked_accuracy: 0.0050WARNING:tensorflow:Callback method `on_train_batch_end` is slow compared to the batch time (batch time: 0.0795s vs `on_train_batch_end` time: 0.0987s). Check your callbacks.\n",
      "2394/2394 [==============================] - 441s 183ms/step - loss: 2.9392 - masked_accuracy: 0.1703 - val_loss: 2.5791 - val_masked_accuracy: 0.2311\n",
      "Epoch 2/5\n",
      "2394/2394 [==============================] - ETA: 0s - loss: 2.6925 - masked_accuracy: 0.1996"
     ]
    },
    {
     "name": "stderr",
     "output_type": "stream",
     "text": [
      "[I 2023-07-11 10:48:10,981] Trial 8 pruned. Trial was pruned at epoch 1.\n"
     ]
    },
    {
     "name": "stdout",
     "output_type": "stream",
     "text": [
      "Epoch 1/5\n",
      "2394/2394 [==============================] - 136s 56ms/step - loss: 2.9732 - masked_accuracy: 0.1630 - val_loss: 2.5554 - val_masked_accuracy: 0.2390\n",
      "Epoch 2/5\n",
      "2394/2394 [==============================] - 136s 57ms/step - loss: 2.6294 - masked_accuracy: 0.2120 - val_loss: 2.4065 - val_masked_accuracy: 0.2685\n",
      "Epoch 3/5\n",
      "2394/2394 [==============================] - 137s 57ms/step - loss: 2.4957 - masked_accuracy: 0.2431 - val_loss: 2.2735 - val_masked_accuracy: 0.3119\n",
      "Epoch 4/5\n",
      "2394/2394 [==============================] - 135s 57ms/step - loss: 2.3856 - masked_accuracy: 0.2780 - val_loss: 2.1339 - val_masked_accuracy: 0.3408\n",
      "Epoch 5/5\n",
      "2394/2394 [==============================] - 137s 57ms/step - loss: 2.2930 - masked_accuracy: 0.2998 - val_loss: 2.0540 - val_masked_accuracy: 0.3678\n",
      "482/482 [==============================] - 25s 51ms/step - loss: 2.0401 - masked_accuracy: 0.3764\n"
     ]
    },
    {
     "name": "stderr",
     "output_type": "stream",
     "text": [
      "[I 2023-07-11 10:59:58,109] Trial 9 finished with value: 2.040076494216919 and parameters: {'d_model': 116, 'num_layers': 1, 'num_heads': 2, 'ff_dim': 250, 'droupout_rate': 0.10024168631270144}. Best is trial 0 with value: 2.0121541023254395.\n"
     ]
    },
    {
     "name": "stdout",
     "output_type": "stream",
     "text": [
      "Result:2.040076494216919\n",
      "Epoch 1/5\n",
      "   6/2394 [..............................] - ETA: 7:11 - loss: 4.8056 - masked_accuracy: 0.0013WARNING:tensorflow:Callback method `on_train_batch_end` is slow compared to the batch time (batch time: 0.0816s vs `on_train_batch_end` time: 0.0964s). Check your callbacks.\n",
      "2394/2394 [==============================] - 444s 184ms/step - loss: 2.9055 - masked_accuracy: 0.1745 - val_loss: 2.5858 - val_masked_accuracy: 0.2262\n",
      "Epoch 2/5\n",
      "2394/2394 [==============================] - ETA: 0s - loss: 2.6807 - masked_accuracy: 0.2009"
     ]
    },
    {
     "name": "stderr",
     "output_type": "stream",
     "text": [
      "[I 2023-07-11 11:14:44,358] Trial 10 pruned. Trial was pruned at epoch 1.\n"
     ]
    },
    {
     "name": "stdout",
     "output_type": "stream",
     "text": [
      "Epoch 1/5\n",
      "2394/2394 [==============================] - 144s 60ms/step - loss: 2.9914 - masked_accuracy: 0.1571 - val_loss: 2.5752 - val_masked_accuracy: 0.2224\n",
      "Epoch 2/5\n",
      "2394/2394 [==============================] - ETA: 0s - loss: 2.6475 - masked_accuracy: 0.2072"
     ]
    },
    {
     "name": "stderr",
     "output_type": "stream",
     "text": [
      "[I 2023-07-11 11:19:33,122] Trial 11 pruned. Trial was pruned at epoch 1.\n"
     ]
    },
    {
     "name": "stdout",
     "output_type": "stream",
     "text": [
      "Epoch 1/5\n",
      "2394/2394 [==============================] - 142s 59ms/step - loss: 2.9801 - masked_accuracy: 0.1622 - val_loss: 2.5578 - val_masked_accuracy: 0.2195\n",
      "Epoch 2/5\n",
      "2394/2394 [==============================] - ETA: 0s - loss: 2.6320 - masked_accuracy: 0.2136"
     ]
    },
    {
     "name": "stderr",
     "output_type": "stream",
     "text": [
      "[I 2023-07-11 11:24:16,552] Trial 12 pruned. Trial was pruned at epoch 1.\n"
     ]
    },
    {
     "name": "stdout",
     "output_type": "stream",
     "text": [
      "Epoch 1/5\n",
      "   6/2394 [..............................] - ETA: 2:59 - loss: 4.8997 - masked_accuracy: 0.0129WARNING:tensorflow:Callback method `on_train_batch_end` is slow compared to the batch time (batch time: 0.0409s vs `on_train_batch_end` time: 0.0419s). Check your callbacks.\n",
      "2394/2394 [==============================] - 163s 67ms/step - loss: 2.9595 - masked_accuracy: 0.1687 - val_loss: 2.5574 - val_masked_accuracy: 0.2348\n",
      "Epoch 2/5\n",
      "2394/2394 [==============================] - ETA: 0s - loss: 2.6212 - masked_accuracy: 0.2165"
     ]
    },
    {
     "name": "stderr",
     "output_type": "stream",
     "text": [
      "[I 2023-07-11 11:29:42,639] Trial 13 pruned. Trial was pruned at epoch 1.\n"
     ]
    },
    {
     "name": "stdout",
     "output_type": "stream",
     "text": [
      "Epoch 1/5\n",
      "   6/2394 [..............................] - ETA: 3:35 - loss: 4.7034 - masked_accuracy: 0.0162WARNING:tensorflow:Callback method `on_train_batch_end` is slow compared to the batch time (batch time: 0.0472s vs `on_train_batch_end` time: 0.0513s). Check your callbacks.\n",
      "2394/2394 [==============================] - 220s 91ms/step - loss: 2.9456 - masked_accuracy: 0.1692 - val_loss: 2.5321 - val_masked_accuracy: 0.2418\n",
      "Epoch 2/5\n",
      "2394/2394 [==============================] - ETA: 0s - loss: 2.6270 - masked_accuracy: 0.2144"
     ]
    },
    {
     "name": "stderr",
     "output_type": "stream",
     "text": [
      "[I 2023-07-11 11:37:00,270] Trial 14 pruned. Trial was pruned at epoch 1.\n"
     ]
    },
    {
     "name": "stdout",
     "output_type": "stream",
     "text": [
      "Epoch 1/5\n",
      "   6/2394 [..............................] - ETA: 3:24 - loss: 4.7897 - masked_accuracy: 0.0291WARNING:tensorflow:Callback method `on_train_batch_end` is slow compared to the batch time (batch time: 0.0423s vs `on_train_batch_end` time: 0.0440s). Check your callbacks.\n",
      "2394/2394 [==============================] - 181s 75ms/step - loss: 2.9956 - masked_accuracy: 0.1654 - val_loss: 2.5391 - val_masked_accuracy: 0.2221\n",
      "Epoch 2/5\n",
      "2394/2394 [==============================] - 179s 75ms/step - loss: 2.6245 - masked_accuracy: 0.2127 - val_loss: 2.4024 - val_masked_accuracy: 0.2668\n",
      "Epoch 3/5\n",
      "2394/2394 [==============================] - 179s 75ms/step - loss: 2.5039 - masked_accuracy: 0.2436 - val_loss: 2.2966 - val_masked_accuracy: 0.2960\n",
      "Epoch 4/5\n",
      "2394/2394 [==============================] - 180s 75ms/step - loss: 2.4274 - masked_accuracy: 0.2645 - val_loss: 2.2470 - val_masked_accuracy: 0.3103\n",
      "Epoch 5/5\n",
      "2394/2394 [==============================] - ETA: 0s - loss: 2.3834 - masked_accuracy: 0.2752"
     ]
    },
    {
     "name": "stderr",
     "output_type": "stream",
     "text": [
      "[I 2023-07-11 11:52:00,357] Trial 15 pruned. Trial was pruned at epoch 4.\n"
     ]
    },
    {
     "name": "stdout",
     "output_type": "stream",
     "text": [
      "Epoch 1/5\n",
      "2394/2394 [==============================] - 124s 51ms/step - loss: 3.0633 - masked_accuracy: 0.1572 - val_loss: 2.5497 - val_masked_accuracy: 0.2325\n",
      "Epoch 2/5\n",
      "2394/2394 [==============================] - ETA: 0s - loss: 2.6415 - masked_accuracy: 0.2103"
     ]
    },
    {
     "name": "stderr",
     "output_type": "stream",
     "text": [
      "[I 2023-07-11 11:56:12,932] Trial 16 pruned. Trial was pruned at epoch 1.\n"
     ]
    },
    {
     "name": "stdout",
     "output_type": "stream",
     "text": [
      "Epoch 1/5\n",
      "   6/2394 [..............................] - ETA: 8:40 - loss: 4.7833 - masked_accuracy: 0.0219WARNING:tensorflow:Callback method `on_train_batch_end` is slow compared to the batch time (batch time: 0.0940s vs `on_train_batch_end` time: 0.1199s). Check your callbacks.\n",
      "2394/2394 [==============================] - 539s 224ms/step - loss: 2.8939 - masked_accuracy: 0.1777 - val_loss: 2.5730 - val_masked_accuracy: 0.2127\n",
      "Epoch 2/5\n",
      "2394/2394 [==============================] - ETA: 0s - loss: 2.6797 - masked_accuracy: 0.2010"
     ]
    },
    {
     "name": "stderr",
     "output_type": "stream",
     "text": [
      "[I 2023-07-11 12:14:07,718] Trial 17 pruned. Trial was pruned at epoch 1.\n"
     ]
    },
    {
     "name": "stdout",
     "output_type": "stream",
     "text": [
      "Epoch 1/5\n",
      "2394/2394 [==============================] - 133s 55ms/step - loss: 2.9240 - masked_accuracy: 0.1730 - val_loss: 2.5646 - val_masked_accuracy: 0.2220\n",
      "Epoch 2/5\n",
      "2394/2394 [==============================] - 134s 56ms/step - loss: 2.6084 - masked_accuracy: 0.2174 - val_loss: 2.4316 - val_masked_accuracy: 0.2447\n",
      "Epoch 3/5\n",
      "2394/2394 [==============================] - 133s 56ms/step - loss: 2.4902 - masked_accuracy: 0.2498 - val_loss: 2.3109 - val_masked_accuracy: 0.3017\n",
      "Epoch 4/5\n",
      "2394/2394 [==============================] - 133s 56ms/step - loss: 2.4196 - masked_accuracy: 0.2719 - val_loss: 2.2248 - val_masked_accuracy: 0.3220\n",
      "Epoch 5/5\n",
      "2394/2394 [==============================] - ETA: 0s - loss: 2.3605 - masked_accuracy: 0.2843"
     ]
    },
    {
     "name": "stderr",
     "output_type": "stream",
     "text": [
      "[I 2023-07-11 12:25:15,304] Trial 18 pruned. Trial was pruned at epoch 4.\n"
     ]
    },
    {
     "name": "stdout",
     "output_type": "stream",
     "text": [
      "Epoch 1/5\n",
      "2394/2394 [==============================] - 151s 62ms/step - loss: 2.9950 - masked_accuracy: 0.1629 - val_loss: 2.5479 - val_masked_accuracy: 0.2343\n",
      "Epoch 2/5\n",
      "2394/2394 [==============================] - ETA: 0s - loss: 2.6293 - masked_accuracy: 0.2156"
     ]
    },
    {
     "name": "stderr",
     "output_type": "stream",
     "text": [
      "[I 2023-07-11 12:30:17,378] Trial 19 pruned. Trial was pruned at epoch 1.\n"
     ]
    },
    {
     "name": "stdout",
     "output_type": "stream",
     "text": [
      "Epoch 1/5\n",
      "   6/2394 [..............................] - ETA: 6:01 - loss: 4.4257 - masked_accuracy: 0.0381WARNING:tensorflow:Callback method `on_train_batch_end` is slow compared to the batch time (batch time: 0.0710s vs `on_train_batch_end` time: 0.0775s). Check your callbacks.\n",
      "2394/2394 [==============================] - 370s 153ms/step - loss: 2.9359 - masked_accuracy: 0.1668 - val_loss: 2.5416 - val_masked_accuracy: 0.2222\n",
      "Epoch 2/5\n",
      "2394/2394 [==============================] - ETA: 0s - loss: 2.6826 - masked_accuracy: 0.2014"
     ]
    },
    {
     "name": "stderr",
     "output_type": "stream",
     "text": [
      "[I 2023-07-11 12:42:34,568] Trial 20 pruned. Trial was pruned at epoch 1.\n"
     ]
    },
    {
     "name": "stdout",
     "output_type": "stream",
     "text": [
      "Epoch 1/5\n",
      "2394/2394 [==============================] - 140s 58ms/step - loss: 3.0091 - masked_accuracy: 0.1589 - val_loss: 2.5094 - val_masked_accuracy: 0.2392\n",
      "Epoch 2/5\n",
      "2394/2394 [==============================] - 141s 59ms/step - loss: 2.5994 - masked_accuracy: 0.2175 - val_loss: 2.4293 - val_masked_accuracy: 0.2609\n",
      "Epoch 3/5\n",
      "2394/2394 [==============================] - 140s 59ms/step - loss: 2.5054 - masked_accuracy: 0.2433 - val_loss: 2.3000 - val_masked_accuracy: 0.3044\n",
      "Epoch 4/5\n",
      "2394/2394 [==============================] - 140s 58ms/step - loss: 2.4262 - masked_accuracy: 0.2641 - val_loss: 2.2019 - val_masked_accuracy: 0.3289\n",
      "Epoch 5/5\n",
      "2394/2394 [==============================] - ETA: 0s - loss: 2.3755 - masked_accuracy: 0.2806"
     ]
    },
    {
     "name": "stderr",
     "output_type": "stream",
     "text": [
      "[I 2023-07-11 12:54:16,859] Trial 21 pruned. Trial was pruned at epoch 4.\n"
     ]
    },
    {
     "name": "stdout",
     "output_type": "stream",
     "text": [
      "Epoch 1/5\n",
      "2394/2394 [==============================] - 126s 52ms/step - loss: 3.0500 - masked_accuracy: 0.1568 - val_loss: 2.5317 - val_masked_accuracy: 0.2395\n",
      "Epoch 2/5\n",
      "2394/2394 [==============================] - ETA: 0s - loss: 2.6336 - masked_accuracy: 0.2104"
     ]
    },
    {
     "name": "stderr",
     "output_type": "stream",
     "text": [
      "[I 2023-07-11 12:58:32,799] Trial 22 pruned. Trial was pruned at epoch 1.\n"
     ]
    },
    {
     "name": "stdout",
     "output_type": "stream",
     "text": [
      "Epoch 1/5\n",
      "   6/2394 [..............................] - ETA: 3:03 - loss: 4.5213 - masked_accuracy: 0.0115WARNING:tensorflow:Callback method `on_train_batch_end` is slow compared to the batch time (batch time: 0.0394s vs `on_train_batch_end` time: 0.0400s). Check your callbacks.\n",
      "2394/2394 [==============================] - 155s 64ms/step - loss: 2.9658 - masked_accuracy: 0.1679 - val_loss: 2.4895 - val_masked_accuracy: 0.2409\n",
      "Epoch 2/5\n",
      "2394/2394 [==============================] - 154s 64ms/step - loss: 2.6018 - masked_accuracy: 0.2188 - val_loss: 2.4176 - val_masked_accuracy: 0.2698\n",
      "Epoch 3/5\n",
      "2394/2394 [==============================] - 155s 65ms/step - loss: 2.4851 - masked_accuracy: 0.2496 - val_loss: 2.3177 - val_masked_accuracy: 0.2962\n",
      "Epoch 4/5\n",
      "2394/2394 [==============================] - 154s 64ms/step - loss: 2.4024 - masked_accuracy: 0.2724 - val_loss: 2.2253 - val_masked_accuracy: 0.3254\n",
      "Epoch 5/5\n",
      "2394/2394 [==============================] - 155s 65ms/step - loss: 2.3468 - masked_accuracy: 0.2881 - val_loss: 2.1160 - val_masked_accuracy: 0.3518\n",
      "482/482 [==============================] - 28s 57ms/step - loss: 2.0958 - masked_accuracy: 0.3608\n"
     ]
    },
    {
     "name": "stderr",
     "output_type": "stream",
     "text": [
      "[I 2023-07-11 13:11:53,526] Trial 23 finished with value: 2.0958447456359863 and parameters: {'d_model': 75, 'num_layers': 1, 'num_heads': 3, 'ff_dim': 303, 'droupout_rate': 0.08323261905486412}. Best is trial 0 with value: 2.0121541023254395.\n"
     ]
    },
    {
     "name": "stdout",
     "output_type": "stream",
     "text": [
      "Result:2.0958447456359863\n",
      "Epoch 1/5\n",
      "   6/2394 [..............................] - ETA: 3:08 - loss: 4.6344 - masked_accuracy: 0.0236WARNING:tensorflow:Callback method `on_train_batch_end` is slow compared to the batch time (batch time: 0.0406s vs `on_train_batch_end` time: 0.0430s). Check your callbacks.\n",
      "2394/2394 [==============================] - 185s 77ms/step - loss: 2.9561 - masked_accuracy: 0.1659 - val_loss: 2.5186 - val_masked_accuracy: 0.2344\n",
      "Epoch 2/5\n",
      "2394/2394 [==============================] - ETA: 0s - loss: 2.6211 - masked_accuracy: 0.2163"
     ]
    },
    {
     "name": "stderr",
     "output_type": "stream",
     "text": [
      "[I 2023-07-11 13:18:02,606] Trial 24 pruned. Trial was pruned at epoch 1.\n"
     ]
    },
    {
     "name": "stdout",
     "output_type": "stream",
     "text": [
      "Epoch 1/5\n",
      "2394/2394 [==============================] - 132s 54ms/step - loss: 2.9755 - masked_accuracy: 0.1677 - val_loss: 2.5255 - val_masked_accuracy: 0.2353\n",
      "Epoch 2/5\n",
      "2394/2394 [==============================] - ETA: 0s - loss: 2.6167 - masked_accuracy: 0.2136"
     ]
    },
    {
     "name": "stderr",
     "output_type": "stream",
     "text": [
      "[I 2023-07-11 13:22:29,376] Trial 25 pruned. Trial was pruned at epoch 1.\n"
     ]
    },
    {
     "name": "stdout",
     "output_type": "stream",
     "text": [
      "Epoch 1/5\n",
      "   6/2394 [..............................] - ETA: 2:52 - loss: 4.7683 - masked_accuracy: 0.0177WARNING:tensorflow:Callback method `on_train_batch_end` is slow compared to the batch time (batch time: 0.0376s vs `on_train_batch_end` time: 0.0389s). Check your callbacks.\n",
      "2394/2394 [==============================] - 171s 71ms/step - loss: 2.9630 - masked_accuracy: 0.1673 - val_loss: 2.5466 - val_masked_accuracy: 0.2244\n",
      "Epoch 2/5\n",
      "2394/2394 [==============================] - ETA: 0s - loss: 2.6304 - masked_accuracy: 0.2153"
     ]
    },
    {
     "name": "stderr",
     "output_type": "stream",
     "text": [
      "[I 2023-07-11 13:28:11,037] Trial 26 pruned. Trial was pruned at epoch 1.\n"
     ]
    },
    {
     "name": "stdout",
     "output_type": "stream",
     "text": [
      "Epoch 1/5\n",
      "2394/2394 [==============================] - 144s 59ms/step - loss: 2.9774 - masked_accuracy: 0.1649 - val_loss: 2.5179 - val_masked_accuracy: 0.2283\n",
      "Epoch 2/5\n",
      "2394/2394 [==============================] - 143s 60ms/step - loss: 2.6213 - masked_accuracy: 0.2161 - val_loss: 2.4313 - val_masked_accuracy: 0.2530\n",
      "Epoch 3/5\n",
      "2394/2394 [==============================] - 144s 60ms/step - loss: 2.5027 - masked_accuracy: 0.2429 - val_loss: 2.3314 - val_masked_accuracy: 0.2928\n",
      "Epoch 4/5\n",
      "2394/2394 [==============================] - 144s 60ms/step - loss: 2.4129 - masked_accuracy: 0.2697 - val_loss: 2.1886 - val_masked_accuracy: 0.3316\n",
      "Epoch 5/5\n",
      "2394/2394 [==============================] - 144s 60ms/step - loss: 2.2936 - masked_accuracy: 0.3060 - val_loss: 2.0549 - val_masked_accuracy: 0.3697\n",
      "482/482 [==============================] - 24s 50ms/step - loss: 2.0386 - masked_accuracy: 0.3791\n"
     ]
    },
    {
     "name": "stderr",
     "output_type": "stream",
     "text": [
      "[I 2023-07-11 13:40:33,749] Trial 27 finished with value: 2.038632392883301 and parameters: {'d_model': 124, 'num_layers': 1, 'num_heads': 2, 'ff_dim': 399, 'droupout_rate': 0.1023889144392246}. Best is trial 0 with value: 2.0121541023254395.\n"
     ]
    },
    {
     "name": "stdout",
     "output_type": "stream",
     "text": [
      "Result:2.038632392883301\n",
      "Epoch 1/5\n",
      "   6/2394 [..............................] - ETA: 3:04 - loss: 4.5729 - masked_accuracy: 0.0246WARNING:tensorflow:Callback method `on_train_batch_end` is slow compared to the batch time (batch time: 0.0393s vs `on_train_batch_end` time: 0.0460s). Check your callbacks.\n",
      "2394/2394 [==============================] - 146s 60ms/step - loss: 2.9480 - masked_accuracy: 0.1686 - val_loss: 2.5072 - val_masked_accuracy: 0.2393\n",
      "Epoch 2/5\n",
      "2394/2394 [==============================] - ETA: 0s - loss: 2.6293 - masked_accuracy: 0.2155"
     ]
    },
    {
     "name": "stderr",
     "output_type": "stream",
     "text": [
      "[I 2023-07-11 13:45:24,315] Trial 28 pruned. Trial was pruned at epoch 1.\n"
     ]
    },
    {
     "name": "stdout",
     "output_type": "stream",
     "text": [
      "Epoch 1/5\n",
      "   6/2394 [..............................] - ETA: 5:14 - loss: 4.8510 - masked_accuracy: 0.0102WARNING:tensorflow:Callback method `on_train_batch_end` is slow compared to the batch time (batch time: 0.0629s vs `on_train_batch_end` time: 0.0702s). Check your callbacks.\n",
      "2394/2394 [==============================] - 321s 133ms/step - loss: 2.9806 - masked_accuracy: 0.1630 - val_loss: 2.5549 - val_masked_accuracy: 0.2454\n",
      "Epoch 2/5\n",
      "2394/2394 [==============================] - ETA: 0s - loss: 2.6700 - masked_accuracy: 0.2078"
     ]
    },
    {
     "name": "stderr",
     "output_type": "stream",
     "text": [
      "[I 2023-07-11 13:56:04,902] Trial 29 pruned. Trial was pruned at epoch 1.\n"
     ]
    },
    {
     "name": "stdout",
     "output_type": "stream",
     "text": [
      "Epoch 1/5\n",
      "2394/2394 [==============================] - 139s 57ms/step - loss: 2.9966 - masked_accuracy: 0.1611 - val_loss: 2.5403 - val_masked_accuracy: 0.2386\n",
      "Epoch 2/5\n",
      "2394/2394 [==============================] - ETA: 0s - loss: 2.6473 - masked_accuracy: 0.2091"
     ]
    },
    {
     "name": "stderr",
     "output_type": "stream",
     "text": [
      "[I 2023-07-11 14:00:42,798] Trial 30 pruned. Trial was pruned at epoch 1.\n"
     ]
    },
    {
     "name": "stdout",
     "output_type": "stream",
     "text": [
      "Epoch 1/5\n",
      "   6/2394 [..............................] - ETA: 3:29 - loss: 4.8434 - masked_accuracy: 0.0285WARNING:tensorflow:Callback method `on_train_batch_end` is slow compared to the batch time (batch time: 0.0445s vs `on_train_batch_end` time: 0.0510s). Check your callbacks.\n",
      "2394/2394 [==============================] - 203s 84ms/step - loss: 2.9840 - masked_accuracy: 0.1666 - val_loss: 2.6070 - val_masked_accuracy: 0.2322\n",
      "Epoch 2/5\n",
      "2394/2394 [==============================] - 205s 85ms/step - loss: 2.6261 - masked_accuracy: 0.2148 - val_loss: 2.4086 - val_masked_accuracy: 0.2689\n",
      "Epoch 3/5\n",
      "2394/2394 [==============================] - 204s 85ms/step - loss: 2.5085 - masked_accuracy: 0.2421 - val_loss: 2.3140 - val_masked_accuracy: 0.2849\n",
      "Epoch 4/5\n",
      "2394/2394 [==============================] - 206s 86ms/step - loss: 2.4208 - masked_accuracy: 0.2688 - val_loss: 2.2619 - val_masked_accuracy: 0.3082\n",
      "Epoch 5/5\n",
      "2394/2394 [==============================] - ETA: 0s - loss: 2.3608 - masked_accuracy: 0.2798"
     ]
    },
    {
     "name": "stderr",
     "output_type": "stream",
     "text": [
      "[I 2023-07-11 14:17:44,801] Trial 31 pruned. Trial was pruned at epoch 4.\n"
     ]
    },
    {
     "name": "stdout",
     "output_type": "stream",
     "text": [
      "Epoch 1/5\n",
      "2394/2394 [==============================] - 128s 53ms/step - loss: 2.9850 - masked_accuracy: 0.1630 - val_loss: 2.5018 - val_masked_accuracy: 0.2408\n",
      "Epoch 2/5\n",
      "2394/2394 [==============================] - ETA: 0s - loss: 2.6056 - masked_accuracy: 0.2186"
     ]
    },
    {
     "name": "stderr",
     "output_type": "stream",
     "text": [
      "[I 2023-07-11 14:22:02,518] Trial 32 pruned. Trial was pruned at epoch 1.\n"
     ]
    },
    {
     "name": "stdout",
     "output_type": "stream",
     "text": [
      "Epoch 1/5\n",
      "   6/2394 [..............................] - ETA: 2:48 - loss: 4.5512 - masked_accuracy: 0.0200WARNING:tensorflow:Callback method `on_train_batch_end` is slow compared to the batch time (batch time: 0.0345s vs `on_train_batch_end` time: 0.0422s). Check your callbacks.\n",
      "2394/2394 [==============================] - 125s 51ms/step - loss: 3.0032 - masked_accuracy: 0.1649 - val_loss: 2.5260 - val_masked_accuracy: 0.2354\n",
      "Epoch 2/5\n",
      "2394/2394 [==============================] - 130s 54ms/step - loss: 2.6158 - masked_accuracy: 0.2152 - val_loss: 2.4214 - val_masked_accuracy: 0.2702\n",
      "Epoch 3/5\n",
      "2394/2394 [==============================] - 127s 53ms/step - loss: 2.5163 - masked_accuracy: 0.2410 - val_loss: 2.3142 - val_masked_accuracy: 0.2944\n",
      "Epoch 4/5\n",
      "2394/2394 [==============================] - 137s 57ms/step - loss: 2.4491 - masked_accuracy: 0.2574 - val_loss: 2.2409 - val_masked_accuracy: 0.3125\n",
      "Epoch 5/5\n",
      "2394/2394 [==============================] - ETA: 0s - loss: 2.4039 - masked_accuracy: 0.2700"
     ]
    },
    {
     "name": "stderr",
     "output_type": "stream",
     "text": [
      "[I 2023-07-11 14:32:56,162] Trial 33 pruned. Trial was pruned at epoch 4.\n"
     ]
    },
    {
     "name": "stdout",
     "output_type": "stream",
     "text": [
      "Epoch 1/5\n",
      "2394/2394 [==============================] - 133s 55ms/step - loss: 3.0224 - masked_accuracy: 0.1605 - val_loss: 2.5561 - val_masked_accuracy: 0.2310\n",
      "Epoch 2/5\n",
      "2394/2394 [==============================] - ETA: 0s - loss: 2.6289 - masked_accuracy: 0.2136"
     ]
    },
    {
     "name": "stderr",
     "output_type": "stream",
     "text": [
      "[I 2023-07-11 14:37:25,092] Trial 34 pruned. Trial was pruned at epoch 1.\n"
     ]
    },
    {
     "name": "stdout",
     "output_type": "stream",
     "text": [
      "Epoch 1/5\n",
      "   6/2394 [..............................] - ETA: 3:24 - loss: 4.7292 - masked_accuracy: 0.0222WARNING:tensorflow:Callback method `on_train_batch_end` is slow compared to the batch time (batch time: 0.0444s vs `on_train_batch_end` time: 0.0506s). Check your callbacks.\n",
      "2394/2394 [==============================] - 186s 77ms/step - loss: 2.9471 - masked_accuracy: 0.1693 - val_loss: 2.5436 - val_masked_accuracy: 0.2355\n",
      "Epoch 2/5\n",
      "2394/2394 [==============================] - ETA: 0s - loss: 2.6190 - masked_accuracy: 0.2176"
     ]
    },
    {
     "name": "stderr",
     "output_type": "stream",
     "text": [
      "[I 2023-07-11 14:43:36,254] Trial 35 pruned. Trial was pruned at epoch 1.\n"
     ]
    },
    {
     "name": "stdout",
     "output_type": "stream",
     "text": [
      "Epoch 1/5\n",
      "   6/2394 [..............................] - ETA: 3:15 - loss: 4.8580 - masked_accuracy: 0.0102WARNING:tensorflow:Callback method `on_train_batch_end` is slow compared to the batch time (batch time: 0.0399s vs `on_train_batch_end` time: 0.0451s). Check your callbacks.\n",
      "2394/2394 [==============================] - 172s 71ms/step - loss: 2.9620 - masked_accuracy: 0.1701 - val_loss: 2.5192 - val_masked_accuracy: 0.2451\n",
      "Epoch 2/5\n",
      "2394/2394 [==============================] - ETA: 0s - loss: 2.6169 - masked_accuracy: 0.2178"
     ]
    },
    {
     "name": "stderr",
     "output_type": "stream",
     "text": [
      "[I 2023-07-11 14:49:18,591] Trial 36 pruned. Trial was pruned at epoch 1.\n"
     ]
    },
    {
     "name": "stdout",
     "output_type": "stream",
     "text": [
      "Epoch 1/5\n",
      "2394/2394 [==============================] - 177s 73ms/step - loss: 2.9326 - masked_accuracy: 0.1724 - val_loss: 2.5560 - val_masked_accuracy: 0.2288\n",
      "Epoch 2/5\n",
      "2394/2394 [==============================] - ETA: 0s - loss: 2.6193 - masked_accuracy: 0.2123"
     ]
    },
    {
     "name": "stderr",
     "output_type": "stream",
     "text": [
      "[I 2023-07-11 14:55:10,614] Trial 37 pruned. Trial was pruned at epoch 1.\n"
     ]
    },
    {
     "name": "stdout",
     "output_type": "stream",
     "text": [
      "Epoch 1/5\n",
      "2394/2394 [==============================] - 127s 53ms/step - loss: 2.9525 - masked_accuracy: 0.1729 - val_loss: 2.5239 - val_masked_accuracy: 0.2533\n",
      "Epoch 2/5\n",
      "2394/2394 [==============================] - ETA: 0s - loss: 2.6225 - masked_accuracy: 0.2123"
     ]
    },
    {
     "name": "stderr",
     "output_type": "stream",
     "text": [
      "[I 2023-07-11 14:59:26,840] Trial 38 pruned. Trial was pruned at epoch 1.\n"
     ]
    },
    {
     "name": "stdout",
     "output_type": "stream",
     "text": [
      "Epoch 1/5\n",
      "   6/2394 [..............................] - ETA: 4:11 - loss: 4.7993 - masked_accuracy: 0.0221WARNING:tensorflow:Callback method `on_train_batch_end` is slow compared to the batch time (batch time: 0.0531s vs `on_train_batch_end` time: 0.0645s). Check your callbacks.\n",
      "2394/2394 [==============================] - 240s 99ms/step - loss: 2.9666 - masked_accuracy: 0.1658 - val_loss: 2.5489 - val_masked_accuracy: 0.2555\n",
      "Epoch 2/5\n",
      "2394/2394 [==============================] - ETA: 0s - loss: 2.6139 - masked_accuracy: 0.2171"
     ]
    },
    {
     "name": "stderr",
     "output_type": "stream",
     "text": [
      "[I 2023-07-11 15:07:25,803] Trial 39 pruned. Trial was pruned at epoch 1.\n"
     ]
    },
    {
     "name": "stdout",
     "output_type": "stream",
     "text": [
      "Epoch 1/5\n",
      "2394/2394 [==============================] - 171s 71ms/step - loss: 2.9463 - masked_accuracy: 0.1681 - val_loss: 2.5150 - val_masked_accuracy: 0.2336\n",
      "Epoch 2/5\n",
      "2394/2394 [==============================] - ETA: 0s - loss: 2.6173 - masked_accuracy: 0.2152"
     ]
    },
    {
     "name": "stderr",
     "output_type": "stream",
     "text": [
      "[I 2023-07-11 15:13:06,485] Trial 40 pruned. Trial was pruned at epoch 1.\n"
     ]
    },
    {
     "name": "stdout",
     "output_type": "stream",
     "text": [
      "Epoch 1/5\n",
      "   6/2394 [..............................] - ETA: 2:53 - loss: 4.5257 - masked_accuracy: 0.0230WARNING:tensorflow:Callback method `on_train_batch_end` is slow compared to the batch time (batch time: 0.0381s vs `on_train_batch_end` time: 0.0397s). Check your callbacks.\n",
      "2394/2394 [==============================] - 140s 58ms/step - loss: 3.0095 - masked_accuracy: 0.1613 - val_loss: 2.5249 - val_masked_accuracy: 0.2259\n",
      "Epoch 2/5\n",
      "2394/2394 [==============================] - 141s 59ms/step - loss: 2.6144 - masked_accuracy: 0.2153 - val_loss: 2.3934 - val_masked_accuracy: 0.2629\n",
      "Epoch 3/5\n",
      "2394/2394 [==============================] - 139s 58ms/step - loss: 2.5072 - masked_accuracy: 0.2421 - val_loss: 2.3193 - val_masked_accuracy: 0.2956\n",
      "Epoch 4/5\n",
      "2394/2394 [==============================] - 141s 59ms/step - loss: 2.4285 - masked_accuracy: 0.2678 - val_loss: 2.2394 - val_masked_accuracy: 0.3112\n",
      "Epoch 5/5\n",
      "2394/2394 [==============================] - ETA: 0s - loss: 2.3931 - masked_accuracy: 0.2774"
     ]
    },
    {
     "name": "stderr",
     "output_type": "stream",
     "text": [
      "[I 2023-07-11 15:24:49,527] Trial 41 pruned. Trial was pruned at epoch 4.\n"
     ]
    },
    {
     "name": "stdout",
     "output_type": "stream",
     "text": [
      "Epoch 1/5\n",
      "2394/2394 [==============================] - 134s 55ms/step - loss: 3.0179 - masked_accuracy: 0.1623 - val_loss: 2.5224 - val_masked_accuracy: 0.2317\n",
      "Epoch 2/5\n",
      "2394/2394 [==============================] - 133s 56ms/step - loss: 2.6186 - masked_accuracy: 0.2136 - val_loss: 2.4019 - val_masked_accuracy: 0.2630\n",
      "Epoch 3/5\n",
      "2394/2394 [==============================] - 135s 57ms/step - loss: 2.5146 - masked_accuracy: 0.2386 - val_loss: 2.3117 - val_masked_accuracy: 0.3087\n",
      "Epoch 4/5\n",
      "2394/2394 [==============================] - 135s 56ms/step - loss: 2.4462 - masked_accuracy: 0.2596 - val_loss: 2.2206 - val_masked_accuracy: 0.3234\n",
      "Epoch 5/5\n",
      "2394/2394 [==============================] - ETA: 0s - loss: 2.3875 - masked_accuracy: 0.2757"
     ]
    },
    {
     "name": "stderr",
     "output_type": "stream",
     "text": [
      "[I 2023-07-11 15:36:02,945] Trial 42 pruned. Trial was pruned at epoch 4.\n"
     ]
    },
    {
     "name": "stdout",
     "output_type": "stream",
     "text": [
      "Epoch 1/5\n",
      "   6/2394 [..............................] - ETA: 2:55 - loss: 4.5918 - masked_accuracy: 0.0303WARNING:tensorflow:Callback method `on_train_batch_end` is slow compared to the batch time (batch time: 0.0369s vs `on_train_batch_end` time: 0.0382s). Check your callbacks.\n",
      "2394/2394 [==============================] - 140s 58ms/step - loss: 3.0033 - masked_accuracy: 0.1629 - val_loss: 2.5594 - val_masked_accuracy: 0.2301\n",
      "Epoch 2/5\n",
      "2394/2394 [==============================] - 139s 58ms/step - loss: 2.6175 - masked_accuracy: 0.2173 - val_loss: 2.4291 - val_masked_accuracy: 0.2665\n",
      "Epoch 3/5\n",
      "2394/2394 [==============================] - 141s 59ms/step - loss: 2.5124 - masked_accuracy: 0.2408 - val_loss: 2.3305 - val_masked_accuracy: 0.2974\n",
      "Epoch 4/5\n",
      "2394/2394 [==============================] - 142s 59ms/step - loss: 2.4339 - masked_accuracy: 0.2597 - val_loss: 2.2520 - val_masked_accuracy: 0.3001\n",
      "Epoch 5/5\n",
      "2394/2394 [==============================] - ETA: 0s - loss: 2.4048 - masked_accuracy: 0.2728"
     ]
    },
    {
     "name": "stderr",
     "output_type": "stream",
     "text": [
      "[I 2023-07-11 15:47:46,518] Trial 43 pruned. Trial was pruned at epoch 4.\n"
     ]
    },
    {
     "name": "stdout",
     "output_type": "stream",
     "text": [
      "Epoch 1/5\n",
      "   6/2394 [..............................] - ETA: 2:57 - loss: 4.5593 - masked_accuracy: 0.0539WARNING:tensorflow:Callback method `on_train_batch_end` is slow compared to the batch time (batch time: 0.0392s vs `on_train_batch_end` time: 0.0400s). Check your callbacks.\n",
      "2394/2394 [==============================] - 145s 60ms/step - loss: 2.9633 - masked_accuracy: 0.1691 - val_loss: 2.5402 - val_masked_accuracy: 0.2218\n",
      "Epoch 2/5\n",
      "2394/2394 [==============================] - ETA: 0s - loss: 2.6223 - masked_accuracy: 0.2132"
     ]
    },
    {
     "name": "stderr",
     "output_type": "stream",
     "text": [
      "[I 2023-07-11 15:52:35,478] Trial 44 pruned. Trial was pruned at epoch 1.\n"
     ]
    },
    {
     "name": "stdout",
     "output_type": "stream",
     "text": [
      "Epoch 1/5\n",
      "   6/2394 [..............................] - ETA: 2:57 - loss: 4.4490 - masked_accuracy: 0.0207WARNING:tensorflow:Callback method `on_train_batch_end` is slow compared to the batch time (batch time: 0.0377s vs `on_train_batch_end` time: 0.0401s). Check your callbacks.\n",
      "2394/2394 [==============================] - 132s 55ms/step - loss: 3.0501 - masked_accuracy: 0.1560 - val_loss: 2.5823 - val_masked_accuracy: 0.2194\n",
      "Epoch 2/5\n",
      "2394/2394 [==============================] - ETA: 0s - loss: 2.6329 - masked_accuracy: 0.2125"
     ]
    },
    {
     "name": "stderr",
     "output_type": "stream",
     "text": [
      "[I 2023-07-11 15:57:02,034] Trial 45 pruned. Trial was pruned at epoch 1.\n"
     ]
    },
    {
     "name": "stdout",
     "output_type": "stream",
     "text": [
      "Epoch 1/5\n",
      "2394/2394 [==============================] - 129s 53ms/step - loss: 2.9808 - masked_accuracy: 0.1670 - val_loss: 2.5148 - val_masked_accuracy: 0.2469\n",
      "Epoch 2/5\n",
      "2394/2394 [==============================] - ETA: 0s - loss: 2.6059 - masked_accuracy: 0.2175"
     ]
    },
    {
     "name": "stderr",
     "output_type": "stream",
     "text": [
      "[I 2023-07-11 16:01:25,200] Trial 46 pruned. Trial was pruned at epoch 1.\n"
     ]
    },
    {
     "name": "stdout",
     "output_type": "stream",
     "text": [
      "Epoch 1/5\n",
      "   6/2394 [..............................] - ETA: 5:16 - loss: 5.0318 - masked_accuracy: 0.0018WARNING:tensorflow:Callback method `on_train_batch_end` is slow compared to the batch time (batch time: 0.0629s vs `on_train_batch_end` time: 0.0712s). Check your callbacks.\n",
      "2394/2394 [==============================] - 324s 134ms/step - loss: 2.9346 - masked_accuracy: 0.1732 - val_loss: 2.5099 - val_masked_accuracy: 0.2361\n",
      "Epoch 2/5\n",
      "2394/2394 [==============================] - ETA: 0s - loss: 2.6633 - masked_accuracy: 0.2059"
     ]
    },
    {
     "name": "stderr",
     "output_type": "stream",
     "text": [
      "[I 2023-07-11 16:12:11,591] Trial 47 pruned. Trial was pruned at epoch 1.\n"
     ]
    },
    {
     "name": "stdout",
     "output_type": "stream",
     "text": [
      "Epoch 1/5\n",
      "   6/2394 [..............................] - ETA: 3:00 - loss: 4.4993 - masked_accuracy: 0.0337WARNING:tensorflow:Callback method `on_train_batch_end` is slow compared to the batch time (batch time: 0.0370s vs `on_train_batch_end` time: 0.0380s). Check your callbacks.\n",
      "2394/2394 [==============================] - 188s 78ms/step - loss: 2.9956 - masked_accuracy: 0.1611 - val_loss: 2.6200 - val_masked_accuracy: 0.2366\n",
      "Epoch 2/5\n",
      "2394/2394 [==============================] - 187s 78ms/step - loss: 2.6219 - masked_accuracy: 0.2162 - val_loss: 2.3871 - val_masked_accuracy: 0.2800\n",
      "Epoch 3/5\n",
      "2394/2394 [==============================] - 187s 78ms/step - loss: 2.5066 - masked_accuracy: 0.2431 - val_loss: 2.3250 - val_masked_accuracy: 0.2962\n",
      "Epoch 4/5\n",
      "2394/2394 [==============================] - 187s 78ms/step - loss: 2.4343 - masked_accuracy: 0.2614 - val_loss: 2.2384 - val_masked_accuracy: 0.3212\n",
      "Epoch 5/5\n",
      "2394/2394 [==============================] - ETA: 0s - loss: 2.3913 - masked_accuracy: 0.2746"
     ]
    },
    {
     "name": "stderr",
     "output_type": "stream",
     "text": [
      "[I 2023-07-11 16:27:48,148] Trial 48 pruned. Trial was pruned at epoch 4.\n"
     ]
    },
    {
     "name": "stdout",
     "output_type": "stream",
     "text": [
      "Epoch 1/5\n",
      "   6/2394 [..............................] - ETA: 3:50 - loss: 4.6479 - masked_accuracy: 0.0194WARNING:tensorflow:Callback method `on_train_batch_end` is slow compared to the batch time (batch time: 0.0453s vs `on_train_batch_end` time: 0.0507s). Check your callbacks.\n",
      "2394/2394 [==============================] - 212s 88ms/step - loss: 2.9635 - masked_accuracy: 0.1682 - val_loss: 2.5424 - val_masked_accuracy: 0.2230\n",
      "Epoch 2/5\n",
      "2394/2394 [==============================] - ETA: 0s - loss: 2.6194 - masked_accuracy: 0.2199"
     ]
    },
    {
     "name": "stderr",
     "output_type": "stream",
     "text": [
      "[I 2023-07-11 16:34:51,520] Trial 49 pruned. Trial was pruned at epoch 1.\n"
     ]
    },
    {
     "name": "stdout",
     "output_type": "stream",
     "text": [
      "Study statistics:\n",
      "   Number of finished Trials:  50\n",
      "   Number of pruned Trials:  44\n",
      "   Number of complete Trials:  6\n",
      "Best Trial: \n",
      "  Masked Loss:  2.0121541023254395\n",
      "   Params: \n",
      "   d_model: 130\n",
      "   num_layers: 1\n",
      "   num_heads: 2\n",
      "   ff_dim: 381\n",
      "   droupout_rate: 0.11111424528918497\n"
     ]
    }
   ],
   "source": [
    "study = optuna.create_study(direction='minimize', pruner=optuna.pruners.SuccessiveHalvingPruner(), sampler=optuna.samplers.TPESampler())\n",
    "\n",
    "#100\n",
    "study.optimize(objective, n_trials=50)\n",
    "\n",
    "pruned_trials = study.get_trials(states=[optuna.trial.TrialState.PRUNED])\n",
    "complete_trials = study.get_trials(states=[optuna.trial.TrialState.COMPLETE])\n",
    "\n",
    "print('Study statistics:')\n",
    "print('   Number of finished Trials: ', len(study.trials))\n",
    "print('   Number of pruned Trials: ', len(pruned_trials))\n",
    "print('   Number of complete Trials: ', len(complete_trials))\n",
    "\n",
    "print('Best Trial: ')\n",
    "trial = study.best_trial\n",
    "\n",
    "print('  Masked Loss: ', trial.value)\n",
    "\n",
    "print('   Params: ')\n",
    "for key, value in trial.params.items():\n",
    "    print('   {}: {}'.format(key, value))"
   ],
   "metadata": {
    "collapsed": false,
    "ExecuteTime": {
     "end_time": "2023-07-11T14:34:51.553714500Z",
     "start_time": "2023-07-11T07:09:32.091233900Z"
    }
   }
  }
 ],
 "metadata": {
  "kernelspec": {
   "display_name": "Python 3",
   "language": "python",
   "name": "python3"
  },
  "language_info": {
   "codemirror_mode": {
    "name": "ipython",
    "version": 2
   },
   "file_extension": ".py",
   "mimetype": "text/x-python",
   "name": "python",
   "nbconvert_exporter": "python",
   "pygments_lexer": "ipython2",
   "version": "2.7.6"
  }
 },
 "nbformat": 4,
 "nbformat_minor": 0
}
