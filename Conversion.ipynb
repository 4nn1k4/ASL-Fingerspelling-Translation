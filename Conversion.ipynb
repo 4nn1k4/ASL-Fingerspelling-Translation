{
 "cells": [
  {
   "cell_type": "code",
   "execution_count": 1,
   "metadata": {
    "collapsed": false,
    "ExecuteTime": {
     "end_time": "2023-07-11T18:27:44.119580900Z",
     "start_time": "2023-07-11T18:27:44.115264200Z"
    }
   },
   "outputs": [
    {
     "data": {
      "text/plain": "'3.11.1 (tags/v3.11.1:a7a450f, Dec  6 2022, 19:58:39) [MSC v.1934 64 bit (AMD64)]'"
     },
     "execution_count": 1,
     "metadata": {},
     "output_type": "execute_result"
    }
   ],
   "source": [
    "import sys\n",
    "sys.version"
   ]
  },
  {
   "cell_type": "code",
   "execution_count": 1,
   "metadata": {
    "ExecuteTime": {
     "end_time": "2023-07-11T18:07:43.883756300Z",
     "start_time": "2023-07-11T18:07:39.459153500Z"
    },
    "collapsed": false
   },
   "outputs": [
    {
     "name": "stderr",
     "output_type": "stream",
     "text": [
      "c:\\Users\\WG\\Documents\\PML Projekt\\venv_export2\\Lib\\site-packages\\tensorflowjs\\read_weights.py:28: FutureWarning: In the future `np.object` will be defined as the corresponding NumPy scalar.\n",
      "  np.uint8, np.uint16, np.object, np.bool]\n"
     ]
    },
    {
     "ename": "AttributeError",
     "evalue": "module 'numpy' has no attribute 'object'.\n`np.object` was a deprecated alias for the builtin `object`. To avoid this error in existing code, use `object` by itself. Doing this will not modify any behavior and is safe. \nThe aliases was originally deprecated in NumPy 1.20; for more details and guidance see the original release note at:\n    https://numpy.org/devdocs/release/1.20.0-notes.html#deprecations",
     "output_type": "error",
     "traceback": [
      "\u001B[1;31m---------------------------------------------------------------------------\u001B[0m",
      "\u001B[1;31mAttributeError\u001B[0m                            Traceback (most recent call last)",
      "Cell \u001B[1;32mIn[1], line 1\u001B[0m\n\u001B[1;32m----> 1\u001B[0m \u001B[39mimport\u001B[39;00m \u001B[39mtensorflowjs\u001B[39;00m\n\u001B[0;32m      2\u001B[0m tensorflowjs\u001B[39m.\u001B[39m__version__\n",
      "File \u001B[1;32mc:\\Users\\WG\\Documents\\PML Projekt\\venv_export2\\Lib\\site-packages\\tensorflowjs\\__init__.py:21\u001B[0m\n\u001B[0;32m     18\u001B[0m \u001B[39mfrom\u001B[39;00m \u001B[39m__future__\u001B[39;00m \u001B[39mimport\u001B[39;00m print_function\n\u001B[0;32m     20\u001B[0m \u001B[39m# pylint: disable=unused-imports\u001B[39;00m\n\u001B[1;32m---> 21\u001B[0m \u001B[39mfrom\u001B[39;00m \u001B[39mtensorflowjs\u001B[39;00m \u001B[39mimport\u001B[39;00m converters\n\u001B[0;32m     22\u001B[0m \u001B[39mfrom\u001B[39;00m \u001B[39mtensorflowjs\u001B[39;00m \u001B[39mimport\u001B[39;00m quantization\n\u001B[0;32m     23\u001B[0m \u001B[39mfrom\u001B[39;00m \u001B[39mtensorflowjs\u001B[39;00m \u001B[39mimport\u001B[39;00m version\n",
      "File \u001B[1;32mc:\\Users\\WG\\Documents\\PML Projekt\\venv_export2\\Lib\\site-packages\\tensorflowjs\\converters\\__init__.py:21\u001B[0m\n\u001B[0;32m     18\u001B[0m \u001B[39mfrom\u001B[39;00m \u001B[39m__future__\u001B[39;00m \u001B[39mimport\u001B[39;00m print_function\n\u001B[0;32m     20\u001B[0m \u001B[39m# pylint: disable=unused-imports,line-too-long\u001B[39;00m\n\u001B[1;32m---> 21\u001B[0m \u001B[39mfrom\u001B[39;00m \u001B[39mtensorflowjs\u001B[39;00m\u001B[39m.\u001B[39;00m\u001B[39mconverters\u001B[39;00m\u001B[39m.\u001B[39;00m\u001B[39mconverter\u001B[39;00m \u001B[39mimport\u001B[39;00m convert\n\u001B[0;32m     22\u001B[0m \u001B[39mfrom\u001B[39;00m \u001B[39mtensorflowjs\u001B[39;00m\u001B[39m.\u001B[39;00m\u001B[39mconverters\u001B[39;00m\u001B[39m.\u001B[39;00m\u001B[39mkeras_h5_conversion\u001B[39;00m \u001B[39mimport\u001B[39;00m save_keras_model\n\u001B[0;32m     23\u001B[0m \u001B[39mfrom\u001B[39;00m \u001B[39mtensorflowjs\u001B[39;00m\u001B[39m.\u001B[39;00m\u001B[39mconverters\u001B[39;00m\u001B[39m.\u001B[39;00m\u001B[39mkeras_tfjs_loader\u001B[39;00m \u001B[39mimport\u001B[39;00m deserialize_keras_model\n",
      "File \u001B[1;32mc:\\Users\\WG\\Documents\\PML Projekt\\venv_export2\\Lib\\site-packages\\tensorflowjs\\converters\\converter.py:35\u001B[0m\n\u001B[0;32m     33\u001B[0m \u001B[39mfrom\u001B[39;00m \u001B[39mtensorflowjs\u001B[39;00m \u001B[39mimport\u001B[39;00m version\n\u001B[0;32m     34\u001B[0m \u001B[39mfrom\u001B[39;00m \u001B[39mtensorflowjs\u001B[39;00m\u001B[39m.\u001B[39;00m\u001B[39mconverters\u001B[39;00m \u001B[39mimport\u001B[39;00m common\n\u001B[1;32m---> 35\u001B[0m \u001B[39mfrom\u001B[39;00m \u001B[39mtensorflowjs\u001B[39;00m\u001B[39m.\u001B[39;00m\u001B[39mconverters\u001B[39;00m \u001B[39mimport\u001B[39;00m keras_h5_conversion \u001B[39mas\u001B[39;00m conversion\n\u001B[0;32m     36\u001B[0m \u001B[39mfrom\u001B[39;00m \u001B[39mtensorflowjs\u001B[39;00m\u001B[39m.\u001B[39;00m\u001B[39mconverters\u001B[39;00m \u001B[39mimport\u001B[39;00m keras_tfjs_loader\n\u001B[0;32m     37\u001B[0m \u001B[39mfrom\u001B[39;00m \u001B[39mtensorflowjs\u001B[39;00m\u001B[39m.\u001B[39;00m\u001B[39mconverters\u001B[39;00m \u001B[39mimport\u001B[39;00m tf_saved_model_conversion_v2\n",
      "File \u001B[1;32mc:\\Users\\WG\\Documents\\PML Projekt\\venv_export2\\Lib\\site-packages\\tensorflowjs\\converters\\keras_h5_conversion.py:33\u001B[0m\n\u001B[0;32m     30\u001B[0m \u001B[39mimport\u001B[39;00m \u001B[39mh5py\u001B[39;00m\n\u001B[0;32m     31\u001B[0m \u001B[39mimport\u001B[39;00m \u001B[39mnumpy\u001B[39;00m \u001B[39mas\u001B[39;00m \u001B[39mnp\u001B[39;00m\n\u001B[1;32m---> 33\u001B[0m \u001B[39mfrom\u001B[39;00m \u001B[39mtensorflowjs\u001B[39;00m \u001B[39mimport\u001B[39;00m write_weights  \u001B[39m# pylint: disable=import-error\u001B[39;00m\n\u001B[0;32m     34\u001B[0m \u001B[39mfrom\u001B[39;00m \u001B[39mtensorflowjs\u001B[39;00m\u001B[39m.\u001B[39;00m\u001B[39mconverters\u001B[39;00m \u001B[39mimport\u001B[39;00m common\n\u001B[0;32m     37\u001B[0m \u001B[39mdef\u001B[39;00m \u001B[39mnormalize_weight_name\u001B[39m(weight_name):\n",
      "File \u001B[1;32mc:\\Users\\WG\\Documents\\PML Projekt\\venv_export2\\Lib\\site-packages\\tensorflowjs\\write_weights.py:25\u001B[0m\n\u001B[0;32m     22\u001B[0m \u001B[39mimport\u001B[39;00m \u001B[39mtensorflow\u001B[39;00m \u001B[39mas\u001B[39;00m \u001B[39mtf\u001B[39;00m\n\u001B[0;32m     24\u001B[0m \u001B[39mfrom\u001B[39;00m \u001B[39mtensorflowjs\u001B[39;00m \u001B[39mimport\u001B[39;00m quantization\n\u001B[1;32m---> 25\u001B[0m \u001B[39mfrom\u001B[39;00m \u001B[39mtensorflowjs\u001B[39;00m \u001B[39mimport\u001B[39;00m read_weights\n\u001B[0;32m     27\u001B[0m _OUTPUT_DTYPES \u001B[39m=\u001B[39m [np\u001B[39m.\u001B[39mfloat16, np\u001B[39m.\u001B[39mfloat32, np\u001B[39m.\u001B[39mint32, np\u001B[39m.\u001B[39mcomplex64,\n\u001B[0;32m     28\u001B[0m                   np\u001B[39m.\u001B[39muint8, np\u001B[39m.\u001B[39muint16, np\u001B[39m.\u001B[39mbool, np\u001B[39m.\u001B[39mobject]\n\u001B[0;32m     29\u001B[0m _AUTO_DTYPE_CONVERSION \u001B[39m=\u001B[39m {\n\u001B[0;32m     30\u001B[0m     np\u001B[39m.\u001B[39mdtype(np\u001B[39m.\u001B[39mfloat16): np\u001B[39m.\u001B[39mfloat32,\n\u001B[0;32m     31\u001B[0m     np\u001B[39m.\u001B[39mdtype(np\u001B[39m.\u001B[39mfloat64): np\u001B[39m.\u001B[39mfloat32,\n\u001B[0;32m     32\u001B[0m     np\u001B[39m.\u001B[39mdtype(np\u001B[39m.\u001B[39mint64): np\u001B[39m.\u001B[39mint32,\n\u001B[0;32m     33\u001B[0m     np\u001B[39m.\u001B[39mdtype(np\u001B[39m.\u001B[39mcomplex128): np\u001B[39m.\u001B[39mcomplex64}\n",
      "File \u001B[1;32mc:\\Users\\WG\\Documents\\PML Projekt\\venv_export2\\Lib\\site-packages\\tensorflowjs\\read_weights.py:28\u001B[0m\n\u001B[0;32m     24\u001B[0m \u001B[39mimport\u001B[39;00m \u001B[39mnumpy\u001B[39;00m \u001B[39mas\u001B[39;00m \u001B[39mnp\u001B[39;00m\n\u001B[0;32m     25\u001B[0m \u001B[39mfrom\u001B[39;00m \u001B[39mtensorflowjs\u001B[39;00m \u001B[39mimport\u001B[39;00m quantization\n\u001B[0;32m     27\u001B[0m _INPUT_DTYPES \u001B[39m=\u001B[39m [np\u001B[39m.\u001B[39mfloat16, np\u001B[39m.\u001B[39mfloat32, np\u001B[39m.\u001B[39mint32, np\u001B[39m.\u001B[39mcomplex64,\n\u001B[1;32m---> 28\u001B[0m                  np\u001B[39m.\u001B[39muint8, np\u001B[39m.\u001B[39muint16, np\u001B[39m.\u001B[39;49mobject, np\u001B[39m.\u001B[39mbool]\n\u001B[0;32m     30\u001B[0m \u001B[39m# Number of bytes used to encode the length of a string in a string tensor.\u001B[39;00m\n\u001B[0;32m     31\u001B[0m STRING_LENGTH_NUM_BYTES \u001B[39m=\u001B[39m \u001B[39m4\u001B[39m\n",
      "File \u001B[1;32mc:\\Users\\WG\\Documents\\PML Projekt\\venv_export2\\Lib\\site-packages\\numpy\\__init__.py:313\u001B[0m, in \u001B[0;36m__getattr__\u001B[1;34m(attr)\u001B[0m\n\u001B[0;32m    308\u001B[0m     warnings\u001B[39m.\u001B[39mwarn(\n\u001B[0;32m    309\u001B[0m         \u001B[39mf\u001B[39m\u001B[39m\"\u001B[39m\u001B[39mIn the future `np.\u001B[39m\u001B[39m{\u001B[39;00mattr\u001B[39m}\u001B[39;00m\u001B[39m` will be defined as the \u001B[39m\u001B[39m\"\u001B[39m\n\u001B[0;32m    310\u001B[0m         \u001B[39m\"\u001B[39m\u001B[39mcorresponding NumPy scalar.\u001B[39m\u001B[39m\"\u001B[39m, \u001B[39mFutureWarning\u001B[39;00m, stacklevel\u001B[39m=\u001B[39m\u001B[39m2\u001B[39m)\n\u001B[0;32m    312\u001B[0m \u001B[39mif\u001B[39;00m attr \u001B[39min\u001B[39;00m __former_attrs__:\n\u001B[1;32m--> 313\u001B[0m     \u001B[39mraise\u001B[39;00m \u001B[39mAttributeError\u001B[39;00m(__former_attrs__[attr])\n\u001B[0;32m    315\u001B[0m \u001B[39mif\u001B[39;00m attr \u001B[39m==\u001B[39m \u001B[39m'\u001B[39m\u001B[39mtesting\u001B[39m\u001B[39m'\u001B[39m:\n\u001B[0;32m    316\u001B[0m     \u001B[39mimport\u001B[39;00m \u001B[39mnumpy\u001B[39;00m\u001B[39m.\u001B[39;00m\u001B[39mtesting\u001B[39;00m \u001B[39mas\u001B[39;00m \u001B[39mtesting\u001B[39;00m\n",
      "\u001B[1;31mAttributeError\u001B[0m: module 'numpy' has no attribute 'object'.\n`np.object` was a deprecated alias for the builtin `object`. To avoid this error in existing code, use `object` by itself. Doing this will not modify any behavior and is safe. \nThe aliases was originally deprecated in NumPy 1.20; for more details and guidance see the original release note at:\n    https://numpy.org/devdocs/release/1.20.0-notes.html#deprecations"
     ]
    }
   ],
   "source": [
    "import tensorflowjs\n",
    "tensorflowjs.__version__"
   ]
  },
  {
   "cell_type": "code",
   "execution_count": 2,
   "metadata": {
    "ExecuteTime": {
     "end_time": "2023-07-11T17:55:04.188968300Z",
     "start_time": "2023-07-11T17:54:53.614109600Z"
    },
    "collapsed": false
   },
   "outputs": [
    {
     "ename": "ValueError",
     "evalue": "Unsupported Ops in the model before optimization\nMatrixBandPart",
     "output_type": "error",
     "traceback": [
      "\u001B[1;31m---------------------------------------------------------------------------\u001B[0m",
      "\u001B[1;31mValueError\u001B[0m                                Traceback (most recent call last)",
      "Cell \u001B[1;32mIn[2], line 2\u001B[0m\n\u001B[0;32m      1\u001B[0m \u001B[38;5;28;01mimport\u001B[39;00m \u001B[38;5;21;01mtensorflowjs\u001B[39;00m \u001B[38;5;28;01mas\u001B[39;00m \u001B[38;5;21;01mtfjs\u001B[39;00m\n\u001B[1;32m----> 2\u001B[0m \u001B[43mtfjs\u001B[49m\u001B[38;5;241;43m.\u001B[39;49m\u001B[43mconverters\u001B[49m\u001B[38;5;241;43m.\u001B[39;49m\u001B[43mconvert_tf_saved_model\u001B[49m\u001B[43m(\u001B[49m\u001B[38;5;124;43m'\u001B[39;49m\u001B[38;5;124;43m./savedModel/\u001B[39;49m\u001B[38;5;124;43m'\u001B[39;49m\u001B[43m,\u001B[49m\u001B[43m \u001B[49m\u001B[38;5;124;43m'\u001B[39;49m\u001B[38;5;124;43m./tfjs\u001B[39;49m\u001B[38;5;124;43m'\u001B[39;49m\u001B[43m)\u001B[49m\n",
      "File \u001B[1;32m~\\miniconda3\\envs\\PML_Projekt\\lib\\site-packages\\tensorflowjs\\converters\\tf_saved_model_conversion_v2.py:809\u001B[0m, in \u001B[0;36mconvert_tf_saved_model\u001B[1;34m(saved_model_dir, output_dir, signature_def, saved_model_tags, quantization_dtype_map, skip_op_check, strip_debug_ops, use_structured_outputs_names, weight_shard_size_bytes, control_flow_v2, experiments, metadata, frozen_graph_dir)\u001B[0m\n\u001B[0;32m    767\u001B[0m \u001B[38;5;28;01mdef\u001B[39;00m \u001B[38;5;21mconvert_tf_saved_model\u001B[39m(saved_model_dir,\n\u001B[0;32m    768\u001B[0m                            output_dir, signature_def\u001B[38;5;241m=\u001B[39m\u001B[38;5;124m'\u001B[39m\u001B[38;5;124mserving_default\u001B[39m\u001B[38;5;124m'\u001B[39m,\n\u001B[0;32m    769\u001B[0m                            saved_model_tags\u001B[38;5;241m=\u001B[39m\u001B[38;5;124m'\u001B[39m\u001B[38;5;124mserve\u001B[39m\u001B[38;5;124m'\u001B[39m,\n\u001B[1;32m   (...)\u001B[0m\n\u001B[0;32m    777\u001B[0m                            metadata\u001B[38;5;241m=\u001B[39m\u001B[38;5;28;01mNone\u001B[39;00m,\n\u001B[0;32m    778\u001B[0m                            frozen_graph_dir\u001B[38;5;241m=\u001B[39m\u001B[38;5;28;01mNone\u001B[39;00m):\n\u001B[0;32m    779\u001B[0m \u001B[38;5;250m  \u001B[39m\u001B[38;5;124;03m\"\"\"Freeze the SavedModel and check the model compatibility with Tensorflow.js.\u001B[39;00m\n\u001B[0;32m    780\u001B[0m \n\u001B[0;32m    781\u001B[0m \u001B[38;5;124;03m  Optimize and convert the model to Tensorflow.js format, when the model passes\u001B[39;00m\n\u001B[1;32m   (...)\u001B[0m\n\u001B[0;32m    807\u001B[0m \u001B[38;5;124;03m      model.\u001B[39;00m\n\u001B[0;32m    808\u001B[0m \u001B[38;5;124;03m  \"\"\"\u001B[39;00m\n\u001B[1;32m--> 809\u001B[0m   \u001B[43m_convert_tf_saved_model\u001B[49m\u001B[43m(\u001B[49m\u001B[43moutput_dir\u001B[49m\u001B[43m,\u001B[49m\u001B[43m \u001B[49m\u001B[43msaved_model_dir\u001B[49m\u001B[38;5;241;43m=\u001B[39;49m\u001B[43msaved_model_dir\u001B[49m\u001B[43m,\u001B[49m\n\u001B[0;32m    810\u001B[0m \u001B[43m                          \u001B[49m\u001B[43msignature_def\u001B[49m\u001B[38;5;241;43m=\u001B[39;49m\u001B[43msignature_def\u001B[49m\u001B[43m,\u001B[49m\n\u001B[0;32m    811\u001B[0m \u001B[43m                          \u001B[49m\u001B[43msaved_model_tags\u001B[49m\u001B[38;5;241;43m=\u001B[39;49m\u001B[43msaved_model_tags\u001B[49m\u001B[43m,\u001B[49m\n\u001B[0;32m    812\u001B[0m \u001B[43m                          \u001B[49m\u001B[43mquantization_dtype_map\u001B[49m\u001B[38;5;241;43m=\u001B[39;49m\u001B[43mquantization_dtype_map\u001B[49m\u001B[43m,\u001B[49m\n\u001B[0;32m    813\u001B[0m \u001B[43m                          \u001B[49m\u001B[43mskip_op_check\u001B[49m\u001B[38;5;241;43m=\u001B[39;49m\u001B[43mskip_op_check\u001B[49m\u001B[43m,\u001B[49m\n\u001B[0;32m    814\u001B[0m \u001B[43m                          \u001B[49m\u001B[43mstrip_debug_ops\u001B[49m\u001B[38;5;241;43m=\u001B[39;49m\u001B[43mstrip_debug_ops\u001B[49m\u001B[43m,\u001B[49m\n\u001B[0;32m    815\u001B[0m \u001B[43m                          \u001B[49m\u001B[43muse_structured_outputs_names\u001B[49m\u001B[38;5;241;43m=\u001B[39;49m\n\u001B[0;32m    816\u001B[0m \u001B[43m                          \u001B[49m\u001B[43muse_structured_outputs_names\u001B[49m\u001B[43m,\u001B[49m\n\u001B[0;32m    817\u001B[0m \u001B[43m                          \u001B[49m\u001B[43mweight_shard_size_bytes\u001B[49m\u001B[38;5;241;43m=\u001B[39;49m\u001B[43mweight_shard_size_bytes\u001B[49m\u001B[43m,\u001B[49m\n\u001B[0;32m    818\u001B[0m \u001B[43m                          \u001B[49m\u001B[43mcontrol_flow_v2\u001B[49m\u001B[38;5;241;43m=\u001B[39;49m\u001B[43mcontrol_flow_v2\u001B[49m\u001B[43m,\u001B[49m\n\u001B[0;32m    819\u001B[0m \u001B[43m                          \u001B[49m\u001B[43mexperiments\u001B[49m\u001B[38;5;241;43m=\u001B[39;49m\u001B[43mexperiments\u001B[49m\u001B[43m,\u001B[49m\n\u001B[0;32m    820\u001B[0m \u001B[43m                          \u001B[49m\u001B[43mmetadata\u001B[49m\u001B[38;5;241;43m=\u001B[39;49m\u001B[43mmetadata\u001B[49m\u001B[43m,\u001B[49m\n\u001B[0;32m    821\u001B[0m \u001B[43m                          \u001B[49m\u001B[43mfrozen_graph_dir\u001B[49m\u001B[38;5;241;43m=\u001B[39;49m\u001B[43mfrozen_graph_dir\u001B[49m\u001B[43m)\u001B[49m\n",
      "File \u001B[1;32m~\\miniconda3\\envs\\PML_Projekt\\lib\\site-packages\\tensorflowjs\\converters\\tf_saved_model_conversion_v2.py:699\u001B[0m, in \u001B[0;36m_convert_tf_saved_model\u001B[1;34m(output_dir, saved_model_dir, keras_model, signature_def, saved_model_tags, quantization_dtype_map, skip_op_check, strip_debug_ops, use_structured_outputs_names, weight_shard_size_bytes, control_flow_v2, experiments, metadata, frozen_graph_dir)\u001B[0m\n\u001B[0;32m    694\u001B[0m \u001B[38;5;28;01mexcept\u001B[39;00m: \u001B[38;5;66;03m# pylint: disable=W0702\u001B[39;00m\n\u001B[0;32m    695\u001B[0m   \u001B[38;5;66;03m# keras model does not have tensorflow_version, hard code to the latest\u001B[39;00m\n\u001B[0;32m    696\u001B[0m   \u001B[38;5;66;03m# tensorflow version.\u001B[39;00m\n\u001B[0;32m    697\u001B[0m   tf_version \u001B[38;5;241m=\u001B[39m tf\u001B[38;5;241m.\u001B[39m__version__\n\u001B[1;32m--> 699\u001B[0m \u001B[43moptimize_graph\u001B[49m\u001B[43m(\u001B[49m\u001B[43mfrozen_graph\u001B[49m\u001B[43m,\u001B[49m\u001B[43m \u001B[49m\u001B[43msignature\u001B[49m\u001B[43m,\u001B[49m\n\u001B[0;32m    700\u001B[0m \u001B[43m               \u001B[49m\u001B[43moutput_graph\u001B[49m\u001B[43m,\u001B[49m\u001B[43m \u001B[49m\u001B[43mtf_version\u001B[49m\u001B[43m,\u001B[49m\n\u001B[0;32m    701\u001B[0m \u001B[43m               \u001B[49m\u001B[43mquantization_dtype_map\u001B[49m\u001B[38;5;241;43m=\u001B[39;49m\u001B[43mquantization_dtype_map\u001B[49m\u001B[43m,\u001B[49m\n\u001B[0;32m    702\u001B[0m \u001B[43m               \u001B[49m\u001B[43mskip_op_check\u001B[49m\u001B[38;5;241;43m=\u001B[39;49m\u001B[43mskip_op_check\u001B[49m\u001B[43m,\u001B[49m\n\u001B[0;32m    703\u001B[0m \u001B[43m               \u001B[49m\u001B[43mstrip_debug_ops\u001B[49m\u001B[38;5;241;43m=\u001B[39;49m\u001B[43mstrip_debug_ops\u001B[49m\u001B[43m,\u001B[49m\n\u001B[0;32m    704\u001B[0m \u001B[43m               \u001B[49m\u001B[43mweight_shard_size_bytes\u001B[49m\u001B[38;5;241;43m=\u001B[39;49m\u001B[43mweight_shard_size_bytes\u001B[49m\u001B[43m,\u001B[49m\n\u001B[0;32m    705\u001B[0m \u001B[43m               \u001B[49m\u001B[43mexperiments\u001B[49m\u001B[38;5;241;43m=\u001B[39;49m\u001B[43mexperiments\u001B[49m\u001B[43m,\u001B[49m\n\u001B[0;32m    706\u001B[0m \u001B[43m               \u001B[49m\u001B[43minitializer_graph\u001B[49m\u001B[38;5;241;43m=\u001B[39;49m\u001B[43mfrozen_initializer_graph\u001B[49m\u001B[43m,\u001B[49m\n\u001B[0;32m    707\u001B[0m \u001B[43m               \u001B[49m\u001B[43mmetadata\u001B[49m\u001B[38;5;241;43m=\u001B[39;49m\u001B[43mmetadata\u001B[49m\u001B[43m)\u001B[49m\n",
      "File \u001B[1;32m~\\miniconda3\\envs\\PML_Projekt\\lib\\site-packages\\tensorflowjs\\converters\\tf_saved_model_conversion_v2.py:157\u001B[0m, in \u001B[0;36moptimize_graph\u001B[1;34m(graph, signature_def, output_graph, tf_version, quantization_dtype_map, skip_op_check, strip_debug_ops, weight_shard_size_bytes, experiments, initializer_graph, metadata)\u001B[0m\n\u001B[0;32m    154\u001B[0m unsupported \u001B[38;5;241m=\u001B[39m validate(graph_def, skip_op_check,\n\u001B[0;32m    155\u001B[0m                        strip_debug_ops)\n\u001B[0;32m    156\u001B[0m \u001B[38;5;28;01mif\u001B[39;00m unsupported:\n\u001B[1;32m--> 157\u001B[0m   \u001B[38;5;28;01mraise\u001B[39;00m \u001B[38;5;167;01mValueError\u001B[39;00m(\u001B[38;5;124m'\u001B[39m\u001B[38;5;124mUnsupported Ops in the model before optimization\u001B[39m\u001B[38;5;130;01m\\n\u001B[39;00m\u001B[38;5;124m'\u001B[39m \u001B[38;5;241m+\u001B[39m\n\u001B[0;32m    158\u001B[0m                    \u001B[38;5;124m'\u001B[39m\u001B[38;5;124m, \u001B[39m\u001B[38;5;124m'\u001B[39m\u001B[38;5;241m.\u001B[39mjoin(unsupported))\n\u001B[0;32m    160\u001B[0m \u001B[38;5;66;03m# first pass of grappler optimization, this is needed for batch norm folding.\u001B[39;00m\n\u001B[0;32m    161\u001B[0m config \u001B[38;5;241m=\u001B[39m config_pb2\u001B[38;5;241m.\u001B[39mConfigProto()\n",
      "\u001B[1;31mValueError\u001B[0m: Unsupported Ops in the model before optimization\nMatrixBandPart"
     ]
    }
   ],
   "source": [
    "import tensorflowjs as tfjs\n",
    "tfjs.converters.convert_tf_saved_model('./savedModel/', './tfjs')"
   ]
  },
  {
   "cell_type": "code",
   "execution_count": null,
   "metadata": {
    "collapsed": false
   },
   "outputs": [],
   "source": []
  }
 ],
 "metadata": {
  "kernelspec": {
   "display_name": "Python 3",
   "language": "python",
   "name": "python3"
  },
  "language_info": {
   "codemirror_mode": {
    "name": "ipython",
    "version": 3
   },
   "file_extension": ".py",
   "mimetype": "text/x-python",
   "name": "python",
   "nbconvert_exporter": "python",
   "pygments_lexer": "ipython3",
   "version": "3.11.4"
  }
 },
 "nbformat": 4,
 "nbformat_minor": 0
}
